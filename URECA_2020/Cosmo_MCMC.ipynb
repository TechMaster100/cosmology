{
 "cells": [
  {
   "cell_type": "code",
   "execution_count": 1,
   "metadata": {
    "scrolled": true
   },
   "outputs": [
    {
     "name": "stdout",
     "output_type": "stream",
     "text": [
      "Populating the interactive namespace from numpy and matplotlib\n"
     ]
    }
   ],
   "source": [
    "%pylab inline\n",
    "%config InlineBackend.figure_format = 'retina'\n",
    "import scipy.stats as stats\n",
    "import scipy.integrate as integrate\n",
    "import numpy as np\n",
    "import matplotlib.pyplot as plt\n",
    "import csv"
   ]
  },
  {
   "cell_type": "markdown",
   "metadata": {},
   "source": [
    "Function dictionary"
   ]
  },
  {
   "cell_type": "code",
   "execution_count": 2,
   "metadata": {},
   "outputs": [],
   "source": [
    "# Calculate E(z), which in this situation depends on w\n",
    "def E(z_i, w, omega_m, omega_l):\n",
    "    omega_k = 1.0 - omega_m - omega_l\n",
    "    E = np.sqrt(omega_m * (1.0 + z_i)**3 + omega_k * (1.0 + z_i)**2 + omega_l * (1.0+z_i)**(3.0*(1.0+w)))\n",
    "    return E\n",
    "\n",
    "# Calculate the integral D_C/D_H, store it in an array\n",
    "def DCDH_int(z_limit, w, omega_m, omega_l):\n",
    "    f = lambda z_i: 1.0 / E(z_i, w, omega_m, omega_l)\n",
    "    i = integrate.quad(f, 0, z_limit)\n",
    "    return i[0]\n",
    "\n",
    "# -----------------------------------------------------------------------------------\n",
    "\n",
    "# Proper Motion distance integrals\n",
    "\n",
    "# proper motion distance for omega_l == 0\n",
    "def prop_motion_0(z, w, omega_m, omega_l):\n",
    "\n",
    "    # find omega_k = 1 - omega_m - omega_l\n",
    "    omega_k = 1.0 - omega_m - omega_l\n",
    "\n",
    "    # Calculate D_M/D_H for different universe geometries\n",
    "    # open universe (omega_k > 0)\n",
    "    if (omega_k > 1.0e-6):\n",
    "        return 1/np.sqrt(omega_k) * np.sinh( np.sqrt(omega_k) * DCDH_int(z,w,omega_m,omega_l) )\n",
    "    # closed universe (omega_k < 0)\n",
    "    elif (omega_k < -1.0e-6):\n",
    "        return 1/np.sqrt(abs(omega_k)) * np.sin( np.sqrt(abs(omega_k)) * DCDH_int(z,w,omega_m,omega_l) )\n",
    "    # flat universe (omega_k = 0)\n",
    "    else:\n",
    "        return 2.0*( 2.0 - omega_m*(1.0-z) - (2-omega_m)*np.sqrt(1.0+omega_m*z) ) / ( omega_m*omega_m*(1.0+z) )\n",
    "\n",
    "# proper motion distance for omega_l != 0\n",
    "def prop_motion(z, w, omega_m, omega_l):\n",
    "        \n",
    "    # find omega_k = 1 - omega_m - omega_l\n",
    "    omega_k = 1.0 - omega_m - omega_l\n",
    "    \n",
    "    # Calculate D_C/D_H integral\n",
    "    DCDH = DCDH_int(z,w,omega_m,omega_l)\n",
    "    \n",
    "    # Calculate D_M/D_H for different universe geometries\n",
    "    # open universe\n",
    "    if (omega_k > 1.0e-6):\n",
    "        return 1/np.sqrt(omega_k) * np.sinh( np.sqrt(omega_k) * DCDH )\n",
    "    # closed universe\n",
    "    elif (omega_k < -1.0e-6):\n",
    "        return 1/np.sqrt(abs(omega_k)) * np.sin( np.sqrt(abs(omega_k)) * DCDH )\n",
    "    # flat universe\n",
    "    else:\n",
    "        return DCDH\n",
    "\n",
    "# --------------------------------------------------------------------------------------------\n",
    "\n",
    "# distance modulus\n",
    "\n",
    "def dist_mod(z, D_H, omega_m, omega_l, DMDH):\n",
    "    \n",
    "    # initialize the distance modulus value\n",
    "    mu = 0.0\n",
    "    \n",
    "    # convert D_H from Mpc to pc\n",
    "    DH = D_H * 1.0e6\n",
    "    \n",
    "    # Determine D_M/D_H\n",
    "    if (omega_l == 0):\n",
    "        DMDH = prop_motion_0(z, w, omega_m, omega_l)\n",
    "    else:\n",
    "        DMDH = prop_motion(z, w, omega_m, omega_l)\n",
    "\n",
    "    # calculate each value of mu array\n",
    "    #for i in range(len(z)):\n",
    "        #mu[i] = 5.0 * ( np.log10(1.0+z[i]) + np.log10(DCDH_int(z[i], omega_m, omega_l)) + np.log10(D_H/10) )\n",
    "    mu = 5.0 * ( np.log10(1.0+z) + np.log10(DMDH) + np.log10(D_H/10) )\n",
    "    \n",
    "    return mu"
   ]
  },
  {
   "cell_type": "markdown",
   "metadata": {},
   "source": [
    "Variable dictionary"
   ]
  },
  {
   "cell_type": "code",
   "execution_count": 3,
   "metadata": {},
   "outputs": [],
   "source": [
    "# Constants\n",
    "omega_k = 0                     # critical density\n",
    "c = 2.9979e5                    # speed of light (km/s)\n",
    "omega_l = None                  # energy density\n",
    "pressure = 0.0                  # pressure of the universe\n",
    "\n",
    "# Parameters we are trying to find\n",
    "omega_m = None                  # mass density parameter\n",
    "w = None                        # equation of state\n",
    "dm_offset = None                # offset of the model from the data\n",
    "\n",
    "# Variable dictionary\n",
    "H = None                        # Hubble constant (km/s/Mpc)\n",
    "z = None                        # redshift\n",
    "D_C = None                      # comoving distance, line-of-sight (m)\n",
    "D_M = None                      # comoving distance, transverse (m)\n",
    "D_A = None                      # angular diameter distance (m)\n",
    "D_L = None                      # luminosity distance (m)\n",
    "V_C = None                      # comoving volume (m^3)\n",
    "D_H = None                      # Hubble Distance (Mpc)\n",
    "array_size = None               # size of each array, which is the number of z values\n",
    "param_text = \"\"                 # label for the plots\n",
    "npts = None                     # Number of points (omega_m, w) we use\n",
    "\n",
    "# Output arrays\n",
    "z = None;                       # Array of input values of z\n",
    "DMDH = np.array([])             # Array of output values of D_M/D_H\n",
    "DADH = np.array([])             # Array of output values of D_A/D_H\n",
    "DLDH = np.array([])             # Array of output values of D_L/D_H\n",
    "dmod = np.array([])             # distance modulus array\n",
    "DVC = np.array([])              # comoving volume array\n",
    "tLtH = np.array([])             # Array of lookback times\n",
    "age = np.array([])              # Array of ages\n",
    "dPdz = np.array([])             # dimensionless intersection probability\n",
    "\n",
    "# Calculate Hubble distance\n",
    "H = 70.0                        # Hubble constant\n",
    "D_H = c / H                     # Hubble distance"
   ]
  },
  {
   "cell_type": "markdown",
   "metadata": {},
   "source": [
    "Extract redshifts and distance moduli from text file"
   ]
  },
  {
   "cell_type": "code",
   "execution_count": 4,
   "metadata": {},
   "outputs": [],
   "source": [
    "# Begin by collecting csv data and making a scatter plot of it\n",
    "zs = []\n",
    "dm_obs = []\n",
    "sigmas = []\n",
    "\n",
    "with open('ps1_data.txt', newline='') as csvfile:\n",
    "    ps1_data = csv.reader(csvfile, delimiter=' ')\n",
    "    i = 0\n",
    "    for row in ps1_data:\n",
    "        if (i > 0):\n",
    "            zs.append(float(row[1]))\n",
    "            dm_obs.append(float(row[4]))\n",
    "            sigmas.append(float(row[5]))\n",
    "        i+= 1\n",
    "        \n",
    "#plt.scatter(zs, dm_obs)"
   ]
  },
  {
   "cell_type": "code",
   "execution_count": 5,
   "metadata": {},
   "outputs": [],
   "source": [
    "#print('z\\tdm')\n",
    "#for z, dm in zip(zs, dm_obs):\n",
    "#    print('{:.3f}\\t{:.3f}'.format(z, dm))"
   ]
  },
  {
   "cell_type": "markdown",
   "metadata": {},
   "source": [
    "Proposal"
   ]
  },
  {
   "cell_type": "code",
   "execution_count": 6,
   "metadata": {},
   "outputs": [],
   "source": [
    "# proposal function q(x'|x) where x is a 2-component vector\n",
    "def q(x):\n",
    "    # draw from a multivariate gaussian with mean [0,0] and covariance matrix I\n",
    "    # Add the randomly drawn number to x and return the sum\n",
    "    mu = np.array([0.0, 0.0, 0.0])\n",
    "    sigma = np.matrix([ [1.0,0.0,0.0], [0.0,1.0,0.0], [0.0,0.0,1.0] ])    # covariance matrix\n",
    "    q = stats.multivariate_normal.rvs(mean=mu, cov=sigma)\n",
    "    return x + q"
   ]
  },
  {
   "cell_type": "markdown",
   "metadata": {},
   "source": [
    "Part (a)"
   ]
  },
  {
   "cell_type": "code",
   "execution_count": 7,
   "metadata": {},
   "outputs": [],
   "source": [
    "# density function f(x) is the log likelihood of the data given parameters\n",
    "# takes a vector x = (x1, x2) as input\n",
    "def make_log_likelihood(zs, D_H):\n",
    "    \n",
    "    def log_likelihood(omega_m, w, dm_offset):\n",
    "        \n",
    "        # Assume a flat universe, i.e. omega_l = 1 - omega_m\n",
    "        omega_l = 1.0 - omega_m\n",
    "                \n",
    "        # initialize the log likelihood function\n",
    "        ln_likelihood = 0.0\n",
    "\n",
    "        # loop for all values of z in the z-array\n",
    "        for i in range(len(zs)):\n",
    "            \n",
    "            # initialize for each iteration\n",
    "            z_i = zs[i]\n",
    "            sigma_dm_i = sigmas[i]\n",
    "            dm_obs_i = dm_obs[i]\n",
    "            \n",
    "            # calculate predicted value of distance modulus based on z-value and parameters\n",
    "            DMDH_i = prop_motion(z_i, w, omega_m, omega_l)    # proper motion distance\n",
    "            dm_pred_i = dist_mod(z_i, D_H, omega_m, omega_l, DMDH_i) + dm_offset    # distance modulus\n",
    "\n",
    "            # calculate each term\n",
    "            term = np.log(1.0 / (sigma_dm_i*np.sqrt(2.0*np.pi))) \\\n",
    "            - 0.5 * (dm_obs_i-dm_pred_i) * (dm_obs_i-dm_pred_i) / (sigma_dm_i*sigma_dm_i)\n",
    "\n",
    "            # increment log-likelihood\n",
    "            ln_likelihood += term\n",
    "\n",
    "            # print statement to debug code\n",
    "            #print(\"x: \" + str(xi) + \" | sigma: \" + str(sigma_i) + \" | Term being added: \" + str(term))\n",
    "            \n",
    "        return ln_likelihood\n",
    "        \n",
    "    return log_likelihood"
   ]
  },
  {
   "cell_type": "markdown",
   "metadata": {},
   "source": [
    "Run MCMC"
   ]
  },
  {
   "cell_type": "code",
   "execution_count": null,
   "metadata": {},
   "outputs": [
    {
     "name": "stderr",
     "output_type": "stream",
     "text": [
      "<ipython-input-2-0e9f940a502b>:4: RuntimeWarning: invalid value encountered in sqrt\n",
      "  E = np.sqrt(omega_m * (1.0 + z_i)**3 + omega_k * (1.0 + z_i)**2 + omega_l * (1.0+z_i)**(3.0*(1.0+w)))\n",
      "<ipython-input-2-0e9f940a502b>:10: IntegrationWarning: The occurrence of roundoff error is detected, which prevents \n",
      "  the requested tolerance from being achieved.  The error may be \n",
      "  underestimated.\n",
      "  i = integrate.quad(f, 0, z_limit)\n"
     ]
    }
   ],
   "source": [
    "# Create the lnf function\n",
    "lnf = make_log_likelihood(zs, D_H)\n",
    "\n",
    "# Markov chain\n",
    "mchain = [[0.0,0.0,0.0]]    # array of V, R ordered pairs \n",
    "                         # for the Hubble distance and and z-value\n",
    "\n",
    "for i in range(100):\n",
    "    \n",
    "    # Take the last entry in the Markov chain\n",
    "    params = mchain[-1]\n",
    "    \n",
    "    omega_m = params[0]\n",
    "    w = params[1]\n",
    "    dm_offset = params[2]\n",
    "\n",
    "    # propose a new point in the parameter space\n",
    "    params_new = q(params)\n",
    "    \n",
    "    omega_m_new = params_new[0]\n",
    "    w_new = params_new[1]\n",
    "    dm_offset_new = params_new[2]\n",
    "    \n",
    "    # accept if acceptance ratio is greater than \n",
    "    # a randomly generated value from 0 to 1\n",
    "    accept_diff = lnf(omega_m_new, w_new, dm_offset_new) - lnf(omega_m, w, dm_offset)\n",
    "    if math.log(rand()) < accept_diff:\n",
    "        mchain.append(params_new)\n",
    "    else:\n",
    "        mchain.append(params)"
   ]
  },
  {
   "cell_type": "code",
   "execution_count": null,
   "metadata": {},
   "outputs": [],
   "source": [
    "#plot(xs)"
   ]
  },
  {
   "cell_type": "code",
   "execution_count": null,
   "metadata": {},
   "outputs": [],
   "source": [
    "# Extract V- and R-coordinates from the array of vectors\n",
    "omegams = []    # list of omega_m values\n",
    "ws = []         # list of w values\n",
    "offsets = []    # list of dm offsets\n",
    "\n",
    "for i in mchain:\n",
    "    omegams.append(i[0])\n",
    "    ws.append(i[1])\n",
    "    offsets.append(i[2])\n",
    "# Variation of the loop: use an if statement to omit burn-in points\n",
    "#for i in VRs:\n",
    "    #"
   ]
  },
  {
   "cell_type": "code",
   "execution_count": null,
   "metadata": {},
   "outputs": [],
   "source": [
    "# Trace the evolution of V and R values over iterations\n",
    "subplot(311)\n",
    "title('omega_m values')\n",
    "plot(omegams)\n",
    "\n",
    "subplot(312)\n",
    "title('w values')\n",
    "plot(ws)\n",
    "\n",
    "subplot(313)\n",
    "title('offset values')\n",
    "plot(offsets)\n",
    "\n",
    "show()"
   ]
  },
  {
   "cell_type": "code",
   "execution_count": null,
   "metadata": {},
   "outputs": [],
   "source": [
    "    \n",
    "# Generate 1-dimensional histograms of V- and R-coordinates and 2-dimensional scatterplot\n",
    "subplot(221)\n",
    "title('V values')\n",
    "hist(Vs, density=True, bins=20)\n",
    "\n",
    "subplot(224)\n",
    "title('R values')\n",
    "hist(Rs, density=True, bins=20)\n",
    "\n",
    "subplot(223)\n",
    "title('R vs V')\n",
    "scatter(Vs, Rs)\n",
    "plt.xlabel('V')\n",
    "plt.ylabel('R')\n",
    "\n",
    "tight_layout()\n",
    "\n",
    "show()"
   ]
  },
  {
   "cell_type": "code",
   "execution_count": null,
   "metadata": {},
   "outputs": [],
   "source": []
  }
 ],
 "metadata": {
  "kernelspec": {
   "display_name": "Python 3",
   "language": "python",
   "name": "python3"
  },
  "language_info": {
   "codemirror_mode": {
    "name": "ipython",
    "version": 3
   },
   "file_extension": ".py",
   "mimetype": "text/x-python",
   "name": "python",
   "nbconvert_exporter": "python",
   "pygments_lexer": "ipython3",
   "version": "3.8.2"
  }
 },
 "nbformat": 4,
 "nbformat_minor": 4
}
