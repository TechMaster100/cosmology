{
 "cells": [
  {
   "cell_type": "markdown",
   "metadata": {},
   "source": [
    "Import all necessary modules"
   ]
  },
  {
   "cell_type": "code",
   "execution_count": 1,
   "metadata": {},
   "outputs": [],
   "source": [
    "import math\n",
    "import numpy as np\n",
    "import scipy.integrate as integrate\n",
    "import matplotlib.pyplot as plt\n",
    "import csv\n",
    "import time"
   ]
  },
  {
   "cell_type": "markdown",
   "metadata": {},
   "source": [
    "Function Dictionary"
   ]
  },
  {
   "cell_type": "code",
   "execution_count": 2,
   "metadata": {},
   "outputs": [],
   "source": [
    "# log likelihood function\n",
    "def lnf(xs, mu, sigmas):\n",
    "    # initialize the log likelihood function\n",
    "    lnf = 0.0\n",
    "    \n",
    "    # optional statement: if mus is not an array, then create\n",
    "    # an array of entries length xs, all with identical value mu)\n",
    "    #mu_array = np.full(len(xs),mu)\n",
    "    \n",
    "    # loop for all values of x in the x-array\n",
    "    for i in range(len(xs)):\n",
    "        xi = xs[i]\n",
    "        mu_i = mu\n",
    "        sigma_i = sigmas[i]\n",
    "        \n",
    "        term = np.log(1.0 / (sigma_i*np.sqrt(2.0*np.pi))) \\\n",
    "        - 0.5 * (xi-mu_i) * (xi-mu_i) / (sigma_i*sigma_i)\n",
    "    \n",
    "        # increment lnf\n",
    "        lnf += term\n",
    "        \n",
    "        # print statement to debug code\n",
    "        print(\"x: \" + str(xi) + \" | sigma: \" + str(sigma_i) + \" | Term being added: \" + str(term))\n",
    "        \n",
    "    return lnf"
   ]
  },
  {
   "cell_type": "markdown",
   "metadata": {},
   "source": [
    "We define the log likelihood function as follows: We start with the likelihood formula\n",
    "$$L = \\prod_{i=1}^N \\frac{1}{\\sigma_i\\sqrt{2\\pi}}exp\\left(-\\frac{1}{2}\\left(\\frac{x_i-\\mu}{\\sigma_i}\\right)^2\\right)$$\n",
    "Taking the natural logarithm of both sides yields:\n",
    "$$ln(L) = \\sum_{i=1}^N ln\\left[ \\frac{1}{\\sigma_i\\sqrt{2\\pi}}exp\\left(-\\frac{1}{2}\\left(\\frac{x_i-\\mu}{\\sigma_i}\\right)^2\\right) \\right]$$\n",
    "$$ln(L) = \\sum_{i=1}^N \\left[ ln \\left(\\frac{1}{\\sigma_i\\sqrt{2\\pi}}\\right) + ln \\left[exp\\left(-\\frac{1}{2}\\left(\\frac{x_i-\\mu}{\\sigma_i}\\right)^2\\right) \\right] \\right]$$\n",
    "\n",
    "Therefore, our log likelihood function is:\n",
    "$$ln(L) = \\sum_{i=1}^N \\left[ ln \\left(\\frac{1}{\\sigma_i\\sqrt{2\\pi}}\\right) -\\frac{1}{2}\\left(\\frac{x_i-\\mu}{\\sigma_i}\\right)^2\\right]$$\n"
   ]
  },
  {
   "cell_type": "markdown",
   "metadata": {},
   "source": [
    "Collect data from CSV:"
   ]
  },
  {
   "cell_type": "code",
   "execution_count": 3,
   "metadata": {},
   "outputs": [],
   "source": [
    "xs = []\n",
    "sigmas = []\n",
    "\n",
    "with open('log_likelihood_data.csv', 'r', newline='') as csvfile:\n",
    "    lnf_data = csv.reader(csvfile, delimiter='\\t')\n",
    "    \n",
    "    i = 0\n",
    "    for row in lnf_data:\n",
    "        if (i>0):\n",
    "            xs.append(float(row[0]))\n",
    "            sigmas.append(float(row[2]))\n",
    "        i+=1\n",
    "\n",
    "csvfile.close()\n",
    "\n",
    "# Convert to array datatype\n",
    "xs = np.array(xs)\n",
    "sigmas = np.array(sigmas)"
   ]
  },
  {
   "cell_type": "code",
   "execution_count": 4,
   "metadata": {},
   "outputs": [
    {
     "name": "stdout",
     "output_type": "stream",
     "text": [
      "xs:\n",
      "[ 2.17 -0.12  2.18  1.47 -1.68  2.4  -1.45  0.74 -0.11  3.85 -0.78 -1.34\n",
      " -0.18 -0.21 -1.08  0.04  0.66  2.46  4.39  1.26 -3.26  2.48  1.18 -0.51\n",
      "  1.34  1.5   3.97  2.15  0.12  0.72 -2.86  1.54  0.89  0.62  2.86  0.32\n",
      "  2.37 -0.74 -1.38]\n",
      "39\n"
     ]
    }
   ],
   "source": [
    "print(\"xs:\")\n",
    "print(xs)\n",
    "print(len(sigmas))"
   ]
  },
  {
   "cell_type": "markdown",
   "metadata": {},
   "source": [
    "Calculate the log likelihood of x given mu and sigma."
   ]
  },
  {
   "cell_type": "code",
   "execution_count": 15,
   "metadata": {},
   "outputs": [
    {
     "name": "stdout",
     "output_type": "stream",
     "text": [
      "mu=0.0\n",
      "x: 2.17 | sigma: 2.22 | Term being added: -2.194176838576727\n",
      "x: -0.12 | sigma: 2.44 | Term being added: -1.812145924834427\n",
      "x: 2.18 | sigma: 2.56 | Term being added: -2.2215251373992686\n",
      "x: 1.47 | sigma: 2.33 | Term being added: -1.9638250181007073\n",
      "x: -1.68 | sigma: 2.59 | Term being added: -2.0809689436129784\n",
      "x: 2.4 | sigma: 2.04 | Term being added: -2.323929863552147\n",
      "x: -1.45 | sigma: 2.59 | Term being added: -2.027309934355513\n",
      "x: 0.74 | sigma: 2.65 | Term being added: -1.9324871372469474\n",
      "x: -0.11 | sigma: 2.48 | Term being added: -1.8281807692400442\n",
      "x: 3.85 | sigma: 2.22 | Term being added: -3.220229918683861\n",
      "x: -0.78 | sigma: 2.36 | Term being added: -1.8322180781255581\n",
      "x: -1.34 | sigma: 2.68 | Term being added: -2.029755327727438\n",
      "x: -0.18 | sigma: 2.46 | Term being added: -1.8217768611382361\n",
      "x: -0.21 | sigma: 2.19 | Term being added: -1.7074375624900158\n",
      "x: -1.08 | sigma: 2.36 | Term being added: -1.8823114421014273\n",
      "x: 0.04 | sigma: 2.54 | Term being added: -1.8512266144831184\n",
      "x: 0.66 | sigma: 2.92 | Term being added: -2.01606634164099\n",
      "x: 2.46 | sigma: 2.21 | Term being added: -2.3314515335728916\n",
      "x: 4.39 | sigma: 2.09 | Term being added: -3.8621074983366315\n",
      "x: 1.26 | sigma: 2.44 | Term being added: -1.9442676663017744\n",
      "x: -3.26 | sigma: 2.1 | Term being added: -2.8658191885916464\n",
      "x: 2.48 | sigma: 2.31 | Term being added: -2.3324871015718864\n",
      "x: 1.18 | sigma: 2.74 | Term being added: -2.019629151137818\n",
      "x: -0.51 | sigma: 2.44 | Term being added: -1.8327804988736638\n",
      "x: 1.34 | sigma: 2.32 | Term being added: -1.9273086320814643\n",
      "x: 1.5 | sigma: 2.02 | Term being added: -1.8977443085134826\n",
      "x: 3.97 | sigma: 2.77 | Term being added: -2.964835599914366\n",
      "x: 2.15 | sigma: 2.51 | Term being added: -2.2060805425506476\n",
      "x: 0.12 | sigma: 2.17 | Term being added: -1.695194720273276\n",
      "x: 0.72 | sigma: 2.8 | Term being added: -1.9816191748756267\n",
      "x: -2.86 | sigma: 2.37 | Term being added: -2.5099525425453066\n",
      "x: 1.54 | sigma: 2.0 | Term being added: -1.9085357137646182\n",
      "x: 0.89 | sigma: 2.91 | Term being added: -2.0338612557480014\n",
      "x: 0.62 | sigma: 2.75 | Term being added: -1.9559543209162105\n",
      "x: 2.86 | sigma: 2.1 | Term being added: -2.588268168183483\n",
      "x: 0.32 | sigma: 2.75 | Term being added: -1.9373096928170368\n",
      "x: 2.37 | sigma: 2.72 | Term being added: -2.299172759965866\n",
      "x: -0.74 | sigma: 2.18 | Term being added: -1.7558764055447664\n",
      "x: -1.38 | sigma: 2.96 | Term being added: -2.1128065816721247\n",
      "log likelihood=-83.70863477106201\n"
     ]
    }
   ],
   "source": [
    "mu = 0.0\n",
    "print(\"mu=\" + str(mu))\n",
    "print(\"log likelihood=\" + str(lnf(xs, mu, sigmas)))\n"
   ]
  },
  {
   "cell_type": "code",
   "execution_count": 16,
   "metadata": {},
   "outputs": [
    {
     "name": "stdout",
     "output_type": "stream",
     "text": [
      "mu=1.0\n",
      "x: 2.17 | sigma: 2.22 | Term being added: -1.8553244726973341\n",
      "x: -0.12 | sigma: 2.44 | Term being added: -1.9162845972343194\n",
      "x: 2.18 | sigma: 2.56 | Term being added: -1.9651774811492686\n",
      "x: 1.47 | sigma: 2.33 | Term being added: -1.7851516220167862\n",
      "x: -1.68 | sigma: 2.59 | Term being added: -2.4059491913731486\n",
      "x: 2.4 | sigma: 2.04 | Term being added: -1.867374692464104\n",
      "x: -1.45 | sigma: 2.59 | Term being added: -2.3180032752419044\n",
      "x: 0.74 | sigma: 2.65 | Term being added: -1.8983112739504007\n",
      "x: -0.11 | sigma: 2.48 | Term being added: -1.927361310343062\n",
      "x: 3.85 | sigma: 2.22 | Term being added: -2.5404961308419653\n",
      "x: -0.78 | sigma: 2.36 | Term being added: -2.0620370956492584\n",
      "x: -1.34 | sigma: 2.68 | Term being added: -2.285937105406208\n",
      "x: -0.18 | sigma: 2.46 | Term being added: -1.934143838466546\n",
      "x: -0.21 | sigma: 2.19 | Term being added: -1.8554745091758647\n",
      "x: -1.08 | sigma: 2.36 | Term being added: -2.1659942918572446\n",
      "x: 0.04 | sigma: 2.54 | Term being added: -1.9225267570834035\n",
      "x: 0.66 | sigma: 2.92 | Term being added: -1.997301094877995\n",
      "x: 2.46 | sigma: 2.21 | Term being added: -1.9301493489329375\n",
      "x: 4.39 | sigma: 2.09 | Term being added: -2.971560120758279\n",
      "x: 1.26 | sigma: 2.44 | Term being added: -1.8166138098115836\n",
      "x: -3.26 | sigma: 2.1 | Term being added: -3.718426898342213\n",
      "x: 2.48 | sigma: 2.31 | Term being added: -1.9614295876572294\n",
      "x: 1.18 | sigma: 2.74 | Term being added: -1.9290542670203903\n",
      "x: -0.51 | sigma: 2.44 | Term being added: -2.0024257555251017\n",
      "x: 1.34 | sigma: 2.32 | Term being added: -1.7712444228067914\n",
      "x: 1.5 | sigma: 2.02 | Term being added: -1.6526702961617525\n",
      "x: 3.97 | sigma: 2.77 | Term being added: -2.5125945958611395\n",
      "x: 2.15 | sigma: 2.51 | Term being added: -1.944179937798342\n",
      "x: 0.12 | sigma: 2.17 | Term being added: -1.7758929725190233\n",
      "x: 0.72 | sigma: 2.8 | Term being added: -1.9535579503858307\n",
      "x: -2.86 | sigma: 2.37 | Term being added: -3.10814727629524\n",
      "x: 1.54 | sigma: 2.0 | Term being added: -1.6485357137646182\n",
      "x: 0.89 | sigma: 2.91 | Term being added: -1.9878060603676915\n",
      "x: 0.62 | sigma: 2.75 | Term being added: -1.940086552321169\n",
      "x: 2.86 | sigma: 2.1 | Term being added: -2.0531207758932335\n",
      "x: 0.32 | sigma: 2.75 | Term being added: -1.9611113457095988\n",
      "x: 2.37 | sigma: 2.72 | Term being added: -2.046415407024689\n",
      "x: -0.74 | sigma: 2.18 | Term being added: -2.0167972034573998\n",
      "x: -1.38 | sigma: 2.96 | Term being added: -2.3273792624610214\n",
      "log likelihood=-81.73204830070407\n",
      "mu=2.0\n",
      "x: 2.17 | sigma: 2.22 | Term being added: -1.7193777151289549\n",
      "x: -0.12 | sigma: 2.44 | Term being added: -2.1883888702792\n",
      "x: 2.18 | sigma: 2.56 | Term being added: -1.8614177155242686\n",
      "x: 1.47 | sigma: 2.33 | Term being added: -1.7906776033389693\n",
      "x: -1.68 | sigma: 2.59 | Term being added: -2.8800029472801865\n",
      "x: 2.4 | sigma: 2.04 | Term being added: -1.6511117166855573\n",
      "x: -1.45 | sigma: 2.59 | Term being added: -2.757770124275163\n",
      "x: 0.74 | sigma: 2.65 | Term being added: -2.006534841056132\n",
      "x: -0.11 | sigma: 2.48 | Term being added: -2.189132902434633\n",
      "x: 3.85 | sigma: 2.22 | Term being added: -2.063667951311083\n",
      "x: -0.78 | sigma: 2.36 | Term being added: -2.4714022206133492\n",
      "x: -1.34 | sigma: 2.68 | Term being added: -2.68134811008431\n",
      "x: -0.18 | sigma: 2.46 | Term being added: -2.211756370689429\n",
      "x: -0.21 | sigma: 2.19 | Term being added: -2.2120141976727683\n",
      "x: -1.08 | sigma: 2.36 | Term being added: -2.6292232490534526\n",
      "x: 0.04 | sigma: 2.54 | Term being added: -2.148827209684309\n",
      "x: 0.66 | sigma: 2.92 | Term being added: -2.0958186403837185\n",
      "x: 2.46 | sigma: 2.21 | Term being added: -1.7335931768643886\n",
      "x: 4.39 | sigma: 2.09 | Term being added: -2.309945230989272\n",
      "x: 1.26 | sigma: 2.44 | Term being added: -1.8569255539663807\n",
      "x: -3.26 | sigma: 2.1 | Term being added: -4.797791977707292\n",
      "x: 2.48 | sigma: 2.31 | Term being added: -1.7777748585479547\n",
      "x: 1.18 | sigma: 2.74 | Term being added: -1.9716777418991798\n",
      "x: -0.51 | sigma: 2.44 | Term being added: -2.3400366128215273\n",
      "x: 1.34 | sigma: 2.32 | Term being added: -1.80097093885911\n",
      "x: 1.5 | sigma: 2.02 | Term being added: -1.6526702961617525\n",
      "x: 3.97 | sigma: 2.77 | Term being added: -2.190682411419794\n",
      "x: 2.15 | sigma: 2.51 | Term being added: -1.841006972289858\n",
      "x: 0.12 | sigma: 2.17 | Term being added: -2.068955046464106\n",
      "x: 0.72 | sigma: 2.8 | Term being added: -2.0530477463041983\n",
      "x: -2.86 | sigma: 2.37 | Term being added: -3.8843761569945574\n",
      "x: 1.54 | sigma: 2.0 | Term being added: -1.6385357137646182\n",
      "x: 0.89 | sigma: 2.91 | Term being added: -2.0598411095522784\n",
      "x: 0.62 | sigma: 2.75 | Term being added: -2.0564501886848054\n",
      "x: 2.86 | sigma: 2.1 | Term being added: -1.7447307532174967\n",
      "x: 0.32 | sigma: 2.75 | Term being added: -2.1171444035608387\n",
      "x: 2.37 | sigma: 2.72 | Term being added: -1.9288224139451047\n",
      "x: -0.74 | sigma: 2.18 | Term being added: -2.488137999686674\n",
      "x: -1.38 | sigma: 2.96 | Term being added: -2.6560863479248638\n",
      "log likelihood=-86.52767603712154\n"
     ]
    }
   ],
   "source": [
    "\n",
    "mu = 1.0\n",
    "print(\"mu=\" + str(mu))\n",
    "print(\"log likelihood=\" + str(lnf(xs, mu, sigmas)))\n",
    "\n",
    "mu = 2.0\n",
    "print(\"mu=\" + str(mu))\n",
    "print(\"log likelihood=\" + str(lnf(xs, mu, sigmas)))"
   ]
  },
  {
   "cell_type": "code",
   "execution_count": null,
   "metadata": {},
   "outputs": [],
   "source": []
  }
 ],
 "metadata": {
  "kernelspec": {
   "display_name": "Python 3",
   "language": "python",
   "name": "python3"
  },
  "language_info": {
   "codemirror_mode": {
    "name": "ipython",
    "version": 3
   },
   "file_extension": ".py",
   "mimetype": "text/x-python",
   "name": "python",
   "nbconvert_exporter": "python",
   "pygments_lexer": "ipython3",
   "version": "3.8.2"
  }
 },
 "nbformat": 4,
 "nbformat_minor": 4
}
