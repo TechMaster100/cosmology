{
 "cells": [
  {
   "cell_type": "markdown",
   "metadata": {},
   "source": [
    "Import all necessary modules"
   ]
  },
  {
   "cell_type": "code",
   "execution_count": 53,
   "metadata": {},
   "outputs": [],
   "source": [
    "import math\n",
    "import numpy as np\n",
    "import scipy.integrate as integrate\n",
    "import matplotlib.pyplot as plt\n",
    "import csv"
   ]
  },
  {
   "cell_type": "markdown",
   "metadata": {},
   "source": [
    "Function Dictionary"
   ]
  },
  {
   "cell_type": "code",
   "execution_count": 54,
   "metadata": {},
   "outputs": [],
   "source": [
    "# Calculate E(z)\n",
    "def E(z_i, omega_m, omega_l):\n",
    "    omega_k = 1.0 - omega_m - omega_l\n",
    "    E = np.sqrt(omega_m * (1.0 + z_i)**3 + omega_k * (1.0 + z_i)**2 + omega_l)\n",
    "    return E;\n",
    "\n",
    "# Calculate the integral D_C/D_H, store it in an array\n",
    "def DCDH_int(z_limit, omega_m, omega_l):\n",
    "    f = lambda z_i: 1.0 / E(z_i, omega_m, omega_l)\n",
    "    i = integrate.quad(f, 0, z_limit)\n",
    "    return i[0]"
   ]
  },
  {
   "cell_type": "code",
   "execution_count": 55,
   "metadata": {},
   "outputs": [],
   "source": [
    "# Proper Motion distance integrals\n",
    "\n",
    "# proper motion distance for omega_l == 0\n",
    "def prop_motion_0(z, DMDH, omega_m, omega_l):\n",
    "    # create the output array DMDH\n",
    "    DMDH = np.copy(z);\n",
    "\n",
    "    # find omega_k = 1 - omega_m - omega_l\n",
    "    omega_k = 1.0 - omega_m - omega_l\n",
    "    print(r\"$\\Omega_k =$ \" + str(omega_k))\n",
    "    print(r\"$\\Omega_\\Mu =$ \" + str(omega_m))\n",
    "    print(r\"$\\Omega_\\Lambda =$ \" + str(omega_l))\n",
    "\n",
    "    # Calculate D_M/D_H for different universe geometries\n",
    "    # open universe\n",
    "    if (omega_k > 1.0e-6):\n",
    "        for i in range(len(z)):\n",
    "            DMDH[i] = 1/np.sqrt(omega_k) * np.sinh( np.sqrt(omega_k) * DCDH_int(z[i],omega_m,omega_l) )\n",
    "    # closed universe\n",
    "    elif (omega_k < -1.0e-6):\n",
    "        for i in range(len(z)):\n",
    "            DMDH[i] = 1/np.sqrt(abs(omega_k)) * np.sin( np.sqrt(abs(omega_k)) * DCDH_int(z[i],omega_m,omega_l) )\n",
    "    # flat universe\n",
    "    else:\n",
    "        DMDH = 2.0*( 2.0 - omega_m*(1.0-z) - (2-omega_m)*np.sqrt(1.0+omega_m*z) ) / ( omega_m*omega_m*(1.0+z) );\n",
    "\n",
    "    return DMDH\n",
    "\n",
    "# proper motion distance for omega_l != 0\n",
    "def prop_motion(z, DMDH, omega_m, omega_l):\n",
    "    DMDH = np.copy(z);\n",
    "    \n",
    "    # find omega_k = 1 - omega_m - omega_l\n",
    "    omega_k = 1.0 - omega_m - omega_l\n",
    "    print(omega_k)\n",
    "    \n",
    "    # Calculate D_M/D_H for different universe geometries\n",
    "    if (omega_k > 1.0e-6):\n",
    "        for i in range(len(z)):\n",
    "            DMDH[i] = 1/np.sqrt(omega_k) * np.sinh( np.sqrt(omega_k) * DCDH_int(z[i],omega_m,omega_l) )\n",
    "    # closed universe\n",
    "    elif (omega_k < -1.0e-6):\n",
    "        for i in range(len(z)):\n",
    "            DMDH[i] = 1/np.sqrt(abs(omega_k)) * np.sin( np.sqrt(abs(omega_k)) * DCDH_int(z[i],omega_m,omega_l) )\n",
    "    # flat universe\n",
    "    else:\n",
    "        for i in range(len(z)):\n",
    "            DMDH[i] = DCDH_int(z[i], omega_m, omega_l)\n",
    "    return DMDH"
   ]
  },
  {
   "cell_type": "code",
   "execution_count": 56,
   "metadata": {},
   "outputs": [],
   "source": [
    "# angular diameter distance\n",
    "def dist_angdiam(z, DMDH, DADH, omega_m, omega_l):\n",
    "    DADH = np.copy(z);\n",
    "    DADH = DMDH / (1.0+z)\n",
    "    return DADH;\n",
    "\n",
    "# luminosity distance\n",
    "def dist_lum(z, DMDH, DLDH, omega_m, omega_l):\n",
    "    DLDH = np.copy(z)\n",
    "    DLDH = DMDH * (1.0+z)\n",
    "    return DLDH;\n",
    "\n",
    "# distance modulus\n",
    "def dist_mod(z, D_H, omega_m, omega_l, DMDH):\n",
    "    # initialize the distance modulus array\n",
    "    mu = np.copy(z)\n",
    "\n",
    "    # convert D_H from Mpc to pc\n",
    "    D_H = D_H * 1.0e6\n",
    "\n",
    "    # calculate each value of mu array\n",
    "    #for i in range(len(z)):\n",
    "        #mu[i] = 5.0 * ( np.log10(1.0+z[i]) + np.log10(DCDH_int(z[i], omega_m, omega_l)) + np.log10(D_H/10) )\n",
    "    mu = 5.0 * ( np.log10(1.0+z) + np.log10(DMDH) + np.log10(D_H/10) )\n",
    "    return mu;\n",
    "\n",
    "# comoving volume element\n",
    "def com_vol(z, DMDH, DVC, omega_m, omega_l, D_H):\n",
    "    DVC = np.copy(z)\n",
    "    for i in range(len(z)):\n",
    "        DVC[i] = DMDH[i]**2 * D_H**3 / ( E(z[i], omega_m, omega_l) )\n",
    "    return DVC;"
   ]
  },
  {
   "cell_type": "markdown",
   "metadata": {},
   "source": [
    "Variable Dictionary"
   ]
  },
  {
   "cell_type": "code",
   "execution_count": 69,
   "metadata": {},
   "outputs": [],
   "source": [
    "# Constants\n",
    "omega_k = 0                     # critical density\n",
    "c = 2.9979e5                    # speed of light (km/s)\n",
    "omega_m = None                  # mass density parameter\n",
    "w = None                        # equation of state\n",
    "omega_l = None                  # energy density\n",
    "pressure = 0.0                  # pressure of the universe\n",
    "\n",
    "# Variable dictionary\n",
    "H = None                        # Hubble constant (km/s/Mpc)\n",
    "z = None                        # redshift\n",
    "D_C = None                      # comoving distance, line-of-sight (m)\n",
    "D_M = None                      # comoving distance, transverse (m)\n",
    "D_A = None                      # angular diameter distance (m)\n",
    "D_L = None                      # luminosity distance (m)\n",
    "V_C = None                      # comoving volume (m^3)\n",
    "D_H = None                      # Hubble Distance (Mpc)\n",
    "array_size = None               # size of each array, which is the number of z values\n",
    "param_text = \"\"                 # label for the plots\n",
    "\n",
    "# Output arrays\n",
    "z = None;                       # Array of input values of z\n",
    "DMDH = np.array([])             # Array of output values of D_M/D_H\n",
    "DADH = np.array([])             # Array of output values of D_A/D_H\n",
    "DLDH = np.array([])             # Array of output values of D_L/D_H\n",
    "dmod = np.array([])             # distance modulus array\n",
    "DVC = np.array([])              # comoving volume array\n",
    "tLtH = np.array([])             # Array of lookback times\n",
    "age = np.array([])              # Array of ages\n",
    "dPdz = np.array([])             # dimensionless intersection probability"
   ]
  },
  {
   "cell_type": "markdown",
   "metadata": {},
   "source": [
    "We draw arrays of corresponding density parameters from Figure 20.\n",
    "\n",
    "We note that equation of state $w$ and energy density $\\Omega_\\Lambda$ are related as follows:\n",
    "$$w = \\frac{pressure}{\\Omega_\\Lambda}$$"
   ]
  },
  {
   "cell_type": "code",
   "execution_count": 70,
   "metadata": {},
   "outputs": [
    {
     "name": "stderr",
     "output_type": "stream",
     "text": [
      "<ipython-input-70-6fd72f42069d>:5: RuntimeWarning: invalid value encountered in true_divide\n",
      "  omegal_array = pressure / w_array\n"
     ]
    }
   ],
   "source": [
    "# arrays of density parameters\n",
    "omegam_array = np.array([1.0, 0.05, 0.2])\n",
    "w_array = np.array([0.0, 0.0, 0.8])\n",
    "omegal_array = np.copy(w_array)\n",
    "omegal_array = pressure / w_array\n",
    "\n",
    "# Note: remove this later\n",
    "# arrays of density parameters\n",
    "omegam_array = np.array([1.0, 0.05, 0.2])\n",
    "omegal_array = np.array([0.0, 0.0, 0.8])"
   ]
  },
  {
   "cell_type": "markdown",
   "metadata": {},
   "source": [
    "Take in values"
   ]
  },
  {
   "cell_type": "code",
   "execution_count": 71,
   "metadata": {},
   "outputs": [
    {
     "name": "stdout",
     "output_type": "stream",
     "text": [
      "Ω_k = 0.0\n",
      "z values:\n",
      "[0.         0.05050505 0.1010101  0.15151515 0.2020202  0.25252525\n",
      " 0.3030303  0.35353535 0.4040404  0.45454545 0.50505051 0.55555556\n",
      " 0.60606061 0.65656566 0.70707071 0.75757576 0.80808081 0.85858586\n",
      " 0.90909091 0.95959596 1.01010101 1.06060606 1.11111111 1.16161616\n",
      " 1.21212121 1.26262626 1.31313131 1.36363636 1.41414141 1.46464646\n",
      " 1.51515152 1.56565657 1.61616162 1.66666667 1.71717172 1.76767677\n",
      " 1.81818182 1.86868687 1.91919192 1.96969697 2.02020202 2.07070707\n",
      " 2.12121212 2.17171717 2.22222222 2.27272727 2.32323232 2.37373737\n",
      " 2.42424242 2.47474747 2.52525253 2.57575758 2.62626263 2.67676768\n",
      " 2.72727273 2.77777778 2.82828283 2.87878788 2.92929293 2.97979798\n",
      " 3.03030303 3.08080808 3.13131313 3.18181818 3.23232323 3.28282828\n",
      " 3.33333333 3.38383838 3.43434343 3.48484848 3.53535354 3.58585859\n",
      " 3.63636364 3.68686869 3.73737374 3.78787879 3.83838384 3.88888889\n",
      " 3.93939394 3.98989899 4.04040404 4.09090909 4.14141414 4.19191919\n",
      " 4.24242424 4.29292929 4.34343434 4.39393939 4.44444444 4.49494949\n",
      " 4.54545455 4.5959596  4.64646465 4.6969697  4.74747475 4.7979798\n",
      " 4.84848485 4.8989899  4.94949495 5.        ]\n"
     ]
    }
   ],
   "source": [
    "# Take in densities\n",
    "print(\"\\u03A9_k = 0.0\")     # omega_k = 0.0\n",
    "\n",
    "# Take in Hubble constant\n",
    "H = 70#float(input(\"Enter Hubble constant (in km/s/Mpc): \"))\n",
    "D_H = c / H                 # Hubble distance\n",
    "\n",
    "# Parameters for plot, including the range of redshift values and y-axis\n",
    "zmin = 0\n",
    "zmax = 5\n",
    "ymin = 0\n",
    "ymax = None\n",
    "\n",
    "# Define the array of z-values (redshift)\n",
    "z = np.linspace(zmin, zmax, 100)\n",
    "print(\"z values:\")\n",
    "print(z)"
   ]
  },
  {
   "cell_type": "markdown",
   "metadata": {},
   "source": [
    "Plot the Distance Modulus"
   ]
  },
  {
   "cell_type": "code",
   "execution_count": 72,
   "metadata": {},
   "outputs": [
    {
     "name": "stdout",
     "output_type": "stream",
     "text": [
      "Distance Modulus vs Redshift\n",
      "$\\Omega_k =$ 0.0\n",
      "$\\Omega_\\Mu =$ 1.0\n",
      "$\\Omega_\\Lambda =$ 0.0\n",
      "i = 0\n",
      "distance molulus DM + 5 log h\n",
      "$\\Omega_k =$ 0.95\n",
      "$\\Omega_\\Mu =$ 0.05\n",
      "$\\Omega_\\Lambda =$ 0.0\n",
      "i = 1\n",
      "distance molulus DM + 5 log h\n",
      "0.0\n",
      "i = 2\n",
      "distance molulus DM + 5 log h\n"
     ]
    },
    {
     "name": "stderr",
     "output_type": "stream",
     "text": [
      "<ipython-input-56-a499bbc14b13>:24: RuntimeWarning: divide by zero encountered in log10\n",
      "  mu = 5.0 * ( np.log10(1.0+z) + np.log10(DMDH) + np.log10(D_H/10) )\n",
      "<ipython-input-56-a499bbc14b13>:24: RuntimeWarning: divide by zero encountered in log10\n",
      "  mu = 5.0 * ( np.log10(1.0+z) + np.log10(DMDH) + np.log10(D_H/10) )\n",
      "<ipython-input-56-a499bbc14b13>:24: RuntimeWarning: divide by zero encountered in log10\n",
      "  mu = 5.0 * ( np.log10(1.0+z) + np.log10(DMDH) + np.log10(D_H/10) )\n"
     ]
    },
    {
     "data": {
      "image/png": "[encoded data removed]",
      "text/plain": [
       "<Figure size 432x288 with 1 Axes>"
      ]
     },
     "metadata": {
      "needs_background": "light"
     },
     "output_type": "display_data"
    }
   ],
   "source": [
    "print(\"Distance Modulus vs Redshift\");\n",
    "plt.title(\"Distance Modulus vs Redshift\");\n",
    "plt.xlabel(\"z\");\n",
    "plt.ylabel(\"distance modulus DM + 5 log h (mag)\");\n",
    "\n",
    "ymin = 30\n",
    "ymax = 50\n",
    "\n",
    "for i in range(len(omegam_array)):\n",
    "    omega_m = omegam_array[i]\n",
    "    omega_l = omegal_array[i]\n",
    "    if (omega_l == 0):\n",
    "        DMDH = prop_motion_0(z, DMDH, omega_m, omega_l)\n",
    "    else:\n",
    "        DMDH = prop_motion(z, DMDH, omega_m, omega_l)\n",
    "        \n",
    "    mu = dist_mod(z, D_H, omega_m, omega_l, DMDH)\n",
    "    print(\"i = \" + str(i))\n",
    "    print(\"distance molulus DM + 5 log h\")\n",
    "    #print(mu)\n",
    "    \n",
    "    param_text = r\"$\\left(\\Omega_M, \\Omega_\\Lambda\\right) = \" + \"(\" + str(omega_m) + \", \" + str(omega_l) + \")$\"\n",
    "    plt.plot(z, mu, label=param_text)\n",
    "    plt.xscale('symlog')\n",
    "\n",
    "plt.axis([zmin, zmax, ymin, ymax]);\n",
    "plt.legend(loc='lower right');\n",
    "plt.show()"
   ]
  },
  {
   "cell_type": "markdown",
   "metadata": {},
   "source": [
    "Generate a scatter plot of supernovae"
   ]
  },
  {
   "cell_type": "markdown",
   "metadata": {},
   "source": [
    "First, generate lists of data from the CSV file \"ps1_data.txt\":"
   ]
  },
  {
   "cell_type": "code",
   "execution_count": 74,
   "metadata": {},
   "outputs": [
    {
     "name": "stdout",
     "output_type": "stream",
     "text": [
      "sne_x\n",
      "[0.50309, 0.4948, 0.67767, 0.8665, 0.79857, 0.37144, 0.35582, 0.2836, 0.4664, 0.94688, 0.69315, 0.89693, 0.78904, 0.59027, 0.21075, 0.85852, 0.55875, 0.9964, 0.58294, 0.79656, 0.91348, 0.94846, 0.73362, 0.7656, 0.98341, 0.70064, 0.83814, 0.3706, 0.35858, 0.52278, 0.70198, 0.74613, 0.59185, 0.62063, 1.00279, 0.61064, 0.35833, 0.45155, 0.5526, 0.75068, 0.82269, 0.95076, 0.34052, 0.81072, 0.61124, 0.54831, 1.02879, 0.42244, 0.70115, 0.68517, 0.93189, 0.74909, 0.4684, 0.95886, 0.84053, 0.56276, 0.82854, 0.57875, 0.8645, 0.85851, 0.58575, 0.48881, 0.68866, 0.32454, 0.18538, 0.68196, 0.92223, 0.42866, 0.69998, 0.57584, 0.51176, 0.64191, 0.35157, 0.34957, 0.35527, 0.87217, 0.92624, 0.41957, 0.89073, 0.48057, 0.5806, 0.80569, 0.66464, 0.74566, 0.73669, 0.37053, 0.85073, 0.21946, 0.64764, 0.6006, 0.7607, 0.47057, 0.49737, 0.50736, 0.58728, 0.69915, 0.76108, 0.78805, 0.40547, 0.80804, 0.58328, 0.72013, 0.83699, 0.80603, 0.50074, 0.53378, 0.82212, 0.12531, 0.44368, 0.68366, 0.72668, 0.40455, 0.69065, 0.57661, 0.72068, 0.55031, 0.84797, 0.43544, 0.30158, 0.58073, 0.34593, 0.33094, 0.44956, 0.29172, 0.46127, 0.63222, 0.26862, 0.92491, 0.62522, 0.60825, 0.57828, 0.71963, 0.7666, 0.36791, 0.84852, 0.7766, 0.58375, 0.58873, 0.76859, 0.5138, 0.63771, 0.43487, 0.58375, 0.66206, 0.62189, 0.41664, 0.45169, 0.73401, 0.74202, 0.34957, 0.51476, 0.64364, 0.47058, 0.26349, 0.7427, 0.91075, 0.33753, 0.98377, 0.81369, 0.81773, 0.96075, 0.75669, 0.87796, 0.80902, 0.62723, 0.93389, 0.69715, 0.76706, 0.86397, 0.51434, 0.47039, 0.9279, 0.63071, 0.6157, 0.56475, 0.55775, 0.73561, 0.26199, 0.76159, 0.85852, 0.55875, 0.48072, 0.92224, 0.47572, 0.8932, 0.6319, 0.73602, 0.41865, 0.53578, 0.73501, 0.60987, 0.70198, 0.9833, 0.75905, 0.64364, 0.51559, 0.80569, 0.8007, 0.71565, 0.76668, 0.90173, 0.71868, 0.5796, 0.96074, 0.64864, 0.93675, 0.46156, 0.67065, 0.24649, 0.63822, 0.53532, 0.77307, 0.3705, 0.69916, 0.3735, 0.85298, 0.60326, 0.53433, 0.40048, 0.3715, 0.83999, 0.53278, 0.93225, 0.55381, 0.84214, 0.72767, 0.44255, 0.28251, 0.51961, 1.0608, 0.26849, 0.2505, 0.69816, 0.73012, 0.99781, 0.40946, 0.12679, 0.25577, 0.08859, 0.11782, 0.18356, 0.14055, 0.15171, 0.094, 0.28631, 0.26318, 0.14167, 0.16053, 0.1229, 0.1262, 0.17331, 0.16448, 0.16018, 0.24488, 0.24805, 0.27511, 0.33015, 0.3307, 0.1604, 0.21861, 0.12005, 0.17818, 0.279, 0.18562, 0.06641, 0.25769, 0.27946, 0.2655, 0.18478, 0.05715, 0.32601, 0.10902, 0.20299, 0.37949, 0.21198, 0.21327, 0.14393, 0.25218, 0.25641, 0.2186, 0.07883, 0.08328, 0.17008, 0.23643, 0.30538, 0.08286, 0.18905, 0.08162, 0.25626, 0.12631, 0.1028, 0.1244, 0.37003, 0.20192, 0.18004, 0.16163, 0.22644, 0.29649, 0.24999, 0.14864, 0.14711, 0.2149, 0.14462, 0.13226, 0.2195, 0.38447, 0.1742, 0.17772, 0.29911, 0.1187, 0.17685, 0.24526, 0.1959, 0.24832, 0.30617, 0.24616, 0.13527, 0.21028, 0.23603, 0.17831, 0.22043, 0.31468, 0.1846, 0.2611, 0.18122, 0.38003, 0.1846, 0.20824, 0.17746, 0.31555, 0.24954, 0.20324, 0.12347, 0.20314, 0.15352, 0.33398, 0.19582, 0.24943, 0.1549, 0.15625, 0.15819, 0.309, 0.24828, 0.18484, 0.18353, 0.18212, 0.17675, 0.17748, 0.0718, 0.13796, 0.16941, 0.24527, 0.14406, 0.25163, 0.03743, 0.27716, 0.28712, 0.19845, 0.16031, 0.21053, 0.23753, 0.15499, 0.0939, 0.15253, 0.25693, 0.21231, 0.24583, 0.13679, 0.32529, 0.10643, 0.4008, 0.1891, 0.19731, 0.12783, 0.12291, 0.12687, 0.21311, 0.21075, 0.26826, 0.20431, 0.26991, 0.24162, 0.2908, 0.35306, 0.28509, 0.21929, 0.17537, 0.23517, 0.15298, 0.20982, 0.29121, 0.31353, 0.13672, 0.29532, 0.30369, 0.20532, 0.12175, 0.17424, 0.24862, 0.2453, 0.13816, 0.24288, 0.24237, 0.31437, 0.2754, 0.30004, 0.21735, 0.20311, 0.19005, 0.29003, 0.22796, 0.31032, 0.13712, 0.08798, 0.08534, 0.19024, 0.09278, 0.12891, 0.26136, 0.26132, 0.1957, 0.14723, 0.21154, 0.17972, 0.1907, 0.3385, 0.11762, 0.28854, 0.26377, 0.24931, 0.22939, 0.08575, 0.27631, 0.36165, 0.30006, 0.11659, 0.15474, 0.2501, 0.25149, 0.12941, 0.30894, 0.29859, 0.27057, 0.29318, 0.18988, 0.12368, 0.31262, 0.3088, 0.20244, 0.21139, 0.1787, 0.30317, 0.21432, 0.32007, 0.21791, 0.07523, 0.2574, 0.18446, 0.11639, 0.06481, 0.10298, 0.04437, 0.16576, 0.16799, 0.17043, 0.12029, 0.13855, 0.23353, 0.24615, 0.22259, 0.17893, 0.19694, 0.22889, 0.26419, 0.1034, 0.21313, 0.1568, 0.24317, 0.23823, 0.20827, 0.25085, 0.2251, 0.28707, 0.32944, 0.24575, 0.11981, 0.32891, 0.21037, 0.20284, 0.28403, 0.18046, 0.26043, 0.14774, 0.32753, 0.24177, 0.22308, 0.18261, 0.15286, 0.13806, 0.2071, 0.20291, 0.19777, 0.2223, 0.27307, 0.18628, 0.15933, 0.21911, 0.17354, 0.2441, 0.13366, 0.28313, 0.17365, 0.1963, 0.36924, 0.20562, 0.17371, 0.12672, 0.284, 0.19358, 0.10036, 0.37386, 0.11787, 0.1919, 0.23657, 0.15881, 0.07877, 0.13847, 0.23359, 0.1567, 0.08833, 0.12995, 0.18223, 0.25654, 0.21651, 0.14519, 0.13653, 0.20493, 0.36939, 0.12924, 0.26658, 0.27805, 0.17461, 0.11376, 0.11229, 0.15333, 0.1965, 0.18914, 0.17708, 0.21731, 0.18542, 0.16382, 0.2569, 0.1218, 0.16514, 0.1984, 0.26828, 0.40078, 0.14566, 0.05573, 0.22425, 0.28622, 0.18365, 0.1036, 0.33096, 0.2184, 0.26327, 0.16267, 0.10689, 0.16503, 0.10757, 0.12913, 0.05948, 0.04093, 0.01705, 0.01531, 0.01472, 0.02673, 0.01732, 0.04437, 0.01567, 0.02477, 0.038, 0.0299, 0.01012, 0.0258, 0.01038, 0.03791, 0.03507, 0.01268, 0.02525, 0.01908, 0.03489, 0.0295, 0.03416, 0.04067, 0.07515, 0.05581, 0.02529, 0.03501, 0.02846, 0.0328, 0.03378, 0.04597, 0.04341, 0.05684, 0.02024, 0.03191, 0.0415, 0.02639, 0.02651, 0.02689, 0.02349, 0.05067, 0.04093, 0.06877, 0.01754, 0.02557, 0.02189, 0.03155, 0.06845, 0.02249, 0.04949, 0.03161, 0.03434, 0.04486, 0.01531, 0.03048, 0.03837, 0.03682, 0.0221, 0.01402, 0.0589, 0.05895, 0.06888, 0.0204, 0.02894, 0.02384, 0.01451, 0.03292, 0.06455, 0.01663, 0.05359, 0.03163, 0.02751, 0.02559, 0.02401, 0.03713, 0.03408, 0.02454, 0.01697, 0.01629, 0.03184, 0.037, 0.02932, 0.0174, 0.03578, 0.02845, 0.05035, 0.04269, 0.03212, 0.02752, 0.03049, 0.01724, 0.07063, 0.05344, 0.02878, 0.03518, 0.03348, 0.04651, 0.06119, 0.04714, 0.0212, 0.04028, 0.03863, 0.03314, 0.02414, 0.02837, 0.01043, 0.02038, 0.0471, 0.03984, 0.0122, 0.01271, 0.01763, 0.02171, 0.01572, 0.01972, 0.01678, 0.01226, 0.05322, 0.03055, 0.03001, 0.01506, 0.0153, 0.04713, 0.03411, 0.0152, 0.01504, 0.02763, 0.03359, 0.01447, 0.02547, 0.01082, 0.01741, 0.02031, 0.04819, 0.02223, 0.02811, 0.05458, 0.05721, 0.02091, 0.01454, 0.0431, 0.03273, 0.03399, 0.01382, 0.05092, 0.01752, 0.02482, 0.0288, 0.01568, 0.02197, 0.03426, 0.01698, 0.02752, 0.03438, 0.01318, 0.01726, 0.01209, 0.05418, 0.0197, 0.01662, 0.02398, 0.03144, 0.01291, 0.03827, 0.01532, 0.02643, 0.0202, 0.0373, 0.02348, 0.01635, 0.02275, 0.23027, 0.38164, 0.2534, 0.15269, 0.43673, 0.10242, 0.37164, 0.46664, 0.19602, 0.31156, 0.0322, 0.10989, 0.22562, 0.26051, 0.22556, 0.44758, 0.44007, 0.33742, 0.52851, 0.57613, 0.38775, 0.36001, 0.34701, 0.43927, 0.34923, 0.43015, 0.50818, 0.28845, 0.17281, 0.31774, 0.27509, 0.10293, 0.20584, 0.2646, 0.23466, 0.21434, 0.42784, 0.40214, 0.32218, 0.45173, 0.16139, 0.35161, 0.249, 0.08223, 0.10588, 0.33293, 0.10227, 0.29282, 0.13269, 0.27088, 0.10044, 0.35363, 0.42353, 0.30012, 0.14761, 0.22853, 0.1388, 0.14343, 0.09201, 0.1568, 0.23851, 0.14949, 0.50718, 0.25249, 0.28397, 0.2368, 0.34092, 0.26388, 0.34872, 0.32095, 0.13523, 0.30666, 0.23362, 0.30078, 0.36783, 0.1694, 0.07976, 0.1806, 0.18071, 0.23086, 0.04582, 0.22146, 0.20073, 0.0755, 0.02627, 0.19141, 0.1777, 0.18542, 0.34931, 0.27131, 0.29212, 0.37051, 0.09641, 0.18058, 0.27446, 0.2451, 0.36135, 0.23152, 0.14648, 0.15948, 0.41929, 0.31894, 0.51941, 0.15069, 0.30249, 0.21073, 0.23943, 0.3318, 0.20072, 0.36082, 0.24275, 0.22146, 0.12068, 0.3416, 0.25051, 0.38054, 0.31079, 0.1994, 0.24001, 0.50275, 0.37013, 0.27001, 0.26312, 0.26801, 0.30801, 0.25001, 0.28051, 0.3148, 0.3284, 0.32944, 0.25848, 0.22448, 0.21079, 0.38734, 0.30642, 0.36491, 0.2488, 0.2988, 0.12365, 0.33159, 0.38246, 0.24074, 0.17144, 0.2088, 0.2896, 0.24599, 0.13659, 0.15062, 0.1187, 0.24494, 0.3507, 0.61992, 0.21986, 0.09929, 0.40996, 0.50276, 0.38171, 0.27989, 0.23071, 0.42693, 0.55014, 0.32531, 0.35092, 0.32832, 0.45059, 0.06441, 0.06559, 0.31811, 0.14539, 0.13947, 0.42967, 0.21641, 0.36616, 0.38083, 0.42086, 0.19958, 0.5109, 0.42696, 0.31579, 0.57824, 0.48176, 0.39267, 0.17359, 0.33059, 0.29948, 0.22943, 0.29291, 0.20861, 0.27509, 0.30337, 0.35902, 0.3602, 0.34902, 0.63056, 0.32092, 0.51002, 0.36646, 0.13823, 0.1792, 0.17157, 0.27047, 0.34688, 0.47942, 0.31894, 0.51879, 0.3799, 0.37089, 0.18152, 0.22374, 0.14135, 0.30567, 0.40471, 0.28578, 0.30156, 0.26388, 0.50091, 0.30525, 0.38598, 0.1986, 0.09121, 0.47796, 0.33159, 0.47175, 0.33081, 0.26088, 0.07141, 0.18141, 0.33829, 0.12211, 0.25012, 0.16046, 0.29843, 0.38887, 0.29245, 0.32841, 0.30549, 0.28546, 0.42886, 0.17967, 0.18959, 0.24849, 0.40927, 0.24146, 0.33748, 0.0706, 0.34546, 0.3306, 0.05495, 0.42359, 0.1072, 0.2854, 0.32553, 0.33493, 0.2909, 0.44058, 0.24111, 0.46101, 0.11944, 0.54539, 0.41155, 0.26848, 0.04976, 0.41131, 0.07369, 0.31841, 0.4193, 0.42028, 0.43885, 0.4804, 0.1998, 0.30143, 0.2902, 0.3092, 0.2956, 0.33848, 0.3786, 0.0896, 0.4507, 0.4604, 1.206, 1.33, 1.54, 1.55, 1.7, 1.8, 2.26, 1.914, 1.3, 1.34, 1.02, 0.735, 1.12, 1.23, 1.23, 0.854, 1.37, 0.9752, 0.97, 0.74, 1.39, 1.305, 0.935, 1.014, 1.315, 1.092]\n",
      "sne_y\n",
      "[0.12605, 0.11765, 0.2056, 0.17385, 0.17435, 0.1245, 0.12645, 0.1028, 0.1587, 0.1642, 0.24445, 0.16645, 0.11585, 0.1666, 0.10525, 0.1478, 0.1335, 0.1408, 0.1258, 0.1588, 0.13735, 0.15105, 0.15575, 0.1549, 0.153, 0.1738, 0.1807, 0.1211, 0.1186, 0.14165, 0.26255, 0.16465, 0.12625, 0.1131, 0.19135, 0.1329, 0.11425, 0.12515, 0.13425, 0.19155, 0.14625, 0.14485, 0.10555, 0.17055, 0.1593, 0.1438, 0.16015, 0.1192, 0.1805, 0.2326, 0.15235, 0.18275, 0.11785, 0.17245, 0.1456, 0.11755, 0.1526, 0.12065, 0.14625, 0.16535, 0.1417, 0.1136, 0.1518, 0.10225, 0.10405, 0.1484, 0.1708, 0.1294, 0.2153, 0.13845, 0.1165, 0.1659, 0.1136, 0.11065, 0.113, 0.1332, 0.10935, 0.12095, 0.14085, 0.1151, 0.1608, 0.1555, 0.1611, 0.1527, 0.1399, 0.11295, 0.1304, 0.1023, 0.1613, 0.15455, 0.14995, 0.1221, 0.13225, 0.1253, 0.14055, 0.15635, 0.16035, 0.13815, 0.11045, 0.16345, 0.12955, 0.19335, 0.1427, 0.1837, 0.13595, 0.1665, 0.18525, 0.10355, 0.1349, 0.2905, 0.1628, 0.1075, 0.18375, 0.1229, 0.2029, 0.1249, 0.16975, 0.109, 0.0939, 0.1372, 0.111, 0.10685, 0.14135, 0.12535, 0.13775, 0.20445, 0.0993, 0.1923, 0.1303, 0.1266, 0.13895, 0.2057, 0.1593, 0.1019, 0.14855, 0.17835, 0.09915, 0.13005, 0.16885, 0.1329, 0.2329, 0.1145, 0.14025, 0.17955, 0.1628, 0.11755, 0.1377, 0.24055, 0.21515, 0.12, 0.1355, 0.1943, 0.12925, 0.1079, 0.19885, 0.16365, 0.10655, 0.1439, 0.14105, 0.12085, 0.1577, 0.1583, 0.14325, 0.1668, 0.138, 0.2009, 0.16195, 0.17855, 0.15285, 0.11725, 0.141, 0.1829, 0.1432, 0.1433, 0.13595, 0.1349, 0.19205, 0.1082, 0.15445, 0.17845, 0.15165, 0.1138, 0.18725, 0.109, 0.1577, 0.17705, 0.2108, 0.1152, 0.1266, 0.17825, 0.14865, 0.16475, 0.143, 0.15165, 0.2013, 0.1762, 0.1301, 0.1606, 0.19425, 0.1806, 0.1511, 0.15095, 0.1197, 0.14255, 0.159, 0.1405, 0.11115, 0.1775, 0.10805, 0.184, 0.11085, 0.17625, 0.1043, 0.1728, 0.1039, 0.1508, 0.1429, 0.1289, 0.1151, 0.10745, 0.15175, 0.11385, 0.21015, 0.1242, 0.1858, 0.19785, 0.1137, 0.1073, 0.109, 0.16415, 0.1051, 0.1114, 0.2171, 0.19115, 0.0953, 0.10895, 0.11965, 0.1818, 0.10605, 0.0991, 0.1284, 0.11635, 0.10325, 0.10285, 0.1504, 0.14295, 0.1047, 0.1156, 0.11665, 0.113, 0.09925, 0.1083, 0.11045, 0.1298, 0.13435, 0.15505, 0.1589, 0.1481, 0.10955, 0.13435, 0.1021, 0.1286, 0.13265, 0.1298, 0.1134, 0.14285, 0.1398, 0.1301, 0.1056, 0.1072, 0.1464, 0.10285, 0.1382, 0.1395, 0.12295, 0.1364, 0.113, 0.16095, 0.1749, 0.1685, 0.12205, 0.11605, 0.107, 0.14325, 0.19765, 0.1055, 0.1187, 0.10425, 0.16145, 0.13485, 0.1443, 0.1006, 0.1636, 0.11475, 0.14335, 0.1299, 0.141, 0.1446, 0.13305, 0.1063, 0.10335, 0.1483, 0.13965, 0.1333, 0.1346, 0.14945, 0.1115, 0.1224, 0.1301, 0.1339, 0.106, 0.1882, 0.11935, 0.1326, 0.16135, 0.13055, 0.1135, 0.1335, 0.12315, 0.1134, 0.15445, 0.1572, 0.1118, 0.13865, 0.10535, 0.1506, 0.1082, 0.12075, 0.12905, 0.15355, 0.1247, 0.11955, 0.10285, 0.12035, 0.10495, 0.1592, 0.1151, 0.14445, 0.1063, 0.12595, 0.12375, 0.19685, 0.1388, 0.1235, 0.1247, 0.13765, 0.129, 0.12115, 0.1254, 0.10475, 0.1317, 0.14705, 0.10485, 0.1462, 0.1166, 0.2055, 0.1491, 0.13895, 0.129, 0.15075, 0.1316, 0.11795, 0.14945, 0.11355, 0.1446, 0.1303, 0.13085, 0.11075, 0.1809, 0.10245, 0.1602, 0.13035, 0.1122, 0.132, 0.1033, 0.10365, 0.1429, 0.12695, 0.15275, 0.12435, 0.12695, 0.15175, 0.14645, 0.1515, 0.15435, 0.1534, 0.1249, 0.1458, 0.1096, 0.1584, 0.1501, 0.14945, 0.1138, 0.1925, 0.135, 0.1351, 0.09805, 0.11045, 0.13995, 0.14105, 0.1169, 0.1175, 0.15195, 0.137, 0.153, 0.15885, 0.15665, 0.12555, 0.1552, 0.15315, 0.15045, 0.15795, 0.11415, 0.1066, 0.1057, 0.11825, 0.109, 0.12795, 0.15835, 0.17885, 0.12925, 0.1218, 0.1818, 0.11325, 0.11925, 0.1618, 0.10595, 0.1639, 0.15695, 0.1409, 0.1271, 0.10035, 0.19055, 0.1645, 0.16525, 0.1036, 0.1045, 0.13225, 0.1266, 0.1075, 0.1693, 0.1633, 0.169, 0.1437, 0.1185, 0.1022, 0.14295, 0.15525, 0.13765, 0.1276, 0.1152, 0.13765, 0.1308, 0.1358, 0.14225, 0.10185, 0.15, 0.13065, 0.10185, 0.1109, 0.103, 0.11995, 0.12155, 0.1219, 0.14255, 0.11295, 0.1308, 0.1527, 0.14645, 0.1546, 0.1225, 0.1167, 0.14355, 0.1665, 0.1007, 0.12325, 0.1104, 0.15475, 0.14335, 0.1319, 0.1659, 0.12955, 0.14295, 0.14295, 0.1225, 0.142, 0.20955, 0.1203, 0.1164, 0.13635, 0.10565, 0.1521, 0.1023, 0.13855, 0.1569, 0.1281, 0.1376, 0.10245, 0.10245, 0.18575, 0.1209, 0.129, 0.1392, 0.14505, 0.11385, 0.1054, 0.1261, 0.1283, 0.1449, 0.101, 0.13595, 0.1373, 0.1369, 0.14325, 0.12095, 0.12665, 0.1097, 0.15145, 0.1361, 0.11145, 0.0854, 0.11365, 0.1404, 0.146, 0.1245, 0.11205, 0.13335, 0.1537, 0.15485, 0.11615, 0.12165, 0.12625, 0.14805, 0.13625, 0.1399, 0.1105, 0.1568, 0.1558, 0.10875, 0.14765, 0.13915, 0.1317, 0.10675, 0.1026, 0.10465, 0.13845, 0.12885, 0.1273, 0.13945, 0.1283, 0.11915, 0.16715, 0.13445, 0.10665, 0.1317, 0.16265, 0.1348, 0.12755, 0.10915, 0.15345, 0.15585, 0.14145, 0.10555, 0.19055, 0.1415, 0.1514, 0.1303, 0.10455, 0.11585, 0.10865, 0.1143, 0.12625, 0.11665, 0.1832, 0.1613, 0.14905, 0.16165, 0.1587, 0.19805, 0.15405, 0.1718, 0.13185, 0.123, 0.19825, 0.1376, 0.2048, 0.2001, 0.16785, 0.171, 0.13295, 0.14115, 0.1667, 0.12735, 0.1563, 0.1127, 0.1248, 0.12285, 0.1405, 0.12485, 0.13405, 0.12525, 0.1403, 0.1025, 0.1209, 0.1203, 0.12735, 0.12775, 0.1259, 0.1399, 0.1248, 0.126, 0.1338, 0.158, 0.1297, 0.11055, 0.1341, 0.1496, 0.1381, 0.14115, 0.1248, 0.1391, 0.12545, 0.12625, 0.1249, 0.14795, 0.1526, 0.1342, 0.16555, 0.12655, 0.13695, 0.16195, 0.11395, 0.10045, 0.15105, 0.156, 0.1316, 0.1335, 0.16765, 0.1185, 0.1136, 0.15025, 0.1439, 0.11945, 0.1291, 0.1259, 0.12635, 0.1177, 0.12455, 0.1278, 0.1531, 0.15115, 0.12125, 0.12725, 0.1457, 0.1485, 0.1761, 0.1364, 0.16335, 0.117, 0.1431, 0.14255, 0.1419, 0.1556, 0.1229, 0.1398, 0.12155, 0.15235, 0.15235, 0.11625, 0.11905, 0.12315, 0.1437, 0.11335, 0.1275, 0.12215, 0.1291, 0.12155, 0.20035, 0.14185, 0.14465, 0.1146, 0.1737, 0.1749, 0.1562, 0.13615, 0.1939, 0.15785, 0.15925, 0.17765, 0.12805, 0.45085, 0.12025, 0.15445, 0.1456, 0.1151, 0.1148, 0.1635, 0.1491, 0.1179, 0.1061, 0.16555, 0.1242, 0.18445, 0.1498, 0.1353, 0.12175, 0.13205, 0.12485, 0.1018, 0.1094, 0.1368, 0.1656, 0.10685, 0.1205, 0.11105, 0.15385, 0.1224, 0.1465, 0.13485, 0.13605, 0.1525, 0.1436, 0.12025, 0.1558, 0.1341, 0.12105, 0.17285, 0.1511, 0.1914, 0.11385, 0.1578, 0.14705, 0.13525, 0.12075, 0.1716, 0.1201, 0.16405, 0.1425, 0.15165, 0.11505, 0.13895, 0.1518, 0.13625, 0.14645, 0.14085, 0.11245, 0.11585, 0.14185, 0.1077, 0.10645, 0.11645, 0.109, 0.10825, 0.1289, 0.12085, 0.12425, 0.12265, 0.1228, 0.1524, 0.16925, 0.14605, 0.14315, 0.14515, 0.15885, 0.1335, 0.14045, 0.132, 0.11575, 0.12545, 0.14135, 0.1256, 0.1308, 0.1521, 0.1382, 0.12325, 0.15765, 0.1389, 0.19515, 0.17345, 0.17065, 0.149, 0.14025, 0.12465, 0.12015, 0.1158, 0.11585, 0.1223, 0.10015, 0.14375, 0.1106, 0.1351, 0.0994, 0.12, 0.10935, 0.14555, 0.2655, 0.11935, 0.11365, 0.12895, 0.1072, 0.10815, 0.1139, 0.12545, 0.2471, 0.16675, 0.1404, 0.11325, 0.1146, 0.1241, 0.1485, 0.1418, 0.13315, 0.1245, 0.1216, 0.1627, 0.1599, 0.1704, 0.12345, 0.1144, 0.10315, 0.1142, 0.16425, 0.15375, 0.1243, 0.1197, 0.21145, 0.11965, 0.1362, 0.15515, 0.11035, 0.1169, 0.13805, 0.10785, 0.1226, 0.11375, 0.14795, 0.1117, 0.1525, 0.1441, 0.2036, 0.1499, 0.11095, 0.1775, 0.14905, 0.15665, 0.19605, 0.11, 0.15825, 0.1623, 0.1478, 0.12005, 0.1607, 0.14215, 0.1213, 0.14915, 0.1916, 0.16925, 0.13165, 0.1307, 0.13845, 0.14145, 0.1643, 0.20855, 0.1358, 0.13725, 0.1313, 0.16715, 0.1182, 0.1625, 0.11055, 0.12485, 0.16575, 0.11895, 0.14085, 0.15385, 0.1231, 0.18525, 0.1493, 0.1423, 0.1596, 0.16425, 0.1083, 0.1401, 0.1824, 0.11795, 0.17315, 0.16115, 0.1649, 0.1219, 0.12305, 0.11605, 0.1244, 0.1237, 0.10725, 0.1156, 0.10825, 0.10965, 0.20545, 0.2082, 0.143, 0.11365, 0.15255, 0.1627, 0.14355, 0.14105, 0.1283, 0.18155, 0.1316, 0.1085, 0.12675, 0.12465, 0.1724, 0.1129, 0.1527, 0.11555, 0.1841, 0.1382, 0.16245, 0.15295, 0.17305, 0.15295, 0.1522, 0.1624, 0.15415, 0.1588, 0.1083, 0.1153, 0.1614, 0.1411, 0.1708, 0.11275, 0.11615, 0.11865, 0.1342, 0.1604, 0.1223, 0.11795, 0.15495, 0.1182, 0.1243, 0.1038, 0.14915, 0.11585, 0.1242, 0.2533, 0.1463, 0.137, 0.1518, 0.1306, 0.26375, 0.12575, 0.12225, 0.13225, 0.12015, 0.15365, 0.1358, 0.13495, 0.12955, 0.1963, 0.1129, 0.126, 0.1223, 0.1103, 0.1649, 0.11675, 0.15, 0.15595, 0.14225, 0.1192, 0.1593, 0.151, 0.11495, 0.14315, 0.167, 0.16045, 0.14095, 0.1649, 0.17245, 0.13305, 0.1395, 0.1471, 0.1699, 0.1605, 0.14705, 0.19045, 0.13015, 0.16625, 0.29975, 0.1626, 0.15615, 0.1165, 0.1425, 0.1111, 0.12315, 0.1384, 0.1129, 0.15955, 0.13695, 0.1118, 0.16435, 0.1245, 0.1462, 0.1289, 0.14435, 0.13525, 0.15385, 0.1566, 0.21085, 0.152, 0.2331, 0.19185, 0.17225, 0.13595, 0.1445, 0.13835, 0.1462, 0.123, 0.13905, 0.1463, 0.11685, 0.15475, 0.14725, 0.3352, 0.1484, 0.21065, 0.18565, 0.2832, 0.18795, 0.2548, 0.2559, 0.17875, 0.1632, 0.1657, 0.134, 0.1649, 0.19155, 0.17085, 0.21455, 0.1622, 0.13985, 0.26175, 0.12605, 0.20125, 0.235, 0.1658, 0.2291, 0.1987, 0.26405]\n"
     ]
    },
    {
     "data": {
      "image/png": "[encoded data removed]",
      "text/plain": [
       "<Figure size 432x288 with 1 Axes>"
      ]
     },
     "metadata": {
      "needs_background": "light"
     },
     "output_type": "display_data"
    }
   ],
   "source": [
    "sne_x = []\n",
    "sne_y = []\n",
    "\n",
    "with open('ps1_data.txt', newline='') as csvfile:\n",
    "    ps1_data = csv.reader(csvfile, delimiter=' ')\n",
    "        \n",
    "    i = 0\n",
    "    for row in ps1_data:\n",
    "        if (i > 0):\n",
    "            sne_x.append(float(row[1]))\n",
    "            sne_y.append(float(row[5]))\n",
    "        i+= 1\n",
    "        \n",
    "print(\"sne_x\")\n",
    "print(sne_x)\n",
    "print(\"sne_y\")\n",
    "print(sne_y)\n",
    "plt.xlabel(\"z\")\n",
    "plt.scatter(sne_x, sne_y)\n",
    "plt.show()"
   ]
  },
  {
   "cell_type": "code",
   "execution_count": null,
   "metadata": {},
   "outputs": [],
   "source": []
  }
 ],
 "metadata": {
  "kernelspec": {
   "display_name": "Python 3",
   "language": "python",
   "name": "python3"
  },
  "language_info": {
   "codemirror_mode": {
    "name": "ipython",
    "version": 3
   },
   "file_extension": ".py",
   "mimetype": "text/x-python",
   "name": "python",
   "nbconvert_exporter": "python",
   "pygments_lexer": "ipython3",
   "version": "3.8.2"
  }
 },
 "nbformat": 4,
 "nbformat_minor": 4
}
