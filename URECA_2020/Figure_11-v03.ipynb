{
 "cells": [
  {
   "cell_type": "markdown",
   "metadata": {},
   "source": [
    "Import all necessary modules"
   ]
  },
  {
   "cell_type": "code",
   "execution_count": 61,
   "metadata": {},
   "outputs": [],
   "source": [
    "import math\n",
    "import numpy as np\n",
    "import scipy.integrate as integrate\n",
    "import matplotlib.pyplot as plt\n",
    "import csv"
   ]
  },
  {
   "cell_type": "markdown",
   "metadata": {},
   "source": [
    "Function Dictionary"
   ]
  },
  {
   "cell_type": "code",
   "execution_count": 62,
   "metadata": {},
   "outputs": [],
   "source": [
    "# Calculate E(z), which in this situation depends on w\n",
    "def E(z_i, w, omega_m, omega_l):\n",
    "    omega_k = 1.0 - omega_m - omega_l\n",
    "    E = np.sqrt(omega_m * (1.0 + z_i)**3 + omega_k * (1.0 + z_i)**2 + omega_l * (1.0+z_i)**(3.0*(1.0+w)))\n",
    "    return E;\n",
    "\n",
    "# Calculate the integral D_C/D_H, store it in an array\n",
    "def DCDH_int(z_limit, w, omega_m, omega_l):\n",
    "    f = lambda z_i: 1.0 / E(z_i, w, omega_m, omega_l)\n",
    "    i = integrate.quad(f, 0, z_limit)\n",
    "    return i[0]"
   ]
  },
  {
   "cell_type": "code",
   "execution_count": 63,
   "metadata": {},
   "outputs": [],
   "source": [
    "# Proper Motion distance integrals\n",
    "\n",
    "# proper motion distance for omega_l == 0\n",
    "def prop_motion_0(z, w, DMDH, omega_m, omega_l):\n",
    "    # create the output array DMDH\n",
    "    DMDH = np.copy(z);\n",
    "\n",
    "    # find omega_k = 1 - omega_m - omega_l\n",
    "    omega_k = 1.0 - omega_m - omega_l\n",
    "    print(r\"$\\Omega_k =$ \" + str(omega_k))\n",
    "    print(r\"$\\Omega_\\Mu =$ \" + str(omega_m))\n",
    "    print(r\"$\\Omega_\\Lambda =$ \" + str(omega_l))\n",
    "\n",
    "    # Calculate D_M/D_H for different universe geometries\n",
    "    # open universe (omega_k > 0)\n",
    "    if (omega_k > 1.0e-6):\n",
    "        for i in range(len(z)):\n",
    "            DMDH[i] = 1/np.sqrt(omega_k) * np.sinh( np.sqrt(omega_k) * DCDH_int(z[i],w,omega_m,omega_l) )\n",
    "    # closed universe (omega_k < 0)\n",
    "    elif (omega_k < -1.0e-6):\n",
    "        for i in range(len(z)):\n",
    "            DMDH[i] = 1/np.sqrt(abs(omega_k)) * np.sin( np.sqrt(abs(omega_k)) * DCDH_int(z[i],w,omega_m,omega_l) )\n",
    "    # flat universe (omega_k = 0)\n",
    "    else:\n",
    "        DMDH = 2.0*( 2.0 - omega_m*(1.0-z) - (2-omega_m)*np.sqrt(1.0+omega_m*z) ) / ( omega_m*omega_m*(1.0+z) );\n",
    "\n",
    "    return DMDH\n",
    "\n",
    "# proper motion distance for omega_l != 0\n",
    "def prop_motion(z, w, DMDH, omega_m, omega_l):\n",
    "    DMDH = np.copy(z);\n",
    "    \n",
    "    # find omega_k = 1 - omega_m - omega_l\n",
    "    omega_k = 1.0 - omega_m - omega_l\n",
    "    print(omega_k)\n",
    "    \n",
    "    # Calculate D_M/D_H for different universe geometries\n",
    "    if (omega_k > 1.0e-6):\n",
    "        for i in range(len(z)):\n",
    "            DMDH[i] = 1/np.sqrt(omega_k) * np.sinh( np.sqrt(omega_k) * DCDH_int(z[i],w,omega_m,omega_l) )\n",
    "    # closed universe\n",
    "    elif (omega_k < -1.0e-6):\n",
    "        for i in range(len(z)):\n",
    "            DMDH[i] = 1/np.sqrt(abs(omega_k)) * np.sin( np.sqrt(abs(omega_k)) * DCDH_int(z[i],w, omega_m,omega_l) )\n",
    "    # flat universe\n",
    "    else:\n",
    "        for i in range(len(z)):\n",
    "            DMDH[i] = DCDH_int(z[i], w, omega_m, omega_l)\n",
    "    return DMDH"
   ]
  },
  {
   "cell_type": "code",
   "execution_count": 64,
   "metadata": {},
   "outputs": [],
   "source": [
    "# angular diameter distance\n",
    "def dist_angdiam(z, DMDH, DADH, omega_m, omega_l):\n",
    "    DADH = np.copy(z);\n",
    "    DADH = DMDH / (1.0+z)\n",
    "    return DADH;\n",
    "\n",
    "# luminosity distance\n",
    "def dist_lum(z, DMDH, DLDH, omega_m, omega_l):\n",
    "    DLDH = np.copy(z)\n",
    "    DLDH = DMDH * (1.0+z)\n",
    "    return DLDH;\n",
    "\n",
    "# distance modulus\n",
    "def dist_mod(z, D_H, omega_m, omega_l, DMDH):\n",
    "    # initialize the distance modulus array\n",
    "    mu = np.copy(z)\n",
    "\n",
    "    # convert D_H from Mpc to pc\n",
    "    D_H = D_H * 1.0e6\n",
    "\n",
    "    # calculate each value of mu array\n",
    "    #for i in range(len(z)):\n",
    "        #mu[i] = 5.0 * ( np.log10(1.0+z[i]) + np.log10(DCDH_int(z[i], omega_m, omega_l)) + np.log10(D_H/10) )\n",
    "    mu = 5.0 * ( np.log10(1.0+z) + np.log10(DMDH) + np.log10(D_H/10) )\n",
    "    return mu;\n",
    "\n",
    "# comoving volume element\n",
    "def com_vol(z, DMDH, DVC, omega_m, omega_l, D_H):\n",
    "    DVC = np.copy(z)\n",
    "    for i in range(len(z)):\n",
    "        DVC[i] = DMDH[i]**2 * D_H**3 / ( E(z[i], omega_m, omega_l) )\n",
    "    return DVC"
   ]
  },
  {
   "cell_type": "markdown",
   "metadata": {},
   "source": [
    "Variable Dictionary"
   ]
  },
  {
   "cell_type": "code",
   "execution_count": 65,
   "metadata": {},
   "outputs": [],
   "source": [
    "# Constants\n",
    "omega_k = 0                     # critical density\n",
    "c = 2.9979e5                    # speed of light (km/s)\n",
    "omega_m = None                  # mass density parameter\n",
    "w = None                        # equation of state\n",
    "omega_l = None                  # energy density\n",
    "pressure = 0.0                  # pressure of the universe\n",
    "\n",
    "# Variable dictionary\n",
    "H = None                        # Hubble constant (km/s/Mpc)\n",
    "z = None                        # redshift\n",
    "D_C = None                      # comoving distance, line-of-sight (m)\n",
    "D_M = None                      # comoving distance, transverse (m)\n",
    "D_A = None                      # angular diameter distance (m)\n",
    "D_L = None                      # luminosity distance (m)\n",
    "V_C = None                      # comoving volume (m^3)\n",
    "D_H = None                      # Hubble Distance (Mpc)\n",
    "array_size = None               # size of each array, which is the number of z values\n",
    "param_text = \"\"                 # label for the plots\n",
    "npts = None                     # Number of points (omega_m, w) we use\n",
    "\n",
    "# Output arrays\n",
    "z = None;                       # Array of input values of z\n",
    "DMDH = np.array([])             # Array of output values of D_M/D_H\n",
    "DADH = np.array([])             # Array of output values of D_A/D_H\n",
    "DLDH = np.array([])             # Array of output values of D_L/D_H\n",
    "dmod = np.array([])             # distance modulus array\n",
    "DVC = np.array([])              # comoving volume array\n",
    "tLtH = np.array([])             # Array of lookback times\n",
    "age = np.array([])              # Array of ages\n",
    "dPdz = np.array([])             # dimensionless intersection probability"
   ]
  },
  {
   "cell_type": "markdown",
   "metadata": {},
   "source": [
    "We draw arrays of corresponding density parameters from Figure 20.\n",
    "\n",
    "We note that equation of state $w$ and energy density $\\Omega_\\Lambda$ are related as follows:\n",
    "$$w = \\frac{pressure}{\\Omega_\\Lambda}$$"
   ]
  },
  {
   "cell_type": "markdown",
   "metadata": {},
   "source": [
    "Take in values. Test each value of omega_m and w individually."
   ]
  },
  {
   "cell_type": "code",
   "execution_count": 82,
   "metadata": {},
   "outputs": [
    {
     "name": "stdout",
     "output_type": "stream",
     "text": [
      "Ω_k = 0.0\n",
      "Value of omega_m: 0.4\n",
      "Value of w: -1.3\n"
     ]
    }
   ],
   "source": [
    "# arrays of density parameters\n",
    "\n",
    "# Take in densities\n",
    "print(\"\\u03A9_k = 0.0\")     # omega_k = 0.0\n",
    "\n",
    "# Take in Hubble constant\n",
    "H = 70\n",
    "D_H = c / H                 # Hubble distance\n",
    "\n",
    "# Take in w-values and omega_m values\n",
    "omega_m = float(input(\"Value of omega_m: \"))\n",
    "w = float(input(\"Value of w: \"))\n",
    "\n",
    "# Parameters for plot, including the range of redshift values and y-axis\n",
    "zmin = 0.001\n",
    "zmax = 2.5\n",
    "ymin = 0\n",
    "ymax = 50\n",
    "\n",
    "# Define the array of z-values (redshift)\n",
    "z = np.linspace(zmin, zmax, 100)"
   ]
  },
  {
   "cell_type": "markdown",
   "metadata": {},
   "source": [
    "Plot the Distance Modulus. Assume a flat universe, i.e. $\\Omega_\\Lambda = 1 - \\Omega_M$."
   ]
  },
  {
   "cell_type": "code",
   "execution_count": 83,
   "metadata": {},
   "outputs": [
    {
     "name": "stdout",
     "output_type": "stream",
     "text": [
      "0.0\n"
     ]
    },
    {
     "data": {
      "image/png": "[encoded data removed]",
      "text/plain": [
       "<Figure size 432x288 with 1 Axes>"
      ]
     },
     "metadata": {
      "needs_background": "light"
     },
     "output_type": "display_data"
    }
   ],
   "source": [
    "plt.title(\"Distance Modulus vs Redshift\")\n",
    "plt.xlabel(\"z\")\n",
    "plt.ylabel(\"distance modulus DM + 5 log h (mag)\")\n",
    "\n",
    "# Begin by collecting csv data and making a scatter plot of it\n",
    "sne_x = []\n",
    "sne_y = []\n",
    "\n",
    "with open('ps1_data.txt', newline='') as csvfile:\n",
    "    ps1_data = csv.reader(csvfile, delimiter=' ')\n",
    "        \n",
    "    i = 0\n",
    "    for row in ps1_data:\n",
    "        if (i > 0):\n",
    "            sne_x.append(float(row[1]))\n",
    "            sne_y.append(float(row[4]))\n",
    "        i+= 1\n",
    "        \n",
    "plt.scatter(sne_x, sne_y)\n",
    "\n",
    "# Calculate the distance moduli and plot them\n",
    "omega_l = 1.0 - omega_m\n",
    "if (omega_l == 0):\n",
    "    DMDH = prop_motion_0(z, w, DMDH, omega_m, omega_l)\n",
    "else:\n",
    "    DMDH = prop_motion(z, w, DMDH, omega_m, omega_l)\n",
    "\n",
    "mu = dist_mod(z, D_H, omega_m, omega_l, DMDH)\n",
    "\n",
    "param_text = r\"$\\left(\\Omega_M, w\\right) = \" + \"(\" + str(omega_m) + \", \" + str(w) + \")$\"\n",
    "plt.plot(z, mu, label=param_text)\n",
    "\n",
    "# Plot attributes\n",
    "plt.axis([zmin, zmax, ymin, ymax])\n",
    "plt.xscale('log')\n",
    "plt.legend(loc='lower right')\n",
    "plt.show()"
   ]
  },
  {
   "cell_type": "markdown",
   "metadata": {},
   "source": [
    "Generate a residual plot by feeding values from sne_x into the prop_motion() function."
   ]
  },
  {
   "cell_type": "code",
   "execution_count": 87,
   "metadata": {},
   "outputs": [
    {
     "name": "stdout",
     "output_type": "stream",
     "text": [
      "0.0\n"
     ]
    },
    {
     "data": {
      "image/png": "[encoded data removed]",
      "text/plain": [
       "<Figure size 432x288 with 1 Axes>"
      ]
     },
     "metadata": {
      "needs_background": "light"
     },
     "output_type": "display_data"
    }
   ],
   "source": [
    "res = []                     # list of residuals\n",
    "\n",
    "# test values of omega_m and omega_l\n",
    "\n",
    "# Feed the sne_x array into the functions\n",
    "sne_x = np.array(sne_x)\n",
    "if (omega_l == 0):\n",
    "    DMDH = prop_motion_0(sne_x, w, DMDH, omega_m, omega_l)\n",
    "else:\n",
    "    DMDH = prop_motion(sne_x, w, DMDH, omega_m, omega_l)\n",
    "\n",
    "# corresponding predicted distance modulus\n",
    "dm_predicted = dist_mod(sne_x, D_H, omega_m, omega_l, DMDH)\n",
    "\n",
    "# actual distance modulus\n",
    "dm_actual = np.array(sne_y)\n",
    "\n",
    "# calculate residuals\n",
    "res = dm_actual - dm_predicted\n",
    "\n",
    "# Find the average residual value\n",
    "avg_res = np.mean(res)\n",
    "# Plot a horizontal line corresponding to y = avg_res\n",
    "avg_y = np.copy(z)    # Create a copy of the z-array into the avg_y array\n",
    "for i in range(len(avg_y)):    # Assign each slot of avg_y the value avg_res\n",
    "    avg_y[i] = avg_res\n",
    "\n",
    "param_text = r\"$\\left(\\Omega_M, w\\right) = \" + \"(\" + str(omega_m) + \", \" + str(w) + \")$\"\n",
    "    \n",
    "plt.title(\"Distance Modulus vs Redshift: Residuals\")\n",
    "plt.xlabel(\"z\")\n",
    "plt.ylabel(\"residual distance modulus DM + 5 log h (mag)\")\n",
    "plt.scatter(sne_x, res)\n",
    "plt.plot(z, avg_y, label=param_text)\n",
    "plt.xscale('log')\n",
    "plt.legend(loc='lower right')\n",
    "plt.show()"
   ]
  },
  {
   "cell_type": "markdown",
   "metadata": {},
   "source": [
    "Plot again, this time making the cosmology plot match the scatterplot:"
   ]
  },
  {
   "cell_type": "code",
   "execution_count": 88,
   "metadata": {},
   "outputs": [
    {
     "name": "stdout",
     "output_type": "stream",
     "text": [
      "0.0\n"
     ]
    },
    {
     "data": {
      "image/png": "[encoded data removed]",
      "text/plain": [
       "<Figure size 432x288 with 1 Axes>"
      ]
     },
     "metadata": {
      "needs_background": "light"
     },
     "output_type": "display_data"
    }
   ],
   "source": [
    "if (omega_l == 0):\n",
    "    DMDH = prop_motion_0(z, w, DMDH, omega_m, omega_l)\n",
    "else:\n",
    "    DMDH = prop_motion(z, w, DMDH, omega_m, omega_l)\n",
    "\n",
    "mu = dist_mod(z, D_H, omega_m, omega_l, DMDH) + avg_res\n",
    "\n",
    "plt.title(\"Distance Modulus vs Redshift\")\n",
    "plt.xlabel(\"z\")\n",
    "plt.ylabel(\"distance modulus DM + 5 log h (mag)\")\n",
    "param_text = r\"$\\left(\\Omega_M, w\\right) = \" + \"(\" + str(omega_m) + \", \" + str(w) + \")$\"\n",
    "plt.plot(z, mu, label=param_text)\n",
    "plt.scatter(sne_x, sne_y)\n",
    "plt.axis([zmin, zmax, ymin, ymax])\n",
    "plt.xscale('log')\n",
    "plt.legend(loc='lower right')\n",
    "plt.show()"
   ]
  },
  {
   "cell_type": "markdown",
   "metadata": {},
   "source": [
    "Examples of good data points $(\\Omega_M, w)$:\n",
    "\n",
    "(0.2,-0.8)\n",
    "\n",
    "(0.3,-1.0)\n",
    "\n",
    "(0.4,-1.3)\n",
    "\n",
    "Examples of bad data points $(\\Omega_M, w)$:\n",
    "\n",
    "(0.5, -1.0)\n",
    "\n",
    "(0.25, -0.2)\n",
    "\n",
    "(0.3, -2.0)\n",
    "\n",
    "(0.1, -1.5)"
   ]
  },
  {
   "cell_type": "code",
   "execution_count": null,
   "metadata": {},
   "outputs": [],
   "source": []
  }
 ],
 "metadata": {
  "kernelspec": {
   "display_name": "Python 3",
   "language": "python",
   "name": "python3"
  },
  "language_info": {
   "codemirror_mode": {
    "name": "ipython",
    "version": 3
   },
   "file_extension": ".py",
   "mimetype": "text/x-python",
   "name": "python",
   "nbconvert_exporter": "python",
   "pygments_lexer": "ipython3",
   "version": "3.8.2"
  }
 },
 "nbformat": 4,
 "nbformat_minor": 4
}
