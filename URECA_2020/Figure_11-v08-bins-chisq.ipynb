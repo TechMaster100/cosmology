{
 "cells": [
  {
   "cell_type": "markdown",
   "metadata": {},
   "source": [
    "Import all necessary modules"
   ]
  },
  {
   "cell_type": "code",
   "execution_count": 1,
   "metadata": {},
   "outputs": [],
   "source": [
    "import math\n",
    "import numpy as np\n",
    "import scipy.integrate as integrate\n",
    "import matplotlib.pyplot as plt\n",
    "import csv"
   ]
  },
  {
   "cell_type": "markdown",
   "metadata": {},
   "source": [
    "Function Dictionary"
   ]
  },
  {
   "cell_type": "code",
   "execution_count": 2,
   "metadata": {},
   "outputs": [],
   "source": [
    "# Calculate E(z), which in this situation depends on w\n",
    "def E(z_i, w, omega_m, omega_l):\n",
    "    omega_k = 1.0 - omega_m - omega_l\n",
    "    E = np.sqrt(omega_m * (1.0 + z_i)**3 + omega_k * (1.0 + z_i)**2 + omega_l * (1.0+z_i)**(3.0*(1.0+w)))\n",
    "    return E;\n",
    "\n",
    "# Calculate the integral D_C/D_H, store it in an array\n",
    "def DCDH_int(z_limit, w, omega_m, omega_l):\n",
    "    f = lambda z_i: 1.0 / E(z_i, w, omega_m, omega_l)\n",
    "    i = integrate.quad(f, 0, z_limit)\n",
    "    return i[0]"
   ]
  },
  {
   "cell_type": "code",
   "execution_count": 3,
   "metadata": {},
   "outputs": [],
   "source": [
    "# Proper Motion distance integrals\n",
    "\n",
    "# proper motion distance for omega_l == 0\n",
    "def prop_motion_0(z, w, DMDH, omega_m, omega_l):\n",
    "    # create the output array DMDH\n",
    "    DMDH = np.copy(z);\n",
    "\n",
    "    # find omega_k = 1 - omega_m - omega_l\n",
    "    omega_k = 1.0 - omega_m - omega_l\n",
    "    print(r\"$\\Omega_k =$ \" + str(omega_k))\n",
    "    print(r\"$\\Omega_\\Mu =$ \" + str(omega_m))\n",
    "    print(r\"$\\Omega_\\Lambda =$ \" + str(omega_l))\n",
    "\n",
    "    # Calculate D_M/D_H for different universe geometries\n",
    "    # open universe (omega_k > 0)\n",
    "    if (omega_k > 1.0e-6):\n",
    "        for i in range(len(z)):\n",
    "            DMDH[i] = 1/np.sqrt(omega_k) * np.sinh( np.sqrt(omega_k) * DCDH_int(z[i],w,omega_m,omega_l) )\n",
    "    # closed universe (omega_k < 0)\n",
    "    elif (omega_k < -1.0e-6):\n",
    "        for i in range(len(z)):\n",
    "            DMDH[i] = 1/np.sqrt(abs(omega_k)) * np.sin( np.sqrt(abs(omega_k)) * DCDH_int(z[i],w,omega_m,omega_l) )\n",
    "    # flat universe (omega_k = 0)\n",
    "    else:\n",
    "        DMDH = 2.0*( 2.0 - omega_m*(1.0-z) - (2-omega_m)*np.sqrt(1.0+omega_m*z) ) / ( omega_m*omega_m*(1.0+z) );\n",
    "\n",
    "    return DMDH\n",
    "\n",
    "# proper motion distance for omega_l != 0\n",
    "def prop_motion(z, w, DMDH, omega_m, omega_l):\n",
    "    DMDH = np.copy(z);\n",
    "    \n",
    "    # find omega_k = 1 - omega_m - omega_l\n",
    "    omega_k = 1.0 - omega_m - omega_l\n",
    "    print(omega_k)\n",
    "    \n",
    "    # Calculate D_M/D_H for different universe geometries\n",
    "    if (omega_k > 1.0e-6):\n",
    "        for i in range(len(z)):\n",
    "            DMDH[i] = 1/np.sqrt(omega_k) * np.sinh( np.sqrt(omega_k) * DCDH_int(z[i],w,omega_m,omega_l) )\n",
    "    # closed universe\n",
    "    elif (omega_k < -1.0e-6):\n",
    "        for i in range(len(z)):\n",
    "            DMDH[i] = 1/np.sqrt(abs(omega_k)) * np.sin( np.sqrt(abs(omega_k)) * DCDH_int(z[i],w, omega_m,omega_l) )\n",
    "    # flat universe\n",
    "    else:\n",
    "        for i in range(len(z)):\n",
    "            DMDH[i] = DCDH_int(z[i], w, omega_m, omega_l)\n",
    "    return DMDH"
   ]
  },
  {
   "cell_type": "code",
   "execution_count": 4,
   "metadata": {},
   "outputs": [],
   "source": [
    "# angular diameter distance\n",
    "def dist_angdiam(z, DMDH, DADH, omega_m, omega_l):\n",
    "    DADH = np.copy(z);\n",
    "    DADH = DMDH / (1.0+z)\n",
    "    return DADH;\n",
    "\n",
    "# luminosity distance\n",
    "def dist_lum(z, DMDH, DLDH, omega_m, omega_l):\n",
    "    DLDH = np.copy(z)\n",
    "    DLDH = DMDH * (1.0+z)\n",
    "    return DLDH;\n",
    "\n",
    "# distance modulus\n",
    "def dist_mod(z, D_H, omega_m, omega_l, DMDH):\n",
    "    # initialize the distance modulus array\n",
    "    mu = np.copy(z)\n",
    "\n",
    "    # convert D_H from Mpc to pc\n",
    "    D_H = D_H * 1.0e6\n",
    "\n",
    "    # calculate each value of mu array\n",
    "    #for i in range(len(z)):\n",
    "        #mu[i] = 5.0 * ( np.log10(1.0+z[i]) + np.log10(DCDH_int(z[i], omega_m, omega_l)) + np.log10(D_H/10) )\n",
    "    mu = 5.0 * ( np.log10(1.0+z) + np.log10(DMDH) + np.log10(D_H/10) )\n",
    "    return mu;\n",
    "\n",
    "# comoving volume element\n",
    "def com_vol(z, DMDH, DVC, omega_m, omega_l, D_H):\n",
    "    DVC = np.copy(z)\n",
    "    for i in range(len(z)):\n",
    "        DVC[i] = DMDH[i]**2 * D_H**3 / ( E(z[i], omega_m, omega_l) )\n",
    "    return DVC"
   ]
  },
  {
   "cell_type": "markdown",
   "metadata": {},
   "source": [
    "Variable Dictionary"
   ]
  },
  {
   "cell_type": "code",
   "execution_count": 5,
   "metadata": {},
   "outputs": [],
   "source": [
    "# Constants\n",
    "omega_k = 0                     # critical density\n",
    "c = 2.9979e5                    # speed of light (km/s)\n",
    "omega_m = None                  # mass density parameter\n",
    "w = None                        # equation of state\n",
    "omega_l = None                  # energy density\n",
    "pressure = 0.0                  # pressure of the universe\n",
    "\n",
    "# Variable dictionary\n",
    "H = None                        # Hubble constant (km/s/Mpc)\n",
    "z = None                        # redshift\n",
    "D_C = None                      # comoving distance, line-of-sight (m)\n",
    "D_M = None                      # comoving distance, transverse (m)\n",
    "D_A = None                      # angular diameter distance (m)\n",
    "D_L = None                      # luminosity distance (m)\n",
    "V_C = None                      # comoving volume (m^3)\n",
    "D_H = None                      # Hubble Distance (Mpc)\n",
    "array_size = None               # size of each array, which is the number of z values\n",
    "param_text = \"\"                 # label for the plots\n",
    "npts = None                     # Number of points (omega_m, w) we use\n",
    "\n",
    "# Output arrays\n",
    "z = None;                       # Array of input values of z\n",
    "DMDH = np.array([])             # Array of output values of D_M/D_H\n",
    "DADH = np.array([])             # Array of output values of D_A/D_H\n",
    "DLDH = np.array([])             # Array of output values of D_L/D_H\n",
    "dmod = np.array([])             # distance modulus array\n",
    "DVC = np.array([])              # comoving volume array\n",
    "tLtH = np.array([])             # Array of lookback times\n",
    "age = np.array([])              # Array of ages\n",
    "dPdz = np.array([])             # dimensionless intersection probability"
   ]
  },
  {
   "cell_type": "markdown",
   "metadata": {},
   "source": [
    "We draw arrays of corresponding density parameters from Figure 20.\n",
    "\n",
    "We note that equation of state $w$ and energy density $\\Omega_\\Lambda$ are related as follows:\n",
    "$$w = \\frac{pressure}{\\Omega_\\Lambda}$$"
   ]
  },
  {
   "cell_type": "markdown",
   "metadata": {},
   "source": [
    "Take in values. Test each value of omega_m and w individually."
   ]
  },
  {
   "cell_type": "code",
   "execution_count": 6,
   "metadata": {},
   "outputs": [
    {
     "name": "stdout",
     "output_type": "stream",
     "text": [
      "Ω_k = 0.0\n",
      "Value of omega_m: 0.5\n",
      "Value of w: -1.0\n"
     ]
    }
   ],
   "source": [
    "# arrays of density parameters\n",
    "\n",
    "# Take in densities\n",
    "print(\"\\u03A9_k = 0.0\")     # omega_k = 0.0\n",
    "\n",
    "# Take in Hubble constant\n",
    "H = 70\n",
    "D_H = c / H                 # Hubble distance\n",
    "\n",
    "# Take in w-values and omega_m values\n",
    "omega_m = float(input(\"Value of omega_m: \"))\n",
    "w = float(input(\"Value of w: \"))\n",
    "\n",
    "# Parameters for plot, including the range of redshift values and y-axis\n",
    "zmin = 0.001\n",
    "zmax = 2.5\n",
    "ymin = 0\n",
    "ymax = 50\n",
    "\n",
    "# Define the array of z-values (redshift)\n",
    "z = np.linspace(zmin, zmax, 100)"
   ]
  },
  {
   "cell_type": "markdown",
   "metadata": {},
   "source": [
    "Plot the Distance Modulus. Assume a flat universe, i.e. $\\Omega_\\Lambda = 1 - \\Omega_M$."
   ]
  },
  {
   "cell_type": "code",
   "execution_count": 7,
   "metadata": {},
   "outputs": [
    {
     "name": "stdout",
     "output_type": "stream",
     "text": [
      "0.0\n"
     ]
    },
    {
     "data": {
      "image/png": "[encoded data removed]",
      "text/plain": [
       "<Figure size 432x288 with 1 Axes>"
      ]
     },
     "metadata": {
      "needs_background": "light"
     },
     "output_type": "display_data"
    }
   ],
   "source": [
    "plt.title(\"Distance Modulus vs Redshift\")\n",
    "plt.xlabel(\"z\")\n",
    "plt.ylabel(\"distance modulus DM + 5 log h (mag)\")\n",
    "\n",
    "# Begin by collecting csv data and making a scatter plot of it\n",
    "sne_x = []\n",
    "sne_y = []\n",
    "err_sne_y = []\n",
    "\n",
    "with open('ps1_data.txt', newline='') as csvfile:\n",
    "    ps1_data = csv.reader(csvfile, delimiter=' ')\n",
    "        \n",
    "    i = 0\n",
    "    for row in ps1_data:\n",
    "        if (i > 0):\n",
    "            sne_x.append(float(row[1]))\n",
    "            sne_y.append(float(row[4]))\n",
    "            err_sne_y.append(float(row[5]))\n",
    "        i+= 1\n",
    "csvfile.close()\n",
    "\n",
    "# convert all lists to arrays\n",
    "sne_x = np.array(sne_x)\n",
    "sne_y = np.array(sne_y)\n",
    "err_sne_y = np.array(err_sne_y)\n",
    "\n",
    "# Generate scatterplot\n",
    "plt.scatter(sne_x, sne_y)\n",
    "\n",
    "# Calculate the distance moduli and plot them\n",
    "omega_l = 1.0 - omega_m\n",
    "if (omega_l == 0):\n",
    "    DMDH = prop_motion_0(z, w, DMDH, omega_m, omega_l)\n",
    "else:\n",
    "    DMDH = prop_motion(z, w, DMDH, omega_m, omega_l)\n",
    "\n",
    "mu = dist_mod(z, D_H, omega_m, omega_l, DMDH)\n",
    "\n",
    "param_text = r\"$\\left(\\Omega_M, w\\right) = \" + \"(\" + str(omega_m) + \", \" + str(w) + \")$\"\n",
    "plt.plot(z, mu, label=param_text)\n",
    "\n",
    "# Plot attributes\n",
    "plt.axis([zmin, zmax, ymin, ymax])\n",
    "plt.xscale('log')\n",
    "plt.legend(loc='lower right')\n",
    "plt.show()"
   ]
  },
  {
   "cell_type": "markdown",
   "metadata": {},
   "source": [
    "Generate a residual plot by feeding values from sne_x into the prop_motion() function."
   ]
  },
  {
   "cell_type": "code",
   "execution_count": 8,
   "metadata": {},
   "outputs": [
    {
     "name": "stdout",
     "output_type": "stream",
     "text": [
      "0.0\n"
     ]
    },
    {
     "data": {
      "image/png": "[encoded data removed]",
      "text/plain": [
       "<Figure size 432x288 with 1 Axes>"
      ]
     },
     "metadata": {
      "needs_background": "light"
     },
     "output_type": "display_data"
    }
   ],
   "source": [
    "res = []                     # list of residuals\n",
    "\n",
    "# test values of omega_m and omega_l\n",
    "\n",
    "# Feed the sne_x array into the functions\n",
    "if (omega_l == 0):\n",
    "    DMDH = prop_motion_0(sne_x, w, DMDH, omega_m, omega_l)\n",
    "else:\n",
    "    DMDH = prop_motion(sne_x, w, DMDH, omega_m, omega_l)\n",
    "\n",
    "# corresponding predicted distance modulus\n",
    "dm_predicted = dist_mod(sne_x, D_H, omega_m, omega_l, DMDH)\n",
    "\n",
    "# actual distance modulus\n",
    "dm_actual = np.copy(sne_y)\n",
    "\n",
    "# calculate residuals and convert to array\n",
    "res = dm_actual - dm_predicted\n",
    "res = np.array(res)\n",
    "\n",
    "# Find the average residual value\n",
    "avg_res = np.mean(res)\n",
    "# Plot a horizontal line corresponding to y = avg_res\n",
    "avg_y = np.copy(z)    # Create a copy of the z-array into the avg_y array\n",
    "for i in range(len(avg_y)):    # Assign each slot of avg_y the value avg_res\n",
    "    avg_y[i] = avg_res\n",
    "\n",
    "# re-calculate the error bars for residuals if needed\n",
    "# sigma_res = sqrt(sigma_dm_actual^2 + sigma_dm_predicted^2)\n",
    "err_predicted = 0.0    # assume zero uncertainty in the prediction function\n",
    "sigma_res = np.array([])\n",
    "sigma_res = err_sne_y**2 + err_predicted**2\n",
    "sigma_res = np.sqrt(sigma_res)\n",
    "\n",
    "param_text = \"average residual\"\n",
    "    \n",
    "plt.title(\"Distance Modulus vs Redshift: Residuals\")\n",
    "plt.xlabel(\"z\")\n",
    "plt.ylabel(\"residual distance modulus DM + 5 log h (mag)\")\n",
    "plt.scatter(sne_x, res)\n",
    "plt.errorbar(sne_x, res, yerr=sigma_res, fmt='.')\n",
    "plt.plot(z, avg_y, label=param_text)\n",
    "plt.xscale('log')\n",
    "plt.legend(loc='lower right')\n",
    "plt.show()"
   ]
  },
  {
   "cell_type": "markdown",
   "metadata": {},
   "source": [
    "Plot again with residuals concentrated around 0."
   ]
  },
  {
   "cell_type": "code",
   "execution_count": 9,
   "metadata": {},
   "outputs": [
    {
     "name": "stderr",
     "output_type": "stream",
     "text": [
      "No handles with labels found to put in legend.\n"
     ]
    },
    {
     "data": {
      "image/png": "[encoded data removed]",
      "text/plain": [
       "<Figure size 432x288 with 1 Axes>"
      ]
     },
     "metadata": {
      "needs_background": "light"
     },
     "output_type": "display_data"
    }
   ],
   "source": [
    "param_text = r\"$\\left(\\Omega_M, w\\right) = \" + \"(\" + str(omega_m) + \", \" + str(w) + \")$\"\n",
    "    \n",
    "plt.title(\"Distance Modulus vs Redshift: Residuals\")\n",
    "plt.xlabel(\"z\")\n",
    "plt.ylabel(\"residual distance modulus DM + 5 log h (mag)\")\n",
    "plt.scatter(sne_x, res-avg_res)\n",
    "plt.errorbar(sne_x, res-avg_res, yerr=sigma_res, fmt='.')\n",
    "plt.xscale('log')\n",
    "plt.legend(loc='lower right')\n",
    "plt.show()"
   ]
  },
  {
   "cell_type": "markdown",
   "metadata": {},
   "source": [
    "Let's plot the scatterplot lined up with the function graph:"
   ]
  },
  {
   "cell_type": "code",
   "execution_count": 10,
   "metadata": {},
   "outputs": [
    {
     "name": "stdout",
     "output_type": "stream",
     "text": [
      "0.0\n"
     ]
    },
    {
     "data": {
      "image/png": "[encoded data removed]",
      "text/plain": [
       "<Figure size 432x288 with 1 Axes>"
      ]
     },
     "metadata": {
      "needs_background": "light"
     },
     "output_type": "display_data"
    },
    {
     "name": "stdout",
     "output_type": "stream",
     "text": [
      "[0.50309 0.4948  0.67767 ... 1.014   1.315   1.092  ]\n",
      "1048\n"
     ]
    }
   ],
   "source": [
    "if (omega_l == 0):\n",
    "    DMDH = prop_motion_0(z, w, DMDH, omega_m, omega_l)\n",
    "else:\n",
    "    DMDH = prop_motion(z, w, DMDH, omega_m, omega_l)\n",
    "\n",
    "mu = dist_mod(z, D_H, omega_m, omega_l, DMDH) + avg_res\n",
    "\n",
    "plt.title(\"Distance Modulus vs Redshift\")\n",
    "plt.xlabel(\"z\")\n",
    "plt.ylabel(\"distance modulus DM + 5 log h (mag)\")\n",
    "param_text = r\"$\\left(\\Omega_M, w\\right) = \" + \"(\" + str(omega_m) + \", \" + str(w) + \")$\"\n",
    "plt.plot(z, mu, label=param_text)\n",
    "plt.scatter(sne_x, sne_y)\n",
    "plt.axis([zmin, zmax, ymin, ymax])\n",
    "plt.xscale('log')\n",
    "plt.legend(loc='lower right')\n",
    "plt.show()\n",
    "\n",
    "print(sne_x)\n",
    "print(len(sne_x))"
   ]
  },
  {
   "cell_type": "markdown",
   "metadata": {},
   "source": [
    "Now let's bin the z-values into bins of equal size and find the average residual for each bin."
   ]
  },
  {
   "cell_type": "code",
   "execution_count": 11,
   "metadata": {},
   "outputs": [
    {
     "name": "stdout",
     "output_type": "stream",
     "text": [
      "Enter number of bins of z: 10\n",
      "number of bins: 10\n",
      "bin size: 104.8\n",
      "[0.022443343516059085, 0.056769441481445665, 0.13050462158491605, 0.18155997308391233, 0.22636662114419234, 0.2714165646573737, 0.3293975242884997, 0.423760283229919, 0.6043164454054545, 0.931103603096966]\n",
      "[-19.36842258675629, -19.350037576614643, -19.282246699410084, -19.29500375570494, -19.280293359825553, -19.291361806817456, -19.23221254462919, -19.215705351975718, -19.191083603406998, -19.129511289101735]\n",
      "chi-square: 21660909.81797547\n"
     ]
    },
    {
     "data": {
      "image/png": "[encoded data removed]",
      "text/plain": [
       "<Figure size 432x288 with 1 Axes>"
      ]
     },
     "metadata": {
      "needs_background": "light"
     },
     "output_type": "display_data"
    }
   ],
   "source": [
    "#Create copies of sne_x, res, sigma_res\n",
    "zs = np.copy(sne_x)    # z-values\n",
    "# res and sigma_res already exist\n",
    "zs, res, sigma_res = zip(*sorted(zip(zs, res, sigma_res)))\n",
    "\n",
    "Nbins = int(input(\"Enter number of bins of z: \"))   # Number of bins\n",
    "bin_size = (1.0*len(sne_x)) / (1.0* Nbins)    # bin size (in terms of number of array slots)\n",
    "j = 0                                               # index of each entry in the full sne_x array\n",
    "Nadded = 0                                          # number of residuals added from the current bin\n",
    "binned_z = []                                       # array of average z-values per bin\n",
    "zstep = (max(sne_x)-min(sne_x)) / (1.0*Nbins)       # z-step = range / Nbins\n",
    "cur_z = -zstep / 2.0                                # current average value of z for the bin\n",
    "bin_mean = 0.0                                      # average residual for the given bin\n",
    "bin_means = []                                      # average residuals for bins, in an array\n",
    "bin_mean_se = 0.0                                   # standard error of the current bin\n",
    "bin_mean_ses = []                                   # array of standard errors of bins\n",
    "chi2 = 0.0                                          # chi-square value\n",
    "\n",
    "print(\"number of bins: \" + str(Nbins))\n",
    "print(\"bin size: \" + str(bin_size))\n",
    "\n",
    "# iterate over all bins, calculate average residual for each bin\n",
    "\n",
    "for i in range(Nbins):\n",
    "    wj = 0.0           # weight\n",
    "    rj = 0.0           # residual\n",
    "    zj = 0.0\n",
    "    \n",
    "    sum_wj_rj = 0.0                                     # sum of: (weight times residual)\n",
    "    sum_wj = 0.0                                        # sum of weights\n",
    "    sum_wj_zj = 0.0\n",
    "\n",
    "    # Inside the current bin, sum the residuals\n",
    "    while (j < math.ceil((i+1)*bin_size) and j < len(res)): # Inside the current bin, sum the residuals\n",
    "        rj = res[j]\n",
    "        wj = 1.0/(sigma_res[j]*sigma_res[j])\n",
    "        sum_wj_rj += wj * rj\n",
    "        sum_wj_zj += wj * zs[j]\n",
    "        sum_wj += wj\n",
    "        j+=1\n",
    "            \n",
    "    bin_mean = sum_wj_rj / sum_wj    # calcualte average residual for given bin and add to array\n",
    "    bin_means.append(bin_mean)\n",
    "    \n",
    "    # calculate standard error for given bin and append to array of SE's\n",
    "    bin_mean_se = 1.0/np.sqrt(sum_wj)\n",
    "    bin_mean_ses.append(bin_mean_se)\n",
    "    \n",
    "    # Append the current z-value to array of binned z-values\n",
    "    cur_z = sum_wj_zj / sum_wj\n",
    "    binned_z.append(cur_z)\n",
    "    \n",
    "    # reset incremental values to 0\n",
    "    sum_wj_rj = 0.0\n",
    "    sum_wj = 0.0\n",
    "    bin_mean = 0.0                      # reset bin mean residual to 0\n",
    "    bin_mean_se = 0.0                   # reset bin standard error to 0\n",
    "\n",
    "    i+=1                                # increment i\n",
    "    \n",
    "print(binned_z)\n",
    "print(bin_means)\n",
    "\n",
    "# Plot residuals\n",
    "plt.xlabel(\"z\")\n",
    "plt.ylabel(\"\")\n",
    "plt.scatter(binned_z, bin_means-avg_res)\n",
    "plt.show()"
   ]
  },
  {
   "cell_type": "markdown",
   "metadata": {},
   "source": [
    "Let's superimpose the binned residuals on top of our original residual scatterplot."
   ]
  },
  {
   "cell_type": "code",
   "execution_count": 12,
   "metadata": {},
   "outputs": [
    {
     "name": "stderr",
     "output_type": "stream",
     "text": [
      "No handles with labels found to put in legend.\n"
     ]
    },
    {
     "name": "stdout",
     "output_type": "stream",
     "text": [
      "length of original arrays\n",
      "1048\n",
      "1048\n",
      "length of binned arrays\n",
      "10\n",
      "10\n"
     ]
    },
    {
     "data": {
      "image/png": "[encoded data removed]",
      "text/plain": [
       "<Figure size 432x288 with 1 Axes>"
      ]
     },
     "metadata": {
      "needs_background": "light"
     },
     "output_type": "display_data"
    }
   ],
   "source": [
    "print(\"length of original arrays\")\n",
    "print(len(sne_x))\n",
    "print(len(res))\n",
    "print(\"length of binned arrays\")\n",
    "print(len(binned_z))\n",
    "print(len(bin_means))\n",
    "\n",
    "param_text = r\"$\\left(\\Omega_M, w\\right) = \" + \"(\" + str(omega_m) + \", \" + str(w) + \")$\"\n",
    "    \n",
    "plt.title(\"Distance Modulus vs Redshift: Residuals\")\n",
    "plt.xlabel(\"z\")\n",
    "plt.ylabel(\"residual distance modulus DM + 5 log h (mag)\")\n",
    "\n",
    "# Original residuals\n",
    "#plt.scatter(sne_x, res-avg_res)\n",
    "plt.errorbar(zs, res-avg_res, yerr=sigma_res, fmt='.')\n",
    "\n",
    "# Binned residuals\n",
    "#plt.scatter(binned_z, bin_means-avg_res)\n",
    "plt.errorbar(binned_z, bin_means-avg_res, yerr=bin_mean_ses, fmt='.')\n",
    "plt.xscale('log')\n",
    "plt.legend(loc='lower right')\n",
    "plt.show()"
   ]
  },
  {
   "cell_type": "code",
   "execution_count": 18,
   "metadata": {},
   "outputs": [
    {
     "name": "stdout",
     "output_type": "stream",
     "text": [
      "res\n",
      "-0.03363819004391999\n",
      "sigma_res\n",
      "0.19825\n",
      "res\n",
      "0.05308090511872621\n",
      "sigma_res\n",
      "0.2048\n",
      "res\n",
      "-0.08222052477977115\n",
      "sigma_res\n",
      "0.20035\n",
      "res\n",
      "-0.07865500210693455\n",
      "sigma_res\n",
      "0.18445\n",
      "chi-square: 108307078.86579354\n",
      "Omega_m=0.5\n",
      "w=-1.0\n",
      "Offset=-19.257025509750704\n"
     ]
    }
   ],
   "source": [
    "# Calculate chi-square\n",
    "adj_res = res-avg_res\n",
    "\n",
    "for j in range(len(res)):\n",
    "    chi2 += (adj_res[j]/sigma_res[j])**2\n",
    "    if (j < 4):\n",
    "        print(\"res\")\n",
    "        print(adj_res[j])\n",
    "        print(\"sigma_res\")\n",
    "        print(sigma_res[j])\n",
    "print(\"chi-square: \" + str(chi2))\n",
    "\n",
    "# Print the parameters used to make chi-square\n",
    "print(\"Omega_m=\" + str(omega_m))\n",
    "print(\"w=\" + str(w))\n",
    "print(\"Offset=\" + str(avg_res))"
   ]
  },
  {
   "cell_type": "markdown",
   "metadata": {},
   "source": [
    "Examples of good data points $(\\Omega_M, w)$:z\n",
    "\n",
    "(0.2,-0.8)\n",
    "\n",
    "(0.3,-1.0)\n",
    "\n",
    "(0.4,-1.3)\n",
    "\n",
    "Examples of bad data points $(\\Omega_M, w)$:\n",
    "\n",
    "(0.5, -1.0)\n",
    "\n",
    "(0.25, -0.2)\n",
    "\n",
    "(0.3, -2.0)\n",
    "\n",
    "(0.1, -1.5)"
   ]
  },
  {
   "cell_type": "markdown",
   "metadata": {},
   "source": []
  },
  {
   "cell_type": "code",
   "execution_count": null,
   "metadata": {},
   "outputs": [],
   "source": []
  }
 ],
 "metadata": {
  "kernelspec": {
   "display_name": "Python 3",
   "language": "python",
   "name": "python3"
  },
  "language_info": {
   "codemirror_mode": {
    "name": "ipython",
    "version": 3
   },
   "file_extension": ".py",
   "mimetype": "text/x-python",
   "name": "python",
   "nbconvert_exporter": "python",
   "pygments_lexer": "ipython3",
   "version": "3.8.2"
  }
 },
 "nbformat": 4,
 "nbformat_minor": 4
}
