{
 "cells": [
  {
   "cell_type": "markdown",
   "metadata": {},
   "source": [
    "Import all necessary modules"
   ]
  },
  {
   "cell_type": "code",
   "execution_count": 1,
   "metadata": {},
   "outputs": [],
   "source": [
    "import math\n",
    "import numpy as np\n",
    "import scipy.integrate as integrate\n",
    "import matplotlib.pyplot as plt\n",
    "import csv"
   ]
  },
  {
   "cell_type": "markdown",
   "metadata": {},
   "source": [
    "Function Dictionary"
   ]
  },
  {
   "cell_type": "code",
   "execution_count": 2,
   "metadata": {},
   "outputs": [],
   "source": [
    "# Calculate E(z)\n",
    "def E(z_i, w, omega_m, omega_l):\n",
    "    omega_k = 1.0 - omega_m - omega_l\n",
    "    E = np.sqrt(omega_m * (1.0 + z_i)**3 + omega_k * (1.0 + z_i)**2 + omega_l * (1.0+z_i)**(3.0*(1+w)))\n",
    "    return E;\n",
    "\n",
    "# Calculate the integral D_C/D_H, store it in an array\n",
    "def DCDH_int(z_limit, omega_m, omega_l):\n",
    "    f = lambda z_i: 1.0 / E(z_i, omega_m, omega_l)\n",
    "    i = integrate.quad(f, 0, z_limit)\n",
    "    return i[0]"
   ]
  },
  {
   "cell_type": "code",
   "execution_count": 3,
   "metadata": {},
   "outputs": [],
   "source": [
    "# Proper Motion distance integrals\n",
    "\n",
    "# proper motion distance for omega_l == 0\n",
    "def prop_motion_0(z, DMDH, omega_m, omega_l):\n",
    "    # create the output array DMDH\n",
    "    DMDH = np.copy(z);\n",
    "\n",
    "    # find omega_k = 1 - omega_m - omega_l\n",
    "    omega_k = 1.0 - omega_m - omega_l\n",
    "    print(r\"$\\Omega_k =$ \" + str(omega_k))\n",
    "    print(r\"$\\Omega_\\Mu =$ \" + str(omega_m))\n",
    "    print(r\"$\\Omega_\\Lambda =$ \" + str(omega_l))\n",
    "\n",
    "    # Calculate D_M/D_H for different universe geometries\n",
    "    # open universe\n",
    "    if (omega_k > 1.0e-6):\n",
    "        for i in range(len(z)):\n",
    "            DMDH[i] = 1/np.sqrt(omega_k) * np.sinh( np.sqrt(omega_k) * DCDH_int(z[i],omega_m,omega_l) )\n",
    "    # closed universe\n",
    "    elif (omega_k < -1.0e-6):\n",
    "        for i in range(len(z)):\n",
    "            DMDH[i] = 1/np.sqrt(abs(omega_k)) * np.sin( np.sqrt(abs(omega_k)) * DCDH_int(z[i],omega_m,omega_l) )\n",
    "    # flat universe\n",
    "    else:\n",
    "        DMDH = 2.0*( 2.0 - omega_m*(1.0-z) - (2-omega_m)*np.sqrt(1.0+omega_m*z) ) / ( omega_m*omega_m*(1.0+z) );\n",
    "\n",
    "    return DMDH\n",
    "\n",
    "# proper motion distance for omega_l != 0\n",
    "def prop_motion(z, DMDH, omega_m, omega_l):\n",
    "    DMDH = np.copy(z);\n",
    "    \n",
    "    # find omega_k = 1 - omega_m - omega_l\n",
    "    omega_k = 1.0 - omega_m - omega_l\n",
    "    print(omega_k)\n",
    "    \n",
    "    # Calculate D_M/D_H for different universe geometries\n",
    "    if (omega_k > 1.0e-6):\n",
    "        for i in range(len(z)):\n",
    "            DMDH[i] = 1/np.sqrt(omega_k) * np.sinh( np.sqrt(omega_k) * DCDH_int(z[i],omega_m,omega_l) )\n",
    "    # closed universe\n",
    "    elif (omega_k < -1.0e-6):\n",
    "        for i in range(len(z)):\n",
    "            DMDH[i] = 1/np.sqrt(abs(omega_k)) * np.sin( np.sqrt(abs(omega_k)) * DCDH_int(z[i],omega_m,omega_l) )\n",
    "    # flat universe\n",
    "    else:\n",
    "        for i in range(len(z)):\n",
    "            DMDH[i] = DCDH_int(z[i], omega_m, omega_l)\n",
    "    return DMDH"
   ]
  },
  {
   "cell_type": "code",
   "execution_count": 4,
   "metadata": {},
   "outputs": [],
   "source": [
    "# angular diameter distance\n",
    "def dist_angdiam(z, DMDH, DADH, omega_m, omega_l):\n",
    "    DADH = np.copy(z);\n",
    "    DADH = DMDH / (1.0+z)\n",
    "    return DADH;\n",
    "\n",
    "# luminosity distance\n",
    "def dist_lum(z, DMDH, DLDH, omega_m, omega_l):\n",
    "    DLDH = np.copy(z)\n",
    "    DLDH = DMDH * (1.0+z)\n",
    "    return DLDH;\n",
    "\n",
    "# distance modulus\n",
    "def dist_mod(z, D_H, omega_m, omega_l, DMDH):\n",
    "    # initialize the distance modulus array\n",
    "    mu = np.copy(z)\n",
    "\n",
    "    # convert D_H from Mpc to pc\n",
    "    D_H = D_H * 1.0e6\n",
    "\n",
    "    # calculate each value of mu array\n",
    "    #for i in range(len(z)):\n",
    "        #mu[i] = 5.0 * ( np.log10(1.0+z[i]) + np.log10(DCDH_int(z[i], omega_m, omega_l)) + np.log10(D_H/10) )\n",
    "    mu = 5.0 * ( np.log10(1.0+z) + np.log10(DMDH) + np.log10(D_H/10) )\n",
    "    return mu;\n",
    "\n",
    "# comoving volume element\n",
    "def com_vol(z, DMDH, DVC, omega_m, omega_l, D_H):\n",
    "    DVC = np.copy(z)\n",
    "    for i in range(len(z)):\n",
    "        DVC[i] = DMDH[i]**2 * D_H**3 / ( E(z[i], omega_m, omega_l) )\n",
    "    return DVC;"
   ]
  },
  {
   "cell_type": "markdown",
   "metadata": {},
   "source": [
    "Variable Dictionary"
   ]
  },
  {
   "cell_type": "code",
   "execution_count": 5,
   "metadata": {},
   "outputs": [],
   "source": [
    "# Constants\n",
    "omega_k = 0                     # critical density\n",
    "c = 2.9979e5                    # speed of light (km/s)\n",
    "omega_m = None                  # mass density parameter\n",
    "w = None                        # equation of state\n",
    "omega_l = None                  # energy density\n",
    "pressure = 0.0                  # pressure of the universe\n",
    "\n",
    "# Variable dictionary\n",
    "H = None                        # Hubble constant (km/s/Mpc)\n",
    "z = None                        # redshift\n",
    "D_C = None                      # comoving distance, line-of-sight (m)\n",
    "D_M = None                      # comoving distance, transverse (m)\n",
    "D_A = None                      # angular diameter distance (m)\n",
    "D_L = None                      # luminosity distance (m)\n",
    "V_C = None                      # comoving volume (m^3)\n",
    "D_H = None                      # Hubble Distance (Mpc)\n",
    "array_size = None               # size of each array, which is the number of z values\n",
    "param_text = \"\"                 # label for the plots\n",
    "\n",
    "# Output arrays\n",
    "z = None;                       # Array of input values of z\n",
    "DMDH = np.array([])             # Array of output values of D_M/D_H\n",
    "DADH = np.array([])             # Array of output values of D_A/D_H\n",
    "DLDH = np.array([])             # Array of output values of D_L/D_H\n",
    "dmod = np.array([])             # distance modulus array\n",
    "DVC = np.array([])              # comoving volume array\n",
    "tLtH = np.array([])             # Array of lookback times\n",
    "age = np.array([])              # Array of ages\n",
    "dPdz = np.array([])             # dimensionless intersection probability"
   ]
  },
  {
   "cell_type": "markdown",
   "metadata": {},
   "source": [
    "We draw arrays of corresponding density parameters from Figure 20.\n",
    "\n",
    "We note that equation of state $w$ and energy density $\\Omega_\\Lambda$ are related as follows:\n",
    "$$w = \\frac{pressure}{\\Omega_\\Lambda}$$"
   ]
  },
  {
   "cell_type": "code",
   "execution_count": 6,
   "metadata": {},
   "outputs": [
    {
     "name": "stderr",
     "output_type": "stream",
     "text": [
      "<ipython-input-6-6fd72f42069d>:5: RuntimeWarning: invalid value encountered in true_divide\n",
      "  omegal_array = pressure / w_array\n"
     ]
    }
   ],
   "source": [
    "# arrays of density parameters\n",
    "omegam_array = np.array([1.0, 0.05, 0.2])\n",
    "w_array = np.array([0.0, 0.0, 0.8])\n",
    "omegal_array = np.copy(w_array)\n",
    "omegal_array = pressure / w_array\n",
    "\n",
    "# Note: remove this later\n",
    "# arrays of density parameters\n",
    "omegam_array = np.array([1.0, 0.05, 0.2])\n",
    "omegal_array = np.array([0.0, 0.0, 0.8])"
   ]
  },
  {
   "cell_type": "markdown",
   "metadata": {},
   "source": [
    "Take in values"
   ]
  },
  {
   "cell_type": "code",
   "execution_count": 21,
   "metadata": {},
   "outputs": [
    {
     "name": "stdout",
     "output_type": "stream",
     "text": [
      "Ω_k = 0.0\n"
     ]
    }
   ],
   "source": [
    "# Take in densities\n",
    "print(\"\\u03A9_k = 0.0\")     # omega_k = 0.0\n",
    "\n",
    "# Take in Hubble constant\n",
    "H = 70#float(input(\"Enter Hubble constant (in km/s/Mpc): \"))\n",
    "D_H = c / H                 # Hubble distance\n",
    "\n",
    "# Parameters for plot, including the range of redshift values and y-axis\n",
    "zmin = 0.001\n",
    "zmax = 2.5\n",
    "ymin = 0\n",
    "ymax = None\n",
    "\n",
    "# Define the array of z-values (redshift)\n",
    "z = np.linspace(zmin, zmax, 100)"
   ]
  },
  {
   "cell_type": "markdown",
   "metadata": {},
   "source": [
    "Plot the Distance Modulus"
   ]
  },
  {
   "cell_type": "code",
   "execution_count": 23,
   "metadata": {},
   "outputs": [
    {
     "name": "stdout",
     "output_type": "stream",
     "text": [
      "Distance Modulus vs Redshift\n",
      "sne_x\n",
      "[0.50309, 0.4948, 0.67767, 0.8665, 0.79857, 0.37144, 0.35582, 0.2836, 0.4664, 0.94688, 0.69315, 0.89693, 0.78904, 0.59027, 0.21075, 0.85852, 0.55875, 0.9964, 0.58294, 0.79656, 0.91348, 0.94846, 0.73362, 0.7656, 0.98341, 0.70064, 0.83814, 0.3706, 0.35858, 0.52278, 0.70198, 0.74613, 0.59185, 0.62063, 1.00279, 0.61064, 0.35833, 0.45155, 0.5526, 0.75068, 0.82269, 0.95076, 0.34052, 0.81072, 0.61124, 0.54831, 1.02879, 0.42244, 0.70115, 0.68517, 0.93189, 0.74909, 0.4684, 0.95886, 0.84053, 0.56276, 0.82854, 0.57875, 0.8645, 0.85851, 0.58575, 0.48881, 0.68866, 0.32454, 0.18538, 0.68196, 0.92223, 0.42866, 0.69998, 0.57584, 0.51176, 0.64191, 0.35157, 0.34957, 0.35527, 0.87217, 0.92624, 0.41957, 0.89073, 0.48057, 0.5806, 0.80569, 0.66464, 0.74566, 0.73669, 0.37053, 0.85073, 0.21946, 0.64764, 0.6006, 0.7607, 0.47057, 0.49737, 0.50736, 0.58728, 0.69915, 0.76108, 0.78805, 0.40547, 0.80804, 0.58328, 0.72013, 0.83699, 0.80603, 0.50074, 0.53378, 0.82212, 0.12531, 0.44368, 0.68366, 0.72668, 0.40455, 0.69065, 0.57661, 0.72068, 0.55031, 0.84797, 0.43544, 0.30158, 0.58073, 0.34593, 0.33094, 0.44956, 0.29172, 0.46127, 0.63222, 0.26862, 0.92491, 0.62522, 0.60825, 0.57828, 0.71963, 0.7666, 0.36791, 0.84852, 0.7766, 0.58375, 0.58873, 0.76859, 0.5138, 0.63771, 0.43487, 0.58375, 0.66206, 0.62189, 0.41664, 0.45169, 0.73401, 0.74202, 0.34957, 0.51476, 0.64364, 0.47058, 0.26349, 0.7427, 0.91075, 0.33753, 0.98377, 0.81369, 0.81773, 0.96075, 0.75669, 0.87796, 0.80902, 0.62723, 0.93389, 0.69715, 0.76706, 0.86397, 0.51434, 0.47039, 0.9279, 0.63071, 0.6157, 0.56475, 0.55775, 0.73561, 0.26199, 0.76159, 0.85852, 0.55875, 0.48072, 0.92224, 0.47572, 0.8932, 0.6319, 0.73602, 0.41865, 0.53578, 0.73501, 0.60987, 0.70198, 0.9833, 0.75905, 0.64364, 0.51559, 0.80569, 0.8007, 0.71565, 0.76668, 0.90173, 0.71868, 0.5796, 0.96074, 0.64864, 0.93675, 0.46156, 0.67065, 0.24649, 0.63822, 0.53532, 0.77307, 0.3705, 0.69916, 0.3735, 0.85298, 0.60326, 0.53433, 0.40048, 0.3715, 0.83999, 0.53278, 0.93225, 0.55381, 0.84214, 0.72767, 0.44255, 0.28251, 0.51961, 1.0608, 0.26849, 0.2505, 0.69816, 0.73012, 0.99781, 0.40946, 0.12679, 0.25577, 0.08859, 0.11782, 0.18356, 0.14055, 0.15171, 0.094, 0.28631, 0.26318, 0.14167, 0.16053, 0.1229, 0.1262, 0.17331, 0.16448, 0.16018, 0.24488, 0.24805, 0.27511, 0.33015, 0.3307, 0.1604, 0.21861, 0.12005, 0.17818, 0.279, 0.18562, 0.06641, 0.25769, 0.27946, 0.2655, 0.18478, 0.05715, 0.32601, 0.10902, 0.20299, 0.37949, 0.21198, 0.21327, 0.14393, 0.25218, 0.25641, 0.2186, 0.07883, 0.08328, 0.17008, 0.23643, 0.30538, 0.08286, 0.18905, 0.08162, 0.25626, 0.12631, 0.1028, 0.1244, 0.37003, 0.20192, 0.18004, 0.16163, 0.22644, 0.29649, 0.24999, 0.14864, 0.14711, 0.2149, 0.14462, 0.13226, 0.2195, 0.38447, 0.1742, 0.17772, 0.29911, 0.1187, 0.17685, 0.24526, 0.1959, 0.24832, 0.30617, 0.24616, 0.13527, 0.21028, 0.23603, 0.17831, 0.22043, 0.31468, 0.1846, 0.2611, 0.18122, 0.38003, 0.1846, 0.20824, 0.17746, 0.31555, 0.24954, 0.20324, 0.12347, 0.20314, 0.15352, 0.33398, 0.19582, 0.24943, 0.1549, 0.15625, 0.15819, 0.309, 0.24828, 0.18484, 0.18353, 0.18212, 0.17675, 0.17748, 0.0718, 0.13796, 0.16941, 0.24527, 0.14406, 0.25163, 0.03743, 0.27716, 0.28712, 0.19845, 0.16031, 0.21053, 0.23753, 0.15499, 0.0939, 0.15253, 0.25693, 0.21231, 0.24583, 0.13679, 0.32529, 0.10643, 0.4008, 0.1891, 0.19731, 0.12783, 0.12291, 0.12687, 0.21311, 0.21075, 0.26826, 0.20431, 0.26991, 0.24162, 0.2908, 0.35306, 0.28509, 0.21929, 0.17537, 0.23517, 0.15298, 0.20982, 0.29121, 0.31353, 0.13672, 0.29532, 0.30369, 0.20532, 0.12175, 0.17424, 0.24862, 0.2453, 0.13816, 0.24288, 0.24237, 0.31437, 0.2754, 0.30004, 0.21735, 0.20311, 0.19005, 0.29003, 0.22796, 0.31032, 0.13712, 0.08798, 0.08534, 0.19024, 0.09278, 0.12891, 0.26136, 0.26132, 0.1957, 0.14723, 0.21154, 0.17972, 0.1907, 0.3385, 0.11762, 0.28854, 0.26377, 0.24931, 0.22939, 0.08575, 0.27631, 0.36165, 0.30006, 0.11659, 0.15474, 0.2501, 0.25149, 0.12941, 0.30894, 0.29859, 0.27057, 0.29318, 0.18988, 0.12368, 0.31262, 0.3088, 0.20244, 0.21139, 0.1787, 0.30317, 0.21432, 0.32007, 0.21791, 0.07523, 0.2574, 0.18446, 0.11639, 0.06481, 0.10298, 0.04437, 0.16576, 0.16799, 0.17043, 0.12029, 0.13855, 0.23353, 0.24615, 0.22259, 0.17893, 0.19694, 0.22889, 0.26419, 0.1034, 0.21313, 0.1568, 0.24317, 0.23823, 0.20827, 0.25085, 0.2251, 0.28707, 0.32944, 0.24575, 0.11981, 0.32891, 0.21037, 0.20284, 0.28403, 0.18046, 0.26043, 0.14774, 0.32753, 0.24177, 0.22308, 0.18261, 0.15286, 0.13806, 0.2071, 0.20291, 0.19777, 0.2223, 0.27307, 0.18628, 0.15933, 0.21911, 0.17354, 0.2441, 0.13366, 0.28313, 0.17365, 0.1963, 0.36924, 0.20562, 0.17371, 0.12672, 0.284, 0.19358, 0.10036, 0.37386, 0.11787, 0.1919, 0.23657, 0.15881, 0.07877, 0.13847, 0.23359, 0.1567, 0.08833, 0.12995, 0.18223, 0.25654, 0.21651, 0.14519, 0.13653, 0.20493, 0.36939, 0.12924, 0.26658, 0.27805, 0.17461, 0.11376, 0.11229, 0.15333, 0.1965, 0.18914, 0.17708, 0.21731, 0.18542, 0.16382, 0.2569, 0.1218, 0.16514, 0.1984, 0.26828, 0.40078, 0.14566, 0.05573, 0.22425, 0.28622, 0.18365, 0.1036, 0.33096, 0.2184, 0.26327, 0.16267, 0.10689, 0.16503, 0.10757, 0.12913, 0.05948, 0.04093, 0.01705, 0.01531, 0.01472, 0.02673, 0.01732, 0.04437, 0.01567, 0.02477, 0.038, 0.0299, 0.01012, 0.0258, 0.01038, 0.03791, 0.03507, 0.01268, 0.02525, 0.01908, 0.03489, 0.0295, 0.03416, 0.04067, 0.07515, 0.05581, 0.02529, 0.03501, 0.02846, 0.0328, 0.03378, 0.04597, 0.04341, 0.05684, 0.02024, 0.03191, 0.0415, 0.02639, 0.02651, 0.02689, 0.02349, 0.05067, 0.04093, 0.06877, 0.01754, 0.02557, 0.02189, 0.03155, 0.06845, 0.02249, 0.04949, 0.03161, 0.03434, 0.04486, 0.01531, 0.03048, 0.03837, 0.03682, 0.0221, 0.01402, 0.0589, 0.05895, 0.06888, 0.0204, 0.02894, 0.02384, 0.01451, 0.03292, 0.06455, 0.01663, 0.05359, 0.03163, 0.02751, 0.02559, 0.02401, 0.03713, 0.03408, 0.02454, 0.01697, 0.01629, 0.03184, 0.037, 0.02932, 0.0174, 0.03578, 0.02845, 0.05035, 0.04269, 0.03212, 0.02752, 0.03049, 0.01724, 0.07063, 0.05344, 0.02878, 0.03518, 0.03348, 0.04651, 0.06119, 0.04714, 0.0212, 0.04028, 0.03863, 0.03314, 0.02414, 0.02837, 0.01043, 0.02038, 0.0471, 0.03984, 0.0122, 0.01271, 0.01763, 0.02171, 0.01572, 0.01972, 0.01678, 0.01226, 0.05322, 0.03055, 0.03001, 0.01506, 0.0153, 0.04713, 0.03411, 0.0152, 0.01504, 0.02763, 0.03359, 0.01447, 0.02547, 0.01082, 0.01741, 0.02031, 0.04819, 0.02223, 0.02811, 0.05458, 0.05721, 0.02091, 0.01454, 0.0431, 0.03273, 0.03399, 0.01382, 0.05092, 0.01752, 0.02482, 0.0288, 0.01568, 0.02197, 0.03426, 0.01698, 0.02752, 0.03438, 0.01318, 0.01726, 0.01209, 0.05418, 0.0197, 0.01662, 0.02398, 0.03144, 0.01291, 0.03827, 0.01532, 0.02643, 0.0202, 0.0373, 0.02348, 0.01635, 0.02275, 0.23027, 0.38164, 0.2534, 0.15269, 0.43673, 0.10242, 0.37164, 0.46664, 0.19602, 0.31156, 0.0322, 0.10989, 0.22562, 0.26051, 0.22556, 0.44758, 0.44007, 0.33742, 0.52851, 0.57613, 0.38775, 0.36001, 0.34701, 0.43927, 0.34923, 0.43015, 0.50818, 0.28845, 0.17281, 0.31774, 0.27509, 0.10293, 0.20584, 0.2646, 0.23466, 0.21434, 0.42784, 0.40214, 0.32218, 0.45173, 0.16139, 0.35161, 0.249, 0.08223, 0.10588, 0.33293, 0.10227, 0.29282, 0.13269, 0.27088, 0.10044, 0.35363, 0.42353, 0.30012, 0.14761, 0.22853, 0.1388, 0.14343, 0.09201, 0.1568, 0.23851, 0.14949, 0.50718, 0.25249, 0.28397, 0.2368, 0.34092, 0.26388, 0.34872, 0.32095, 0.13523, 0.30666, 0.23362, 0.30078, 0.36783, 0.1694, 0.07976, 0.1806, 0.18071, 0.23086, 0.04582, 0.22146, 0.20073, 0.0755, 0.02627, 0.19141, 0.1777, 0.18542, 0.34931, 0.27131, 0.29212, 0.37051, 0.09641, 0.18058, 0.27446, 0.2451, 0.36135, 0.23152, 0.14648, 0.15948, 0.41929, 0.31894, 0.51941, 0.15069, 0.30249, 0.21073, 0.23943, 0.3318, 0.20072, 0.36082, 0.24275, 0.22146, 0.12068, 0.3416, 0.25051, 0.38054, 0.31079, 0.1994, 0.24001, 0.50275, 0.37013, 0.27001, 0.26312, 0.26801, 0.30801, 0.25001, 0.28051, 0.3148, 0.3284, 0.32944, 0.25848, 0.22448, 0.21079, 0.38734, 0.30642, 0.36491, 0.2488, 0.2988, 0.12365, 0.33159, 0.38246, 0.24074, 0.17144, 0.2088, 0.2896, 0.24599, 0.13659, 0.15062, 0.1187, 0.24494, 0.3507, 0.61992, 0.21986, 0.09929, 0.40996, 0.50276, 0.38171, 0.27989, 0.23071, 0.42693, 0.55014, 0.32531, 0.35092, 0.32832, 0.45059, 0.06441, 0.06559, 0.31811, 0.14539, 0.13947, 0.42967, 0.21641, 0.36616, 0.38083, 0.42086, 0.19958, 0.5109, 0.42696, 0.31579, 0.57824, 0.48176, 0.39267, 0.17359, 0.33059, 0.29948, 0.22943, 0.29291, 0.20861, 0.27509, 0.30337, 0.35902, 0.3602, 0.34902, 0.63056, 0.32092, 0.51002, 0.36646, 0.13823, 0.1792, 0.17157, 0.27047, 0.34688, 0.47942, 0.31894, 0.51879, 0.3799, 0.37089, 0.18152, 0.22374, 0.14135, 0.30567, 0.40471, 0.28578, 0.30156, 0.26388, 0.50091, 0.30525, 0.38598, 0.1986, 0.09121, 0.47796, 0.33159, 0.47175, 0.33081, 0.26088, 0.07141, 0.18141, 0.33829, 0.12211, 0.25012, 0.16046, 0.29843, 0.38887, 0.29245, 0.32841, 0.30549, 0.28546, 0.42886, 0.17967, 0.18959, 0.24849, 0.40927, 0.24146, 0.33748, 0.0706, 0.34546, 0.3306, 0.05495, 0.42359, 0.1072, 0.2854, 0.32553, 0.33493, 0.2909, 0.44058, 0.24111, 0.46101, 0.11944, 0.54539, 0.41155, 0.26848, 0.04976, 0.41131, 0.07369, 0.31841, 0.4193, 0.42028, 0.43885, 0.4804, 0.1998, 0.30143, 0.2902, 0.3092, 0.2956, 0.33848, 0.3786, 0.0896, 0.4507, 0.4604, 1.206, 1.33, 1.54, 1.55, 1.7, 1.8, 2.26, 1.914, 1.3, 1.34, 1.02, 0.735, 1.12, 1.23, 1.23, 0.854, 1.37, 0.9752, 0.97, 0.74, 1.39, 1.305, 0.935, 1.014, 1.315, 1.092]\n",
      "sne_y\n",
      "$\\Omega_k =$ 0.0\n",
      "$\\Omega_\\Mu =$ 1.0\n",
      "$\\Omega_\\Lambda =$ 0.0\n",
      "i = 0\n",
      "$\\Omega_k =$ 0.95\n",
      "$\\Omega_\\Mu =$ 0.05\n",
      "$\\Omega_\\Lambda =$ 0.0\n",
      "i = 1\n",
      "0.0\n",
      "i = 2\n"
     ]
    },
    {
     "data": {
      "image/png": "[encoded data removed]",
      "text/plain": [
       "<Figure size 432x288 with 1 Axes>"
      ]
     },
     "metadata": {
      "needs_background": "light"
     },
     "output_type": "display_data"
    }
   ],
   "source": [
    "print(\"Distance Modulus vs Redshift\")\n",
    "plt.title(\"Distance Modulus vs Redshift\")\n",
    "plt.xlabel(\"z\")\n",
    "plt.ylabel(\"distance modulus DM + 5 log h (mag)\")\n",
    "\n",
    "ymin = 0\n",
    "ymax = 80\n",
    "\n",
    "# Begin by collecting csv data\n",
    "sne_x = []\n",
    "sne_y = []\n",
    "\n",
    "with open('ps1_data.txt', newline='') as csvfile:\n",
    "    ps1_data = csv.reader(csvfile, delimiter=' ')\n",
    "        \n",
    "    i = 0\n",
    "    for row in ps1_data:\n",
    "        if (i > 0):\n",
    "            sne_x.append(float(row[1]))\n",
    "            sne_y.append(float(row[4]))\n",
    "        i+= 1\n",
    "        \n",
    "print(\"sne_x\")\n",
    "print(sne_x)\n",
    "print(\"sne_y\")\n",
    "\n",
    "for i in range(len(omegam_array)):\n",
    "    omega_m = omegam_array[i]\n",
    "    omega_l = omegal_array[i]\n",
    "    if (omega_l == 0):\n",
    "        DMDH = prop_motion_0(z, DMDH, omega_m, omega_l)\n",
    "    else:\n",
    "        DMDH = prop_motion(z, DMDH, omega_m, omega_l)\n",
    "        \n",
    "    mu = dist_mod(z, D_H, omega_m, omega_l, DMDH)\n",
    "    print(\"i = \" + str(i))\n",
    "    \n",
    "    param_text = r\"$\\left(\\Omega_M, \\Omega_\\Lambda\\right) = \" + \"(\" + str(omega_m) + \", \" + str(omega_l) + \")$\"\n",
    "    plt.plot(z, mu, label=param_text)\n",
    "\n",
    "plt.scatter(sne_x, sne_y)\n",
    "plt.axis([zmin, zmax, ymin, ymax])\n",
    "plt.xscale('log')\n",
    "plt.legend(loc='lower right')\n",
    "plt.show()"
   ]
  },
  {
   "cell_type": "markdown",
   "metadata": {},
   "source": [
    "Generate a residual plot by feeding values from sne_x into the prop_motion() function."
   ]
  },
  {
   "cell_type": "code",
   "execution_count": 30,
   "metadata": {},
   "outputs": [
    {
     "name": "stdout",
     "output_type": "stream",
     "text": [
      "0.0\n"
     ]
    },
    {
     "data": {
      "image/png": "[encoded data removed]",
      "text/plain": [
       "<Figure size 432x288 with 1 Axes>"
      ]
     },
     "metadata": {
      "needs_background": "light"
     },
     "output_type": "display_data"
    }
   ],
   "source": [
    "res = []                     # list of residuals\n",
    "\n",
    "# test values of omega_m and omega_l\n",
    "omega_m = omegam_array[-1]\n",
    "omega_l = omegal_array[-1]\n",
    "\n",
    "# Feed the sne_x array into the functions\n",
    "sne_x = np.array(sne_x)\n",
    "if (omega_l == 0):\n",
    "    DMDH = prop_motion_0(sne_x, DMDH, omega_m, omega_l)\n",
    "else:\n",
    "    DMDH = prop_motion(sne_x, DMDH, omega_m, omega_l)\n",
    "\n",
    "# corresponding predicted distance modulus\n",
    "dm_predicted = dist_mod(sne_x, D_H, omega_m, omega_l, DMDH)\n",
    "\n",
    "# actual distance modulus\n",
    "dm_actual = np.array(sne_y)\n",
    "\n",
    "# calculate residuals\n",
    "res = dm_actual - dm_predicted\n",
    "\n",
    "# Find the average residual value\n",
    "avg_res = np.mean(res)\n",
    "\n",
    "avg_y = np.copy(z)\n",
    "for i in range(len(avg_y)):\n",
    "    avg_y[i] = avg_res\n",
    "\n",
    "plt.scatter(sne_x, res)\n",
    "plt.plot(z, avg_y)\n",
    "plt.xscale('log')\n",
    "plt.show()"
   ]
  },
  {
   "cell_type": "markdown",
   "metadata": {},
   "source": [
    "Plot again, this time making the cosmology plot match the scatterplot:"
   ]
  },
  {
   "cell_type": "code",
   "execution_count": 33,
   "metadata": {},
   "outputs": [
    {
     "name": "stdout",
     "output_type": "stream",
     "text": [
      "$\\Omega_k =$ 0.0\n",
      "$\\Omega_\\Mu =$ 1.0\n",
      "$\\Omega_\\Lambda =$ 0.0\n",
      "i = 0\n",
      "$\\Omega_k =$ 0.95\n",
      "$\\Omega_\\Mu =$ 0.05\n",
      "$\\Omega_\\Lambda =$ 0.0\n",
      "i = 1\n",
      "0.0\n",
      "i = 2\n"
     ]
    },
    {
     "data": {
      "image/png": "[encoded data removed]",
      "text/plain": [
       "<Figure size 432x288 with 1 Axes>"
      ]
     },
     "metadata": {
      "needs_background": "light"
     },
     "output_type": "display_data"
    }
   ],
   "source": [
    "ymax = 40\n",
    "\n",
    "for i in range(len(omegam_array)):\n",
    "    omega_m = omegam_array[i]\n",
    "    omega_l = omegal_array[i]\n",
    "    if (omega_l == 0):\n",
    "        DMDH = prop_motion_0(z, DMDH, omega_m, omega_l)\n",
    "    else:\n",
    "        DMDH = prop_motion(z, DMDH, omega_m, omega_l)\n",
    "        \n",
    "    mu = dist_mod(z, D_H, omega_m, omega_l, DMDH) + avg_res\n",
    "    print(\"i = \" + str(i))\n",
    "    \n",
    "    param_text = r\"$\\left(\\Omega_M, \\Omega_\\Lambda\\right) = \" + \"(\" + str(omega_m) + \", \" + str(omega_l) + \")$\"\n",
    "    plt.plot(z, mu, label=param_text)\n",
    "\n",
    "plt.scatter(sne_x, sne_y)\n",
    "plt.axis([zmin, zmax, ymin, ymax])\n",
    "plt.xscale('log')\n",
    "plt.legend(loc='lower right')\n",
    "plt.show()"
   ]
  },
  {
   "cell_type": "code",
   "execution_count": null,
   "metadata": {},
   "outputs": [],
   "source": []
  }
 ],
 "metadata": {
  "kernelspec": {
   "display_name": "Python 3",
   "language": "python",
   "name": "python3"
  },
  "language_info": {
   "codemirror_mode": {
    "name": "ipython",
    "version": 3
   },
   "file_extension": ".py",
   "mimetype": "text/x-python",
   "name": "python",
   "nbconvert_exporter": "python",
   "pygments_lexer": "ipython3",
   "version": "3.8.2"
  }
 },
 "nbformat": 4,
 "nbformat_minor": 4
}
