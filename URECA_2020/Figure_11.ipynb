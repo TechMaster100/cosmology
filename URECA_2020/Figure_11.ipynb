{
 "cells": [
  {
   "cell_type": "markdown",
   "metadata": {},
   "source": [
    "Import all necessary modules"
   ]
  },
  {
   "cell_type": "code",
   "execution_count": 53,
   "metadata": {},
   "outputs": [],
   "source": [
    "import math\n",
    "import numpy as np\n",
    "import scipy.integrate as integrate\n",
    "import matplotlib.pyplot as plt\n",
    "import csv"
   ]
  },
  {
   "cell_type": "markdown",
   "metadata": {},
   "source": [
    "Function Dictionary"
   ]
  },
  {
   "cell_type": "code",
   "execution_count": 54,
   "metadata": {},
   "outputs": [],
   "source": [
    "# Calculate E(z)\n",
    "def E(z_i, omega_m, omega_l):\n",
    "    omega_k = 1.0 - omega_m - omega_l\n",
    "    E = np.sqrt(omega_m * (1.0 + z_i)**3 + omega_k * (1.0 + z_i)**2 + omega_l)\n",
    "    return E;\n",
    "\n",
    "# Calculate the integral D_C/D_H, store it in an array\n",
    "def DCDH_int(z_limit, omega_m, omega_l):\n",
    "    f = lambda z_i: 1.0 / E(z_i, omega_m, omega_l)\n",
    "    i = integrate.quad(f, 0, z_limit)\n",
    "    return i[0]"
   ]
  },
  {
   "cell_type": "code",
   "execution_count": 55,
   "metadata": {},
   "outputs": [],
   "source": [
    "# Proper Motion distance integrals\n",
    "\n",
    "# proper motion distance for omega_l == 0\n",
    "def prop_motion_0(z, DMDH, omega_m, omega_l):\n",
    "    # create the output array DMDH\n",
    "    DMDH = np.copy(z);\n",
    "\n",
    "    # find omega_k = 1 - omega_m - omega_l\n",
    "    omega_k = 1.0 - omega_m - omega_l\n",
    "    print(r\"$\\Omega_k =$ \" + str(omega_k))\n",
    "    print(r\"$\\Omega_\\Mu =$ \" + str(omega_m))\n",
    "    print(r\"$\\Omega_\\Lambda =$ \" + str(omega_l))\n",
    "\n",
    "    # Calculate D_M/D_H for different universe geometries\n",
    "    # open universe\n",
    "    if (omega_k > 1.0e-6):\n",
    "        for i in range(len(z)):\n",
    "            DMDH[i] = 1/np.sqrt(omega_k) * np.sinh( np.sqrt(omega_k) * DCDH_int(z[i],omega_m,omega_l) )\n",
    "    # closed universe\n",
    "    elif (omega_k < -1.0e-6):\n",
    "        for i in range(len(z)):\n",
    "            DMDH[i] = 1/np.sqrt(abs(omega_k)) * np.sin( np.sqrt(abs(omega_k)) * DCDH_int(z[i],omega_m,omega_l) )\n",
    "    # flat universe\n",
    "    else:\n",
    "        DMDH = 2.0*( 2.0 - omega_m*(1.0-z) - (2-omega_m)*np.sqrt(1.0+omega_m*z) ) / ( omega_m*omega_m*(1.0+z) );\n",
    "\n",
    "    return DMDH\n",
    "\n",
    "# proper motion distance for omega_l != 0\n",
    "def prop_motion(z, DMDH, omega_m, omega_l):\n",
    "    DMDH = np.copy(z);\n",
    "    \n",
    "    # find omega_k = 1 - omega_m - omega_l\n",
    "    omega_k = 1.0 - omega_m - omega_l\n",
    "    print(omega_k)\n",
    "    \n",
    "    # Calculate D_M/D_H for different universe geometries\n",
    "    if (omega_k > 1.0e-6):\n",
    "        for i in range(len(z)):\n",
    "            DMDH[i] = 1/np.sqrt(omega_k) * np.sinh( np.sqrt(omega_k) * DCDH_int(z[i],omega_m,omega_l) )\n",
    "    # closed universe\n",
    "    elif (omega_k < -1.0e-6):\n",
    "        for i in range(len(z)):\n",
    "            DMDH[i] = 1/np.sqrt(abs(omega_k)) * np.sin( np.sqrt(abs(omega_k)) * DCDH_int(z[i],omega_m,omega_l) )\n",
    "    # flat universe\n",
    "    else:\n",
    "        for i in range(len(z)):\n",
    "            DMDH[i] = DCDH_int(z[i], omega_m, omega_l)\n",
    "    return DMDH"
   ]
  },
  {
   "cell_type": "code",
   "execution_count": 56,
   "metadata": {},
   "outputs": [],
   "source": [
    "# angular diameter distance\n",
    "def dist_angdiam(z, DMDH, DADH, omega_m, omega_l):\n",
    "    DADH = np.copy(z);\n",
    "    DADH = DMDH / (1.0+z)\n",
    "    return DADH;\n",
    "\n",
    "# luminosity distance\n",
    "def dist_lum(z, DMDH, DLDH, omega_m, omega_l):\n",
    "    DLDH = np.copy(z)\n",
    "    DLDH = DMDH * (1.0+z)\n",
    "    return DLDH;\n",
    "\n",
    "# distance modulus\n",
    "def dist_mod(z, D_H, omega_m, omega_l, DMDH):\n",
    "    # initialize the distance modulus array\n",
    "    mu = np.copy(z)\n",
    "\n",
    "    # convert D_H from Mpc to pc\n",
    "    D_H = D_H * 1.0e6\n",
    "\n",
    "    # calculate each value of mu array\n",
    "    #for i in range(len(z)):\n",
    "        #mu[i] = 5.0 * ( np.log10(1.0+z[i]) + np.log10(DCDH_int(z[i], omega_m, omega_l)) + np.log10(D_H/10) )\n",
    "    mu = 5.0 * ( np.log10(1.0+z) + np.log10(DMDH) + np.log10(D_H/10) )\n",
    "    return mu;\n",
    "\n",
    "# comoving volume element\n",
    "def com_vol(z, DMDH, DVC, omega_m, omega_l, D_H):\n",
    "    DVC = np.copy(z)\n",
    "    for i in range(len(z)):\n",
    "        DVC[i] = DMDH[i]**2 * D_H**3 / ( E(z[i], omega_m, omega_l) )\n",
    "    return DVC;"
   ]
  },
  {
   "cell_type": "markdown",
   "metadata": {},
   "source": [
    "Variable Dictionary"
   ]
  },
  {
   "cell_type": "code",
   "execution_count": 69,
   "metadata": {},
   "outputs": [],
   "source": [
    "# Constants\n",
    "omega_k = 0                     # critical density\n",
    "c = 2.9979e5                    # speed of light (km/s)\n",
    "omega_m = None                  # mass density parameter\n",
    "w = None                        # equation of state\n",
    "omega_l = None                  # energy density\n",
    "pressure = 0.0                  # pressure of the universe\n",
    "\n",
    "# Variable dictionary\n",
    "H = None                        # Hubble constant (km/s/Mpc)\n",
    "z = None                        # redshift\n",
    "D_C = None                      # comoving distance, line-of-sight (m)\n",
    "D_M = None                      # comoving distance, transverse (m)\n",
    "D_A = None                      # angular diameter distance (m)\n",
    "D_L = None                      # luminosity distance (m)\n",
    "V_C = None                      # comoving volume (m^3)\n",
    "D_H = None                      # Hubble Distance (Mpc)\n",
    "array_size = None               # size of each array, which is the number of z values\n",
    "param_text = \"\"                 # label for the plots\n",
    "\n",
    "# Output arrays\n",
    "z = None;                       # Array of input values of z\n",
    "DMDH = np.array([])             # Array of output values of D_M/D_H\n",
    "DADH = np.array([])             # Array of output values of D_A/D_H\n",
    "DLDH = np.array([])             # Array of output values of D_L/D_H\n",
    "dmod = np.array([])             # distance modulus array\n",
    "DVC = np.array([])              # comoving volume array\n",
    "tLtH = np.array([])             # Array of lookback times\n",
    "age = np.array([])              # Array of ages\n",
    "dPdz = np.array([])             # dimensionless intersection probability"
   ]
  },
  {
   "cell_type": "markdown",
   "metadata": {},
   "source": [
    "We draw arrays of corresponding density parameters from Figure 20.\n",
    "\n",
    "We note that equation of state $w$ and energy density $\\Omega_\\Lambda$ are related as follows:\n",
    "$$w = \\frac{pressure}{\\Omega_\\Lambda}$$"
   ]
  },
  {
   "cell_type": "code",
   "execution_count": 70,
   "metadata": {},
   "outputs": [
    {
     "name": "stderr",
     "output_type": "stream",
     "text": [
      "<ipython-input-70-6fd72f42069d>:5: RuntimeWarning: invalid value encountered in true_divide\n",
      "  omegal_array = pressure / w_array\n"
     ]
    }
   ],
   "source": [
    "# arrays of density parameters\n",
    "omegam_array = np.array([1.0, 0.05, 0.2])\n",
    "w_array = np.array([0.0, 0.0, 0.8])\n",
    "omegal_array = np.copy(w_array)\n",
    "omegal_array = pressure / w_array\n",
    "\n",
    "# Note: remove this later\n",
    "# arrays of density parameters\n",
    "omegam_array = np.array([1.0, 0.05, 0.2])\n",
    "omegal_array = np.array([0.0, 0.0, 0.8])"
   ]
  },
  {
   "cell_type": "markdown",
   "metadata": {},
   "source": [
    "Take in values"
   ]
  },
  {
   "cell_type": "code",
   "execution_count": 71,
   "metadata": {},
   "outputs": [
    {
     "name": "stdout",
     "output_type": "stream",
     "text": [
      "Ω_k = 0.0\n",
      "z values:\n",
      "[0.         0.05050505 0.1010101  0.15151515 0.2020202  0.25252525\n",
      " 0.3030303  0.35353535 0.4040404  0.45454545 0.50505051 0.55555556\n",
      " 0.60606061 0.65656566 0.70707071 0.75757576 0.80808081 0.85858586\n",
      " 0.90909091 0.95959596 1.01010101 1.06060606 1.11111111 1.16161616\n",
      " 1.21212121 1.26262626 1.31313131 1.36363636 1.41414141 1.46464646\n",
      " 1.51515152 1.56565657 1.61616162 1.66666667 1.71717172 1.76767677\n",
      " 1.81818182 1.86868687 1.91919192 1.96969697 2.02020202 2.07070707\n",
      " 2.12121212 2.17171717 2.22222222 2.27272727 2.32323232 2.37373737\n",
      " 2.42424242 2.47474747 2.52525253 2.57575758 2.62626263 2.67676768\n",
      " 2.72727273 2.77777778 2.82828283 2.87878788 2.92929293 2.97979798\n",
      " 3.03030303 3.08080808 3.13131313 3.18181818 3.23232323 3.28282828\n",
      " 3.33333333 3.38383838 3.43434343 3.48484848 3.53535354 3.58585859\n",
      " 3.63636364 3.68686869 3.73737374 3.78787879 3.83838384 3.88888889\n",
      " 3.93939394 3.98989899 4.04040404 4.09090909 4.14141414 4.19191919\n",
      " 4.24242424 4.29292929 4.34343434 4.39393939 4.44444444 4.49494949\n",
      " 4.54545455 4.5959596  4.64646465 4.6969697  4.74747475 4.7979798\n",
      " 4.84848485 4.8989899  4.94949495 5.        ]\n"
     ]
    }
   ],
   "source": [
    "# Take in densities\n",
    "print(\"\\u03A9_k = 0.0\")     # omega_k = 0.0\n",
    "\n",
    "# Take in Hubble constant\n",
    "H = 70#float(input(\"Enter Hubble constant (in km/s/Mpc): \"))\n",
    "D_H = c / H                 # Hubble distance\n",
    "\n",
    "# Parameters for plot, including the range of redshift values and y-axis\n",
    "zmin = 0\n",
    "zmax = 5\n",
    "ymin = 0\n",
    "ymax = None\n",
    "\n",
    "# Define the array of z-values (redshift)\n",
    "z = np.linspace(zmin, zmax, 100)\n",
    "print(\"z values:\")\n",
    "print(z)"
   ]
  },
  {
   "cell_type": "markdown",
   "metadata": {},
   "source": [
    "Plot the Distance Modulus"
   ]
  },
  {
   "cell_type": "code",
   "execution_count": 75,
   "metadata": {},
   "outputs": [
    {
     "name": "stdout",
     "output_type": "stream",
     "text": [
      "Distance Modulus vs Redshift\n",
      "$\\Omega_k =$ 0.0\n",
      "$\\Omega_\\Mu =$ 1.0\n",
      "$\\Omega_\\Lambda =$ 0.0\n",
      "i = 0\n",
      "distance molulus DM + 5 log h\n",
      "$\\Omega_k =$ 0.95\n",
      "$\\Omega_\\Mu =$ 0.05\n",
      "$\\Omega_\\Lambda =$ 0.0\n",
      "i = 1\n",
      "distance molulus DM + 5 log h\n",
      "0.0\n",
      "i = 2\n",
      "distance molulus DM + 5 log h\n"
     ]
    },
    {
     "name": "stderr",
     "output_type": "stream",
     "text": [
      "<ipython-input-56-a499bbc14b13>:24: RuntimeWarning: divide by zero encountered in log10\n",
      "  mu = 5.0 * ( np.log10(1.0+z) + np.log10(DMDH) + np.log10(D_H/10) )\n",
      "<ipython-input-56-a499bbc14b13>:24: RuntimeWarning: divide by zero encountered in log10\n",
      "  mu = 5.0 * ( np.log10(1.0+z) + np.log10(DMDH) + np.log10(D_H/10) )\n",
      "<ipython-input-56-a499bbc14b13>:24: RuntimeWarning: divide by zero encountered in log10\n",
      "  mu = 5.0 * ( np.log10(1.0+z) + np.log10(DMDH) + np.log10(D_H/10) )\n",
      "<ipython-input-75-697af3914e33>:26: UserWarning: Attempted to set non-positive left xlim on a log-scaled axis.\n",
      "Invalid limit will be ignored.\n",
      "  plt.axis([zmin, zmax, ymin, ymax]);\n"
     ]
    },
    {
     "data": {
      "image/png": "[encoded data removed]",
      "text/plain": [
       "<Figure size 432x288 with 1 Axes>"
      ]
     },
     "metadata": {
      "needs_background": "light"
     },
     "output_type": "display_data"
    }
   ],
   "source": [
    "print(\"Distance Modulus vs Redshift\");\n",
    "plt.title(\"Distance Modulus vs Redshift\");\n",
    "plt.xlabel(\"z\");\n",
    "plt.ylabel(\"distance modulus DM + 5 log h (mag)\");\n",
    "\n",
    "ymin = 30\n",
    "ymax = 50\n",
    "\n",
    "for i in range(len(omegam_array)):\n",
    "    omega_m = omegam_array[i]\n",
    "    omega_l = omegal_array[i]\n",
    "    if (omega_l == 0):\n",
    "        DMDH = prop_motion_0(z, DMDH, omega_m, omega_l)\n",
    "    else:\n",
    "        DMDH = prop_motion(z, DMDH, omega_m, omega_l)\n",
    "        \n",
    "    mu = dist_mod(z, D_H, omega_m, omega_l, DMDH)\n",
    "    print(\"i = \" + str(i))\n",
    "    print(\"distance molulus DM + 5 log h\")\n",
    "    #print(mu)\n",
    "    \n",
    "    param_text = r\"$\\left(\\Omega_M, \\Omega_\\Lambda\\right) = \" + \"(\" + str(omega_m) + \", \" + str(omega_l) + \")$\"\n",
    "    plt.plot(z, mu, label=param_text)\n",
    "    plt.xscale('log')\n",
    "\n",
    "plt.axis([zmin, zmax, ymin, ymax]);\n",
    "plt.legend(loc='lower right');\n",
    "plt.show()"
   ]
  },
  {
   "cell_type": "markdown",
   "metadata": {},
   "source": [
    "Generate a scatter plot of supernovae"
   ]
  },
  {
   "cell_type": "markdown",
   "metadata": {},
   "source": [
    "First, generate lists of data from the CSV file \"ps1_data.txt\":"
   ]
  },
  {
   "cell_type": "code",
   "execution_count": 77,
   "metadata": {},
   "outputs": [
    {
     "name": "stdout",
     "output_type": "stream",
     "text": [
      "sne_x\n",
      "[0.50309, 0.4948, 0.67767, 0.8665, 0.79857, 0.37144, 0.35582, 0.2836, 0.4664, 0.94688, 0.69315, 0.89693, 0.78904, 0.59027, 0.21075, 0.85852, 0.55875, 0.9964, 0.58294, 0.79656, 0.91348, 0.94846, 0.73362, 0.7656, 0.98341, 0.70064, 0.83814, 0.3706, 0.35858, 0.52278, 0.70198, 0.74613, 0.59185, 0.62063, 1.00279, 0.61064, 0.35833, 0.45155, 0.5526, 0.75068, 0.82269, 0.95076, 0.34052, 0.81072, 0.61124, 0.54831, 1.02879, 0.42244, 0.70115, 0.68517, 0.93189, 0.74909, 0.4684, 0.95886, 0.84053, 0.56276, 0.82854, 0.57875, 0.8645, 0.85851, 0.58575, 0.48881, 0.68866, 0.32454, 0.18538, 0.68196, 0.92223, 0.42866, 0.69998, 0.57584, 0.51176, 0.64191, 0.35157, 0.34957, 0.35527, 0.87217, 0.92624, 0.41957, 0.89073, 0.48057, 0.5806, 0.80569, 0.66464, 0.74566, 0.73669, 0.37053, 0.85073, 0.21946, 0.64764, 0.6006, 0.7607, 0.47057, 0.49737, 0.50736, 0.58728, 0.69915, 0.76108, 0.78805, 0.40547, 0.80804, 0.58328, 0.72013, 0.83699, 0.80603, 0.50074, 0.53378, 0.82212, 0.12531, 0.44368, 0.68366, 0.72668, 0.40455, 0.69065, 0.57661, 0.72068, 0.55031, 0.84797, 0.43544, 0.30158, 0.58073, 0.34593, 0.33094, 0.44956, 0.29172, 0.46127, 0.63222, 0.26862, 0.92491, 0.62522, 0.60825, 0.57828, 0.71963, 0.7666, 0.36791, 0.84852, 0.7766, 0.58375, 0.58873, 0.76859, 0.5138, 0.63771, 0.43487, 0.58375, 0.66206, 0.62189, 0.41664, 0.45169, 0.73401, 0.74202, 0.34957, 0.51476, 0.64364, 0.47058, 0.26349, 0.7427, 0.91075, 0.33753, 0.98377, 0.81369, 0.81773, 0.96075, 0.75669, 0.87796, 0.80902, 0.62723, 0.93389, 0.69715, 0.76706, 0.86397, 0.51434, 0.47039, 0.9279, 0.63071, 0.6157, 0.56475, 0.55775, 0.73561, 0.26199, 0.76159, 0.85852, 0.55875, 0.48072, 0.92224, 0.47572, 0.8932, 0.6319, 0.73602, 0.41865, 0.53578, 0.73501, 0.60987, 0.70198, 0.9833, 0.75905, 0.64364, 0.51559, 0.80569, 0.8007, 0.71565, 0.76668, 0.90173, 0.71868, 0.5796, 0.96074, 0.64864, 0.93675, 0.46156, 0.67065, 0.24649, 0.63822, 0.53532, 0.77307, 0.3705, 0.69916, 0.3735, 0.85298, 0.60326, 0.53433, 0.40048, 0.3715, 0.83999, 0.53278, 0.93225, 0.55381, 0.84214, 0.72767, 0.44255, 0.28251, 0.51961, 1.0608, 0.26849, 0.2505, 0.69816, 0.73012, 0.99781, 0.40946, 0.12679, 0.25577, 0.08859, 0.11782, 0.18356, 0.14055, 0.15171, 0.094, 0.28631, 0.26318, 0.14167, 0.16053, 0.1229, 0.1262, 0.17331, 0.16448, 0.16018, 0.24488, 0.24805, 0.27511, 0.33015, 0.3307, 0.1604, 0.21861, 0.12005, 0.17818, 0.279, 0.18562, 0.06641, 0.25769, 0.27946, 0.2655, 0.18478, 0.05715, 0.32601, 0.10902, 0.20299, 0.37949, 0.21198, 0.21327, 0.14393, 0.25218, 0.25641, 0.2186, 0.07883, 0.08328, 0.17008, 0.23643, 0.30538, 0.08286, 0.18905, 0.08162, 0.25626, 0.12631, 0.1028, 0.1244, 0.37003, 0.20192, 0.18004, 0.16163, 0.22644, 0.29649, 0.24999, 0.14864, 0.14711, 0.2149, 0.14462, 0.13226, 0.2195, 0.38447, 0.1742, 0.17772, 0.29911, 0.1187, 0.17685, 0.24526, 0.1959, 0.24832, 0.30617, 0.24616, 0.13527, 0.21028, 0.23603, 0.17831, 0.22043, 0.31468, 0.1846, 0.2611, 0.18122, 0.38003, 0.1846, 0.20824, 0.17746, 0.31555, 0.24954, 0.20324, 0.12347, 0.20314, 0.15352, 0.33398, 0.19582, 0.24943, 0.1549, 0.15625, 0.15819, 0.309, 0.24828, 0.18484, 0.18353, 0.18212, 0.17675, 0.17748, 0.0718, 0.13796, 0.16941, 0.24527, 0.14406, 0.25163, 0.03743, 0.27716, 0.28712, 0.19845, 0.16031, 0.21053, 0.23753, 0.15499, 0.0939, 0.15253, 0.25693, 0.21231, 0.24583, 0.13679, 0.32529, 0.10643, 0.4008, 0.1891, 0.19731, 0.12783, 0.12291, 0.12687, 0.21311, 0.21075, 0.26826, 0.20431, 0.26991, 0.24162, 0.2908, 0.35306, 0.28509, 0.21929, 0.17537, 0.23517, 0.15298, 0.20982, 0.29121, 0.31353, 0.13672, 0.29532, 0.30369, 0.20532, 0.12175, 0.17424, 0.24862, 0.2453, 0.13816, 0.24288, 0.24237, 0.31437, 0.2754, 0.30004, 0.21735, 0.20311, 0.19005, 0.29003, 0.22796, 0.31032, 0.13712, 0.08798, 0.08534, 0.19024, 0.09278, 0.12891, 0.26136, 0.26132, 0.1957, 0.14723, 0.21154, 0.17972, 0.1907, 0.3385, 0.11762, 0.28854, 0.26377, 0.24931, 0.22939, 0.08575, 0.27631, 0.36165, 0.30006, 0.11659, 0.15474, 0.2501, 0.25149, 0.12941, 0.30894, 0.29859, 0.27057, 0.29318, 0.18988, 0.12368, 0.31262, 0.3088, 0.20244, 0.21139, 0.1787, 0.30317, 0.21432, 0.32007, 0.21791, 0.07523, 0.2574, 0.18446, 0.11639, 0.06481, 0.10298, 0.04437, 0.16576, 0.16799, 0.17043, 0.12029, 0.13855, 0.23353, 0.24615, 0.22259, 0.17893, 0.19694, 0.22889, 0.26419, 0.1034, 0.21313, 0.1568, 0.24317, 0.23823, 0.20827, 0.25085, 0.2251, 0.28707, 0.32944, 0.24575, 0.11981, 0.32891, 0.21037, 0.20284, 0.28403, 0.18046, 0.26043, 0.14774, 0.32753, 0.24177, 0.22308, 0.18261, 0.15286, 0.13806, 0.2071, 0.20291, 0.19777, 0.2223, 0.27307, 0.18628, 0.15933, 0.21911, 0.17354, 0.2441, 0.13366, 0.28313, 0.17365, 0.1963, 0.36924, 0.20562, 0.17371, 0.12672, 0.284, 0.19358, 0.10036, 0.37386, 0.11787, 0.1919, 0.23657, 0.15881, 0.07877, 0.13847, 0.23359, 0.1567, 0.08833, 0.12995, 0.18223, 0.25654, 0.21651, 0.14519, 0.13653, 0.20493, 0.36939, 0.12924, 0.26658, 0.27805, 0.17461, 0.11376, 0.11229, 0.15333, 0.1965, 0.18914, 0.17708, 0.21731, 0.18542, 0.16382, 0.2569, 0.1218, 0.16514, 0.1984, 0.26828, 0.40078, 0.14566, 0.05573, 0.22425, 0.28622, 0.18365, 0.1036, 0.33096, 0.2184, 0.26327, 0.16267, 0.10689, 0.16503, 0.10757, 0.12913, 0.05948, 0.04093, 0.01705, 0.01531, 0.01472, 0.02673, 0.01732, 0.04437, 0.01567, 0.02477, 0.038, 0.0299, 0.01012, 0.0258, 0.01038, 0.03791, 0.03507, 0.01268, 0.02525, 0.01908, 0.03489, 0.0295, 0.03416, 0.04067, 0.07515, 0.05581, 0.02529, 0.03501, 0.02846, 0.0328, 0.03378, 0.04597, 0.04341, 0.05684, 0.02024, 0.03191, 0.0415, 0.02639, 0.02651, 0.02689, 0.02349, 0.05067, 0.04093, 0.06877, 0.01754, 0.02557, 0.02189, 0.03155, 0.06845, 0.02249, 0.04949, 0.03161, 0.03434, 0.04486, 0.01531, 0.03048, 0.03837, 0.03682, 0.0221, 0.01402, 0.0589, 0.05895, 0.06888, 0.0204, 0.02894, 0.02384, 0.01451, 0.03292, 0.06455, 0.01663, 0.05359, 0.03163, 0.02751, 0.02559, 0.02401, 0.03713, 0.03408, 0.02454, 0.01697, 0.01629, 0.03184, 0.037, 0.02932, 0.0174, 0.03578, 0.02845, 0.05035, 0.04269, 0.03212, 0.02752, 0.03049, 0.01724, 0.07063, 0.05344, 0.02878, 0.03518, 0.03348, 0.04651, 0.06119, 0.04714, 0.0212, 0.04028, 0.03863, 0.03314, 0.02414, 0.02837, 0.01043, 0.02038, 0.0471, 0.03984, 0.0122, 0.01271, 0.01763, 0.02171, 0.01572, 0.01972, 0.01678, 0.01226, 0.05322, 0.03055, 0.03001, 0.01506, 0.0153, 0.04713, 0.03411, 0.0152, 0.01504, 0.02763, 0.03359, 0.01447, 0.02547, 0.01082, 0.01741, 0.02031, 0.04819, 0.02223, 0.02811, 0.05458, 0.05721, 0.02091, 0.01454, 0.0431, 0.03273, 0.03399, 0.01382, 0.05092, 0.01752, 0.02482, 0.0288, 0.01568, 0.02197, 0.03426, 0.01698, 0.02752, 0.03438, 0.01318, 0.01726, 0.01209, 0.05418, 0.0197, 0.01662, 0.02398, 0.03144, 0.01291, 0.03827, 0.01532, 0.02643, 0.0202, 0.0373, 0.02348, 0.01635, 0.02275, 0.23027, 0.38164, 0.2534, 0.15269, 0.43673, 0.10242, 0.37164, 0.46664, 0.19602, 0.31156, 0.0322, 0.10989, 0.22562, 0.26051, 0.22556, 0.44758, 0.44007, 0.33742, 0.52851, 0.57613, 0.38775, 0.36001, 0.34701, 0.43927, 0.34923, 0.43015, 0.50818, 0.28845, 0.17281, 0.31774, 0.27509, 0.10293, 0.20584, 0.2646, 0.23466, 0.21434, 0.42784, 0.40214, 0.32218, 0.45173, 0.16139, 0.35161, 0.249, 0.08223, 0.10588, 0.33293, 0.10227, 0.29282, 0.13269, 0.27088, 0.10044, 0.35363, 0.42353, 0.30012, 0.14761, 0.22853, 0.1388, 0.14343, 0.09201, 0.1568, 0.23851, 0.14949, 0.50718, 0.25249, 0.28397, 0.2368, 0.34092, 0.26388, 0.34872, 0.32095, 0.13523, 0.30666, 0.23362, 0.30078, 0.36783, 0.1694, 0.07976, 0.1806, 0.18071, 0.23086, 0.04582, 0.22146, 0.20073, 0.0755, 0.02627, 0.19141, 0.1777, 0.18542, 0.34931, 0.27131, 0.29212, 0.37051, 0.09641, 0.18058, 0.27446, 0.2451, 0.36135, 0.23152, 0.14648, 0.15948, 0.41929, 0.31894, 0.51941, 0.15069, 0.30249, 0.21073, 0.23943, 0.3318, 0.20072, 0.36082, 0.24275, 0.22146, 0.12068, 0.3416, 0.25051, 0.38054, 0.31079, 0.1994, 0.24001, 0.50275, 0.37013, 0.27001, 0.26312, 0.26801, 0.30801, 0.25001, 0.28051, 0.3148, 0.3284, 0.32944, 0.25848, 0.22448, 0.21079, 0.38734, 0.30642, 0.36491, 0.2488, 0.2988, 0.12365, 0.33159, 0.38246, 0.24074, 0.17144, 0.2088, 0.2896, 0.24599, 0.13659, 0.15062, 0.1187, 0.24494, 0.3507, 0.61992, 0.21986, 0.09929, 0.40996, 0.50276, 0.38171, 0.27989, 0.23071, 0.42693, 0.55014, 0.32531, 0.35092, 0.32832, 0.45059, 0.06441, 0.06559, 0.31811, 0.14539, 0.13947, 0.42967, 0.21641, 0.36616, 0.38083, 0.42086, 0.19958, 0.5109, 0.42696, 0.31579, 0.57824, 0.48176, 0.39267, 0.17359, 0.33059, 0.29948, 0.22943, 0.29291, 0.20861, 0.27509, 0.30337, 0.35902, 0.3602, 0.34902, 0.63056, 0.32092, 0.51002, 0.36646, 0.13823, 0.1792, 0.17157, 0.27047, 0.34688, 0.47942, 0.31894, 0.51879, 0.3799, 0.37089, 0.18152, 0.22374, 0.14135, 0.30567, 0.40471, 0.28578, 0.30156, 0.26388, 0.50091, 0.30525, 0.38598, 0.1986, 0.09121, 0.47796, 0.33159, 0.47175, 0.33081, 0.26088, 0.07141, 0.18141, 0.33829, 0.12211, 0.25012, 0.16046, 0.29843, 0.38887, 0.29245, 0.32841, 0.30549, 0.28546, 0.42886, 0.17967, 0.18959, 0.24849, 0.40927, 0.24146, 0.33748, 0.0706, 0.34546, 0.3306, 0.05495, 0.42359, 0.1072, 0.2854, 0.32553, 0.33493, 0.2909, 0.44058, 0.24111, 0.46101, 0.11944, 0.54539, 0.41155, 0.26848, 0.04976, 0.41131, 0.07369, 0.31841, 0.4193, 0.42028, 0.43885, 0.4804, 0.1998, 0.30143, 0.2902, 0.3092, 0.2956, 0.33848, 0.3786, 0.0896, 0.4507, 0.4604, 1.206, 1.33, 1.54, 1.55, 1.7, 1.8, 2.26, 1.914, 1.3, 1.34, 1.02, 0.735, 1.12, 1.23, 1.23, 0.854, 1.37, 0.9752, 0.97, 0.74, 1.39, 1.305, 0.935, 1.014, 1.315, 1.092]\n",
      "sne_y\n",
      "[22.93445, 22.8802, 24.0377, 24.34685, 24.3605, 22.28785, 22.05915, 21.40915, 23.21635, 24.41155, 23.79645, 24.40275, 24.2188, 23.3354, 20.64495, 24.1237, 23.1648, 24.69965, 23.34385, 23.85445, 24.37895, 24.66675, 23.8481, 24.10805, 24.828, 23.7492, 24.1545, 22.1401, 21.95965, 23.15915, 23.7115, 23.8056, 23.2429, 23.5114, 25.0798, 23.47615, 21.9694, 22.4159, 22.98515, 23.763, 24.3356, 24.68515, 21.9463, 24.0795, 23.7392, 22.8926, 24.7289, 22.35675, 23.90875, 23.844, 24.54795, 23.81055, 22.73255, 24.80665, 24.22255, 23.2428, 24.39785, 23.22495, 24.3693, 24.4442, 23.5694, 22.8653, 23.6132, 21.79365, 20.4558, 23.59755, 24.355, 22.751, 23.95255, 23.38495, 23.11305, 23.62155, 22.2272, 22.14445, 22.23665, 24.3402, 24.7687, 22.59095, 24.1804, 22.7752, 23.36785, 24.09575, 23.6337, 24.00735, 23.77845, 22.04575, 24.31865, 20.8469, 23.6259, 23.4022, 23.92525, 22.804, 22.9275, 22.9705, 23.44375, 23.77905, 24.05415, 24.1069, 22.564, 24.55735, 23.6081, 24.0226, 24.3054, 24.2544, 23.0505, 22.9345, 24.1676, 19.4684, 22.57415, 23.9441, 23.90005, 22.44625, 23.7527, 23.2437, 23.87645, 23.16815, 24.3105, 22.36675, 21.64245, 23.52355, 22.11525, 21.7829, 22.78895, 21.47215, 22.62945, 23.66065, 21.1762, 24.7416, 23.46015, 23.3767, 23.2373, 23.82525, 24.24705, 22.24455, 24.33175, 24.0942, 23.2686, 23.30085, 24.2078, 23.12745, 23.37, 22.5623, 23.46355, 23.74875, 23.4108, 22.5154, 22.36265, 24.04855, 24.26275, 21.74, 23.18845, 23.60755, 22.65205, 21.15515, 23.92255, 24.6116, 21.9137, 24.92305, 24.26675, 24.3431, 24.5736, 24.03965, 24.42165, 24.20795, 23.4134, 24.7653, 23.78265, 24.3849, 24.39625, 22.98745, 23.1005, 24.7789, 23.4092, 23.56625, 23.2891, 23.2494, 24.06925, 21.15835, 23.97575, 24.54425, 23.6061, 22.74835, 24.57175, 22.6952, 24.5781, 23.1617, 24.02845, 22.38625, 22.98355, 24.09175, 23.5447, 23.8387, 24.78095, 24.0557, 23.6045, 23.02365, 24.0139, 23.82255, 23.84395, 24.2307, 24.5128, 23.68915, 23.1779, 24.80925, 23.53665, 24.4717, 22.76265, 23.78495, 21.16055, 23.49005, 23.06945, 24.17605, 22.15255, 23.88895, 22.11185, 24.3052, 23.58805, 22.9223, 22.2601, 22.20135, 24.0253, 23.059, 24.704, 23.2838, 24.3261, 23.8687, 22.67285, 21.5746, 23.03865, 24.6873, 21.24725, 21.1763, 23.7924, 23.7684, 24.6122, 22.451, 19.5429, 21.3344, 18.64345, 19.19345, 20.2951, 19.871, 19.7933, 18.889, 21.6827, 21.3576, 19.79675, 19.9329, 19.3948, 19.36855, 20.15345, 20.03175, 19.92285, 20.86815, 20.98175, 21.37075, 21.9321, 21.82885, 19.98615, 20.87005, 19.36835, 20.72835, 21.50115, 20.48365, 17.9881, 21.2775, 21.2773, 21.0609, 20.37525, 17.65695, 21.6733, 19.1721, 20.7001, 22.13745, 20.68915, 20.78295, 19.83575, 21.1678, 21.2758, 20.976, 18.5397, 18.7438, 20.2489, 20.87655, 21.3803, 18.5179, 20.2039, 18.511, 21.2564, 19.58525, 19.16175, 19.4784, 22.46065, 20.38595, 20.68245, 20.1359, 20.8771, 21.4449, 21.20115, 19.91815, 19.776, 21.20185, 19.8106, 19.9293, 21.00055, 22.40575, 20.3461, 20.20345, 21.51975, 19.44875, 20.2397, 21.3752, 20.54825, 21.09655, 21.77705, 21.1569, 19.9671, 20.6402, 21.1547, 20.37535, 20.81795, 21.8201, 20.55175, 21.2036, 20.21145, 22.03255, 20.38765, 20.65465, 20.33625, 21.7168, 21.1676, 20.6509, 19.4198, 20.64385, 20.1226, 21.9349, 20.5286, 21.0769, 20.0251, 19.98785, 19.81685, 21.8114, 21.1261, 20.31575, 20.5074, 20.37965, 20.28545, 20.0718, 18.0121, 19.66285, 20.46515, 20.7198, 19.81665, 21.2338, 16.7708, 21.8807, 21.2668, 20.61015, 20.07605, 21.0136, 21.0147, 20.14265, 18.94955, 20.08555, 21.2741, 20.80065, 20.88445, 19.76485, 21.9051, 19.09035, 22.30585, 20.4864, 20.4352, 19.5616, 19.44025, 19.59325, 20.67635, 20.727, 21.4883, 20.66435, 21.2859, 20.98075, 21.236, 21.81675, 21.60225, 20.6719, 20.24765, 20.9929, 19.99965, 20.90475, 21.51945, 21.8225, 19.7402, 21.7708, 21.49625, 20.73155, 19.34125, 20.2369, 21.2028, 21.1159, 19.8495, 21.02795, 21.18455, 21.3618, 21.4485, 21.4204, 20.89395, 20.5734, 20.4061, 21.3714, 20.83435, 21.45975, 20.12265, 18.6796, 18.62285, 20.6486, 18.8576, 19.58985, 21.1668, 21.4559, 20.61715, 19.83975, 21.14485, 20.30175, 20.6928, 21.7897, 19.41925, 21.5295, 21.2679, 21.38165, 20.8794, 18.608, 21.62545, 22.1744, 21.62535, 19.38465, 19.83105, 21.2982, 21.209, 19.5471, 21.72385, 21.66705, 21.3419, 21.57975, 20.46505, 19.4023, 21.63085, 21.83605, 20.60265, 20.6247, 20.4025, 21.872, 20.8217, 21.6956, 20.9318, 18.2988, 21.37115, 20.3647, 19.29475, 17.87655, 19.16045, 16.92415, 19.9345, 20.0523, 20.12375, 19.52005, 19.76995, 20.92065, 21.0223, 21.0804, 20.2809, 20.5818, 20.99445, 21.45355, 19.10195, 20.73185, 19.944, 21.24885, 21.2481, 20.70195, 21.4064, 20.861, 21.45405, 21.65335, 21.128, 19.65185, 22.21015, 20.57655, 20.7349, 21.2982, 20.13755, 21.31275, 19.8403, 21.80515, 21.3452, 20.93075, 20.58185, 20.0024, 19.70325, 21.03995, 20.64165, 20.49105, 20.9356, 21.30625, 20.52515, 19.83815, 20.8854, 20.4812, 20.96025, 19.59395, 21.4441, 20.3284, 20.70795, 22.26255, 20.5658, 20.28215, 19.526, 21.474, 20.5958, 18.95705, 22.3047, 19.35185, 20.5315, 21.01435, 19.99615, 18.7576, 19.99935, 20.88475, 20.02475, 18.4809, 19.79635, 20.3359, 21.13985, 20.8123, 19.90865, 19.58645, 20.934, 22.04745, 19.61205, 21.33225, 21.3866, 20.5056, 19.1271, 19.38095, 19.8424, 20.7379, 20.88525, 20.47675, 20.7809, 20.33785, 20.0237, 21.34695, 19.58065, 20.09405, 20.6407, 21.39935, 22.165, 19.6731, 17.56165, 21.16495, 21.42305, 20.55265, 18.96075, 22.03, 20.76195, 21.035, 20.2483, 19.2184, 20.0849, 19.24475, 19.5083, 17.71775, 17.0528, 14.85645, 14.59755, 14.6158, 15.97105, 14.8718, 16.72085, 14.4307, 15.6593, 16.7664, 16.2413, 13.90745, 16.1648, 14.0496, 16.5851, 16.45115, 14.4486, 15.82815, 15.3534, 16.36835, 16.3438, 16.57565, 16.7928, 17.8882, 17.23215, 15.7896, 16.6581, 16.0051, 16.64085, 16.38795, 17.2822, 16.93145, 17.73355, 15.2868, 16.59205, 16.9967, 15.93305, 16.06745, 15.87545, 15.6236, 17.57225, 16.7302, 18.16815, 14.9841, 15.8607, 15.53085, 16.1279, 18.31035, 15.56975, 17.32405, 16.3736, 16.61295, 17.2055, 14.74935, 16.25295, 16.9021, 16.77055, 15.7795, 14.64805, 17.792, 17.7707, 18.1778, 15.7067, 16.02685, 15.7013, 14.89705, 16.452, 17.78945, 15.01385, 17.4687, 16.21965, 15.9978, 15.5514, 15.78645, 16.56045, 16.39975, 15.6001, 14.91335, 15.17685, 16.34225, 16.74885, 15.8648, 15.26595, 16.59205, 16.04785, 17.2903, 16.93325, 16.23615, 16.0669, 16.28725, 14.9294, 18.05925, 17.62205, 16.10835, 16.42245, 16.4802, 17.18185, 17.9246, 17.16275, 15.4466, 16.8206, 16.86145, 16.39225, 15.68035, 16.1044, 13.9248, 15.42955, 16.9842, 16.7074, 14.4566, 14.2811, 14.9354, 15.502, 14.86115, 15.27645, 14.92685, 14.4674, 17.57915, 15.88935, 16.1733, 14.6193, 14.6705, 17.1679, 16.515, 14.53545, 14.69915, 16.23455, 16.59355, 14.6408, 15.86575, 14.0086, 15.1, 15.30565, 17.4344, 15.3918, 16.3465, 17.4521, 17.60445, 15.36595, 14.99535, 16.97675, 16.3843, 16.35135, 14.47835, 17.42035, 15.0558, 15.64995, 16.09165, 14.7589, 15.36745, 16.4701, 14.6697, 16.23595, 16.6071, 14.55605, 14.9156, 13.9791, 17.3218, 15.45455, 14.6312, 15.8239, 16.31895, 14.1903, 16.99715, 14.9486, 15.91835, 15.02285, 16.8196, 15.66265, 14.8831, 15.5348, 21.0138, 22.52675, 21.09145, 19.93715, 22.84545, 19.15365, 22.12745, 22.7822, 20.50135, 21.7417, 16.472, 19.29245, 20.723, 21.22765, 20.8629, 22.59905, 22.85455, 21.74045, 22.8422, 23.2359, 22.3891, 21.92755, 21.7912, 22.56615, 21.8575, 22.5444, 22.7793, 21.4826, 20.49025, 21.8387, 21.50715, 18.90405, 20.5539, 21.2449, 20.8644, 20.73405, 23.03515, 22.2536, 21.54775, 22.72345, 20.07365, 22.05965, 21.02715, 18.52945, 19.1167, 22.0508, 19.0531, 21.4896, 19.53775, 21.22425, 19.0807, 22.1458, 22.599, 21.71085, 19.88745, 20.96525, 19.82205, 19.88005, 18.9547, 20.1239, 21.19555, 20.15155, 22.9937, 21.20755, 21.3163, 21.0224, 21.88785, 21.064, 22.1162, 21.71485, 19.80745, 21.88165, 21.21045, 21.91835, 21.9904, 20.2554, 18.337, 20.3864, 20.34675, 21.03315, 17.29255, 20.7853, 20.5274, 18.378, 15.98385, 20.055, 20.3552, 20.5371, 22.02925, 21.30945, 21.17535, 21.7944, 18.8215, 20.2752, 21.3734, 21.2589, 21.9082, 20.92185, 19.91105, 20.18505, 22.4583, 21.66595, 22.97595, 19.9375, 21.6135, 20.73865, 20.71895, 21.7581, 20.72485, 22.1621, 21.3408, 20.82175, 19.3688, 21.88605, 21.0268, 22.1535, 21.81735, 20.3968, 21.0934, 22.89585, 22.10035, 21.36745, 21.391, 21.22475, 21.95175, 21.3768, 21.3787, 21.9041, 22.1329, 21.9869, 21.13905, 20.6681, 20.9208, 22.2944, 21.6875, 22.2065, 21.1327, 21.39335, 19.5741, 21.7689, 22.18595, 21.13115, 20.2873, 20.859, 21.715, 21.1466, 19.76145, 19.8557, 19.26765, 21.05305, 21.9623, 23.4834, 20.83145, 19.1829, 22.4668, 22.81425, 22.31495, 21.2969, 20.74845, 22.5594, 23.1391, 21.96765, 22.00245, 21.97245, 22.4503, 18.09975, 17.91255, 21.8116, 20.2551, 19.7799, 22.75515, 20.59575, 21.88675, 22.2063, 22.47585, 20.61175, 22.8206, 22.6189, 21.9342, 23.2802, 23.0166, 22.18855, 20.08825, 21.9984, 21.70345, 20.95825, 21.54425, 20.59295, 21.2869, 21.66825, 22.19585, 21.8702, 21.98165, 23.3169, 22.0192, 22.84675, 22.0067, 19.7944, 20.54675, 20.22, 21.2356, 22.23255, 22.6131, 21.9169, 22.9578, 22.18215, 22.13805, 20.474, 20.75105, 19.8422, 21.68485, 22.12805, 21.43725, 21.5859, 21.2319, 22.9717, 21.64295, 22.28245, 20.6442, 18.75805, 22.9261, 21.831, 22.70965, 21.7726, 21.3572, 18.15745, 20.426, 21.91315, 19.37365, 21.1135, 20.16235, 21.99485, 22.11805, 21.4687, 21.6655, 21.6995, 21.46645, 22.4792, 20.481, 20.50025, 21.19025, 22.48095, 20.85675, 21.8791, 18.48435, 21.9593, 21.98705, 17.60185, 22.37855, 19.19495, 21.2265, 21.91925, 21.74575, 21.30595, 22.4238, 21.09055, 22.75035, 19.33475, 23.34415, 22.6089, 21.34225, 17.35275, 22.5817, 18.2355, 22.0816, 22.16135, 22.49015, 22.46285, 22.68865, 20.66375, 21.81235, 21.4412, 21.58775, 21.7291, 21.88335, 22.21555, 18.72405, 22.6586, 22.8011, 25.73935, 25.6034, 25.9072, 26.00705, 26.0592, 26.2011, 26.877, 26.1609, 25.52015, 25.4652, 24.88235, 23.70605, 25.0639, 25.28615, 25.4985, 24.3128, 25.5159, 24.7061, 25.11545, 23.8446, 25.36305, 25.2642, 24.2666, 24.85445, 25.54235, 24.63835]\n"
     ]
    },
    {
     "data": {
      "image/png": "[encoded data removed]",
      "text/plain": [
       "<Figure size 432x288 with 1 Axes>"
      ]
     },
     "metadata": {
      "needs_background": "light"
     },
     "output_type": "display_data"
    }
   ],
   "source": [
    "sne_x = []\n",
    "sne_y = []\n",
    "\n",
    "with open('ps1_data.txt', newline='') as csvfile:\n",
    "    ps1_data = csv.reader(csvfile, delimiter=' ')\n",
    "        \n",
    "    i = 0\n",
    "    for row in ps1_data:\n",
    "        if (i > 0):\n",
    "            sne_x.append(float(row[1]))\n",
    "            sne_y.append(float(row[4]))\n",
    "        i+= 1\n",
    "        \n",
    "print(\"sne_x\")\n",
    "print(sne_x)\n",
    "print(\"sne_y\")\n",
    "print(sne_y)\n",
    "plt.xlabel(\"z\")\n",
    "plt.scatter(sne_x, sne_y)\n",
    "plt.xscale('log')\n",
    "plt.show()"
   ]
  },
  {
   "cell_type": "code",
   "execution_count": null,
   "metadata": {},
   "outputs": [],
   "source": []
  }
 ],
 "metadata": {
  "kernelspec": {
   "display_name": "Python 3",
   "language": "python",
   "name": "python3"
  },
  "language_info": {
   "codemirror_mode": {
    "name": "ipython",
    "version": 3
   },
   "file_extension": ".py",
   "mimetype": "text/x-python",
   "name": "python",
   "nbconvert_exporter": "python",
   "pygments_lexer": "ipython3",
   "version": "3.8.2"
  }
 },
 "nbformat": 4,
 "nbformat_minor": 4
}
